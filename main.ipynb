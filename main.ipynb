{
 "cells": [
  {
   "cell_type": "code",
   "execution_count": 1,
   "metadata": {},
   "outputs": [],
   "source": [
    "import pandas as pd\n",
    "import numpy as np\n",
    "from scipy.stats.mstats import winsorize "
   ]
  },
  {
   "cell_type": "code",
   "execution_count": 2,
   "metadata": {},
   "outputs": [],
   "source": [
    "file = 'ACC_VAR.xlsx'\n"
   ]
  },
  {
   "cell_type": "code",
   "execution_count": 3,
   "metadata": {},
   "outputs": [
    {
     "name": "stderr",
     "output_type": "stream",
     "text": [
      "C:\\Users\\Shashank\\AppData\\Local\\Temp\\ipykernel_14256\\2769278733.py:5: FutureWarning: 'M' is deprecated and will be removed in a future version, please use 'ME' instead.\n",
      "  NITA.resample('M', on='Date')\n",
      "C:\\Users\\Shashank\\AppData\\Local\\Packages\\PythonSoftwareFoundation.Python.3.11_qbz5n2kfra8p0\\LocalCache\\local-packages\\Python311\\site-packages\\pandas\\core\\groupby\\grouper.py:381: FutureWarning: Dtype inference on a pandas object (Series, Index, ExtensionArray) is deprecated. The Index constructor will keep the original dtype in the future. Call `infer_objects` on the result to get the old behavior.\n",
      "  ax = Index(obj[key], name=key)\n"
     ]
    },
    {
     "name": "stdout",
     "output_type": "stream",
     "text": [
      "                        NITA\n",
      "company Date                \n",
      "1       1986-12-31       NaN\n",
      "2       1986-12-31  0.040463\n",
      "3       1986-12-31       NaN\n",
      "4       1986-12-31       NaN\n",
      "5       1986-12-31       NaN\n",
      "(856750, 1)\n",
      "                NITA\n",
      "count  570980.000000\n",
      "mean        0.049491\n",
      "std        26.732667\n",
      "min      -378.894926\n",
      "25%         0.000000\n",
      "50%         0.000000\n",
      "75%         0.023514\n",
      "max      9697.389093\n"
     ]
    }
   ],
   "source": [
    "NITA = pd.read_excel(file, sheet_name='NITA')\n",
    "\n",
    "NITA = pd.melt(NITA, id_vars=['company'], var_name='Date', value_name='NITA')\n",
    "NITA = pd.DataFrame(NITA)\n",
    "NITA.resample('M', on='Date')\n",
    "NITA['Date'] = pd.to_datetime(NITA['Date'])\n",
    "NITA = NITA.set_index(['company', 'Date'])\n",
    "print(NITA.head())\n",
    "print(NITA.shape)\n",
    "print(NITA.describe())\n"
   ]
  },
  {
   "cell_type": "code",
   "execution_count": null,
   "metadata": {},
   "outputs": [],
   "source": []
  },
  {
   "cell_type": "code",
   "execution_count": 4,
   "metadata": {},
   "outputs": [
    {
     "name": "stderr",
     "output_type": "stream",
     "text": [
      "C:\\Users\\Shashank\\AppData\\Local\\Temp\\ipykernel_14256\\504028960.py:5: FutureWarning: 'M' is deprecated and will be removed in a future version, please use 'ME' instead.\n",
      "  NIMTA.resample('M', on='Date')\n",
      "C:\\Users\\Shashank\\AppData\\Local\\Packages\\PythonSoftwareFoundation.Python.3.11_qbz5n2kfra8p0\\LocalCache\\local-packages\\Python311\\site-packages\\pandas\\core\\groupby\\grouper.py:381: FutureWarning: Dtype inference on a pandas object (Series, Index, ExtensionArray) is deprecated. The Index constructor will keep the original dtype in the future. Call `infer_objects` on the result to get the old behavior.\n",
      "  ax = Index(obj[key], name=key)\n"
     ]
    },
    {
     "name": "stdout",
     "output_type": "stream",
     "text": [
      "                       NIMTA\n",
      "company Date                \n",
      "1       1986-12-31       NaN\n",
      "2       1986-12-31  0.036788\n",
      "3       1986-12-31       NaN\n",
      "4       1986-12-31       NaN\n",
      "5       1986-12-31       NaN\n",
      "(856750, 1)\n",
      "               NIMTA\n",
      "count  570798.000000\n",
      "mean        0.167288\n",
      "std        71.884357\n",
      "min      -712.136572\n",
      "25%         0.000000\n",
      "50%         0.000000\n",
      "75%         0.022243\n",
      "max     27058.380793\n"
     ]
    }
   ],
   "source": [
    "NIMTA = pd.read_excel(file, sheet_name='NIMTA')\n",
    "\n",
    "NIMTA = pd.melt(NIMTA, id_vars=['company'], var_name='Date', value_name='NIMTA')\n",
    "NIMTA = pd.DataFrame(NIMTA)\n",
    "NIMTA.resample('M', on='Date')\n",
    "NIMTA['Date'] = pd.to_datetime(NIMTA['Date'])\n",
    "NIMTA = NIMTA.set_index(['company', 'Date'])\n",
    "print(NIMTA.head())\n",
    "print(NIMTA.shape)\n",
    "print(NIMTA.describe())"
   ]
  },
  {
   "cell_type": "code",
   "execution_count": 5,
   "metadata": {},
   "outputs": [
    {
     "name": "stderr",
     "output_type": "stream",
     "text": [
      "C:\\Users\\Shashank\\AppData\\Local\\Temp\\ipykernel_14256\\1308204376.py:5: FutureWarning: 'M' is deprecated and will be removed in a future version, please use 'ME' instead.\n",
      "  TLMTA.resample('M', on='Date')\n",
      "C:\\Users\\Shashank\\AppData\\Local\\Packages\\PythonSoftwareFoundation.Python.3.11_qbz5n2kfra8p0\\LocalCache\\local-packages\\Python311\\site-packages\\pandas\\core\\groupby\\grouper.py:381: FutureWarning: Dtype inference on a pandas object (Series, Index, ExtensionArray) is deprecated. The Index constructor will keep the original dtype in the future. Call `infer_objects` on the result to get the old behavior.\n",
      "  ax = Index(obj[key], name=key)\n"
     ]
    },
    {
     "name": "stdout",
     "output_type": "stream",
     "text": [
      "                       TLMTA\n",
      "company Date                \n",
      "1       1986-12-31       NaN\n",
      "2       1986-12-31  0.568149\n",
      "3       1986-12-31       NaN\n",
      "4       1986-12-31       NaN\n",
      "5       1986-12-31       NaN\n",
      "(856750, 1)\n",
      "               TLMTA\n",
      "count  570799.000000\n",
      "mean        0.206372\n",
      "std         0.303061\n",
      "min        -1.766941\n",
      "25%         0.000000\n",
      "50%         0.000634\n",
      "75%         0.356999\n",
      "max         7.238873\n"
     ]
    }
   ],
   "source": [
    "TLMTA = pd.read_excel(file, sheet_name='TLMTA')\n",
    "\n",
    "TLMTA = pd.melt(TLMTA, id_vars=['company'], var_name='Date', value_name='TLMTA')\n",
    "TLMTA = pd.DataFrame(TLMTA)\n",
    "TLMTA.resample('M', on='Date')\n",
    "TLMTA['Date'] = pd.to_datetime(TLMTA['Date'])\n",
    "TLMTA = TLMTA.set_index(['company', 'Date'])\n",
    "print(TLMTA.head())\n",
    "print(TLMTA.shape)\n",
    "print(TLMTA.describe())"
   ]
  },
  {
   "cell_type": "code",
   "execution_count": 6,
   "metadata": {},
   "outputs": [
    {
     "name": "stdout",
     "output_type": "stream",
     "text": [
      "               TLMTA\n",
      "count  570799.000000\n",
      "mean        0.206372\n",
      "std         0.303061\n",
      "min        -1.766941\n",
      "25%         0.000000\n",
      "50%         0.000634\n",
      "75%         0.356999\n",
      "max         7.238873\n"
     ]
    }
   ],
   "source": [
    "\n",
    "print(TLMTA.describe())\n"
   ]
  },
  {
   "cell_type": "code",
   "execution_count": 7,
   "metadata": {},
   "outputs": [
    {
     "name": "stderr",
     "output_type": "stream",
     "text": [
      "C:\\Users\\Shashank\\AppData\\Local\\Temp\\ipykernel_14256\\2118301776.py:5: FutureWarning: 'M' is deprecated and will be removed in a future version, please use 'ME' instead.\n",
      "  TLTA.resample('M', on='Date')\n",
      "C:\\Users\\Shashank\\AppData\\Local\\Packages\\PythonSoftwareFoundation.Python.3.11_qbz5n2kfra8p0\\LocalCache\\local-packages\\Python311\\site-packages\\pandas\\core\\groupby\\grouper.py:381: FutureWarning: Dtype inference on a pandas object (Series, Index, ExtensionArray) is deprecated. The Index constructor will keep the original dtype in the future. Call `infer_objects` on the result to get the old behavior.\n",
      "  ax = Index(obj[key], name=key)\n"
     ]
    },
    {
     "name": "stdout",
     "output_type": "stream",
     "text": [
      "                       TLTA\n",
      "company Date               \n",
      "1       1986-12-31      NaN\n",
      "2       1986-12-31  0.62491\n",
      "3       1986-12-31      NaN\n",
      "4       1986-12-31      NaN\n",
      "5       1986-12-31      NaN\n",
      "(856750, 1)\n",
      "                TLTA\n",
      "count  570980.000000\n",
      "mean       -0.385864\n",
      "std       223.985524\n",
      "min    -84535.181576\n",
      "25%         0.000000\n",
      "50%         0.000409\n",
      "75%         0.425633\n",
      "max       623.846154\n"
     ]
    }
   ],
   "source": [
    "TLTA = pd.read_excel(file, sheet_name='TLTA')\n",
    "\n",
    "TLTA = pd.melt(TLTA, id_vars=['company'], var_name='Date', value_name='TLTA')\n",
    "TLTA = pd.DataFrame(TLTA)\n",
    "TLTA.resample('M', on='Date')\n",
    "TLTA['Date'] = pd.to_datetime(TLTA['Date'])\n",
    "TLTA = TLTA.set_index(['company', 'Date'])\n",
    "print(TLTA.head())\n",
    "print(TLTA.shape)\n",
    "print(TLTA.describe())"
   ]
  },
  {
   "cell_type": "code",
   "execution_count": 8,
   "metadata": {},
   "outputs": [
    {
     "name": "stderr",
     "output_type": "stream",
     "text": [
      "C:\\Users\\Shashank\\AppData\\Local\\Temp\\ipykernel_14256\\1978352352.py:5: FutureWarning: 'M' is deprecated and will be removed in a future version, please use 'ME' instead.\n",
      "  CASHMTA.resample('M', on='Date')\n",
      "C:\\Users\\Shashank\\AppData\\Local\\Packages\\PythonSoftwareFoundation.Python.3.11_qbz5n2kfra8p0\\LocalCache\\local-packages\\Python311\\site-packages\\pandas\\core\\groupby\\grouper.py:381: FutureWarning: Dtype inference on a pandas object (Series, Index, ExtensionArray) is deprecated. The Index constructor will keep the original dtype in the future. Call `infer_objects` on the result to get the old behavior.\n",
      "  ax = Index(obj[key], name=key)\n"
     ]
    },
    {
     "name": "stdout",
     "output_type": "stream",
     "text": [
      "                     CASHMTA\n",
      "company Date                \n",
      "1       1986-12-31       NaN\n",
      "2       1986-12-31  0.041141\n",
      "3       1986-12-31       NaN\n",
      "4       1986-12-31       NaN\n",
      "5       1986-12-31       NaN\n",
      "(856750, 1)\n",
      "             CASHMTA\n",
      "count  570771.000000\n",
      "mean        0.334790\n",
      "std        20.702480\n",
      "min       -75.820215\n",
      "25%         0.000000\n",
      "50%         0.000000\n",
      "75%         0.060527\n",
      "max      6355.750000\n"
     ]
    }
   ],
   "source": [
    "CASHMTA = pd.read_excel(file, sheet_name='CASHMTA')\n",
    "\n",
    "CASHMTA = pd.melt(CASHMTA, id_vars=['company'], var_name='Date', value_name='CASHMTA')\n",
    "CASHMTA = pd.DataFrame(CASHMTA)\n",
    "CASHMTA.resample('M', on='Date')\n",
    "CASHMTA['Date'] = pd.to_datetime(CASHMTA['Date'])\n",
    "CASHMTA = CASHMTA.set_index(['company', 'Date'])\n",
    "print(CASHMTA.head())\n",
    "print(CASHMTA.shape)\n",
    "print(CASHMTA.describe())\n"
   ]
  },
  {
   "cell_type": "code",
   "execution_count": 9,
   "metadata": {},
   "outputs": [
    {
     "name": "stdout",
     "output_type": "stream",
     "text": [
      "             CASHMTA\n",
      "count  570771.000000\n",
      "mean        0.334790\n",
      "std        20.702480\n",
      "min       -75.820215\n",
      "25%         0.000000\n",
      "50%         0.000000\n",
      "75%         0.060527\n",
      "max      6355.750000\n"
     ]
    }
   ],
   "source": [
    "\n",
    "print(CASHMTA.describe())\n"
   ]
  },
  {
   "cell_type": "code",
   "execution_count": 10,
   "metadata": {},
   "outputs": [],
   "source": [
    "file_1 = 'MAR_VAR1.xlsx'\n",
    "\n"
   ]
  },
  {
   "cell_type": "code",
   "execution_count": 11,
   "metadata": {},
   "outputs": [
    {
     "name": "stdout",
     "output_type": "stream",
     "text": [
      "                       EXRET\n",
      "company Date                \n",
      "1       1986-12-31       NaN\n",
      "2       1986-12-31 -0.175893\n",
      "3       1986-12-31       NaN\n",
      "4       1986-12-31       NaN\n",
      "5       1986-12-31       NaN\n",
      "(2558750, 1)\n"
     ]
    }
   ],
   "source": [
    "EXRET = pd.read_excel(file_1, sheet_name='EXRET')\n",
    "EXRET = pd.melt(EXRET, id_vars=['company'], var_name='Date', value_name='EXRET')\n",
    "EXRET = pd.DataFrame(EXRET)\n",
    "EXRET['Date'] = pd.to_datetime(EXRET['Date'])\n",
    "EXRET = EXRET.set_index(['company', 'Date'])\n",
    "print(EXRET.head())\n",
    "print(EXRET.shape)\n"
   ]
  },
  {
   "cell_type": "code",
   "execution_count": 12,
   "metadata": {},
   "outputs": [
    {
     "name": "stdout",
     "output_type": "stream",
     "text": [
      "                    SIGMA\n",
      "company Date             \n",
      "1       1987-01-31    NaN\n",
      "2       1987-01-31  0.236\n",
      "3       1987-01-31    NaN\n",
      "4       1987-01-31    NaN\n",
      "5       1987-01-31    NaN\n",
      "(2553000, 1)\n"
     ]
    }
   ],
   "source": [
    "SIGMA = pd.read_excel(file_1, sheet_name='SIGMA')\n",
    "SIGMA = pd.melt(SIGMA, id_vars=['company'], var_name='Date', value_name='SIGMA')\n",
    "SIGMA = pd.DataFrame(SIGMA)\n",
    "SIGMA['Date'] = pd.to_datetime(SIGMA['Date'])\n",
    "SIGMA = SIGMA.set_index(['company', 'Date'])\n",
    "print(SIGMA.head())\n",
    "print(SIGMA.shape)"
   ]
  },
  {
   "cell_type": "code",
   "execution_count": 13,
   "metadata": {},
   "outputs": [
    {
     "name": "stdout",
     "output_type": "stream",
     "text": [
      "                       RSIZE\n",
      "company Date                \n",
      "1       1986-12-31       NaN\n",
      "2       1986-12-31 -3.342317\n",
      "3       1986-12-31       NaN\n",
      "4       1986-12-31       NaN\n",
      "5       1986-12-31       NaN\n",
      "(2558750, 1)\n"
     ]
    }
   ],
   "source": [
    "RSIZE = pd.read_excel(file_1, sheet_name='RSIZE')\n",
    "RSIZE = pd.melt(RSIZE, id_vars=['company'], var_name='Date', value_name='RSIZE')\n",
    "RSIZE = pd.DataFrame(RSIZE)\n",
    "RSIZE['Date'] = pd.to_datetime(RSIZE['Date'])\n",
    "RSIZE = RSIZE.set_index(['company', 'Date'])\n",
    "print(RSIZE.head())\n",
    "\n",
    "print(RSIZE.shape)"
   ]
  },
  {
   "cell_type": "code",
   "execution_count": 14,
   "metadata": {},
   "outputs": [
    {
     "name": "stdout",
     "output_type": "stream",
     "text": [
      "                          MB\n",
      "company Date                \n",
      "1       1986-12-31       NaN\n",
      "2       1986-12-31  1.771389\n",
      "3       1986-12-31       NaN\n",
      "4       1986-12-31       NaN\n",
      "5       1986-12-31       NaN\n",
      "(2558750, 1)\n"
     ]
    }
   ],
   "source": [
    "MB = pd.read_excel(file_1, sheet_name='MB')\n",
    "MB = pd.melt(MB, id_vars=['company'], var_name='Date', value_name='MB')\n",
    "MB = pd.DataFrame(MB)\n",
    "MB['Date'] = pd.to_datetime(MB['Date'])\n",
    "MB = MB.set_index(['company', 'Date'])\n",
    "print(MB.head())\n",
    "print(MB.shape)\n"
   ]
  },
  {
   "cell_type": "code",
   "execution_count": 15,
   "metadata": {},
   "outputs": [
    {
     "name": "stdout",
     "output_type": "stream",
     "text": [
      "                       Price\n",
      "company Date                \n",
      "1       1986-12-31       NaN\n",
      "2       1986-12-31  0.444045\n",
      "3       1986-12-31       NaN\n",
      "4       1986-12-31       NaN\n",
      "5       1986-12-31       NaN\n",
      "(2558750, 1)\n"
     ]
    }
   ],
   "source": [
    "Price = pd.read_excel(file_1, sheet_name='Price')\n",
    "Price = pd.melt(Price, id_vars=['company'], var_name='Date', value_name='Price')\n",
    "Price = pd.DataFrame(Price)\n",
    "Price['Date'] = pd.to_datetime(Price['Date'])\n",
    "Price = Price.set_index(['company', 'Date'])\n",
    "print(Price.head())\n",
    "print(Price.shape)\n"
   ]
  },
  {
   "cell_type": "code",
   "execution_count": 16,
   "metadata": {},
   "outputs": [
    {
     "name": "stdout",
     "output_type": "stream",
     "text": [
      "                    Target\n",
      "company Date              \n",
      "1       1987-01-31       0\n",
      "2       1987-01-31       0\n",
      "3       1987-01-31       0\n",
      "4       1987-01-31       0\n",
      "5       1987-01-31       0\n",
      "(2553000, 1)\n"
     ]
    }
   ],
   "source": [
    "Target = pd.read_excel(file_1, sheet_name='Target')\n",
    "Target = pd.melt(Target, id_vars=['company'], var_name='Date', value_name='Target')\n",
    "Target = pd.DataFrame(Target)\n",
    "Target['Date'] = pd.to_datetime(Target['Date'])\n",
    "Target = Target.set_index(['company', 'Date'])\n",
    "print(Target.head())\n",
    "print(Target.shape)\n",
    "\n",
    "\n"
   ]
  },
  {
   "cell_type": "code",
   "execution_count": 88,
   "metadata": {
    "vscode": {
     "languageId": "javascript"
    }
   },
   "outputs": [
    {
     "name": "stdout",
     "output_type": "stream",
     "text": [
      "(2564500, 9)\n",
      "               NIMTA          TLMTA        CASHMTA         SIGMA  \\\n",
      "count  570798.000000  570799.000000  570771.000000  1.612237e+06   \n",
      "mean        0.167288       0.206372       0.334790  2.805240e-01   \n",
      "std        71.884357       0.303061      20.702480  3.278968e-01   \n",
      "min      -712.136572      -1.766941     -75.820215  0.000000e+00   \n",
      "25%         0.000000       0.000000       0.000000  0.000000e+00   \n",
      "50%         0.000000       0.000634       0.000000  2.268000e-01   \n",
      "75%         0.022243       0.356999       0.060527  4.267000e-01   \n",
      "max     27058.380793       7.238873    6355.750000  1.595280e+01   \n",
      "\n",
      "              RSIZE            MB         Price        Target  \n",
      "count  1.616132e+06  1.704998e+06  1.615697e+06  2.553000e+06  \n",
      "mean  -4.680791e+00  6.008979e+00 -2.757944e-01  1.038778e-03  \n",
      "std    1.075210e+00  4.307031e+00  9.322288e-01  3.221334e-02  \n",
      "min   -1.265812e+01  0.000000e+00 -6.000000e+00  0.000000e+00  \n",
      "25%   -5.378226e+00  1.226901e+00 -7.300203e-01  0.000000e+00  \n",
      "50%   -4.671293e+00  1.000000e+01 -6.148027e-02  0.000000e+00  \n",
      "75%   -3.972065e+00  1.000000e+01  3.584108e-01  0.000000e+00  \n",
      "max   -9.169539e-01  1.000000e+01  1.176091e+00  1.000000e+00  \n"
     ]
    }
   ],
   "source": [
    "DF = pd.concat([ NIMTA, TLMTA, CASHMTA, EXRET, SIGMA, RSIZE, MB, Price,Target], axis=1)\n",
    "print(DF.shape)\n",
    "print(DF.describe())\n",
    "DF.dropna(inplace=True)\n",
    "\n",
    "\n",
    "\n"
   ]
  },
  {
   "cell_type": "code",
   "execution_count": 92,
   "metadata": {
    "vscode": {
     "languageId": "javascript"
    }
   },
   "outputs": [
    {
     "name": "stdout",
     "output_type": "stream",
     "text": [
      "            NIMTA     TLMTA  CASHMTA     EXRET   SIGMA     RSIZE        MB  \\\n",
      "company                                                                      \n",
      "1        0.010613  0.883888  0.03864 -0.007384  0.5004 -3.666083  9.999804   \n",
      "1        0.010613  0.883888  0.03864 -0.007384  0.5004 -3.666083  9.999804   \n",
      "1        0.010613  0.883888  0.03864 -0.007384  0.5004 -3.666083  9.999804   \n",
      "1        0.010613  0.883888  0.03864 -0.007384  0.5004 -3.666083  9.999804   \n",
      "1        0.010613  0.883888  0.03864 -0.007384  0.5004 -3.666083  9.999804   \n",
      "\n",
      "            Price  Target  \n",
      "company                    \n",
      "1       -0.124939     0.0  \n",
      "1       -0.124939     0.0  \n",
      "1       -0.124939     0.0  \n",
      "1       -0.124939     0.0  \n",
      "1       -0.124939     0.0  \n",
      "(531745, 9)\n",
      "               NIMTA          TLMTA        CASHMTA          SIGMA  \\\n",
      "count  531745.000000  531745.000000  531745.000000  531745.000000   \n",
      "mean        0.000310       0.100963       0.027661       0.215399   \n",
      "std         0.040459       0.185409       0.087526       0.243774   \n",
      "min        -2.438833       0.000000       0.000000       0.000000   \n",
      "25%         0.000000       0.000000       0.000000       0.000000   \n",
      "\n",
      "               RSIZE             MB          Price         Target  \n",
      "count  531745.000000  531745.000000  531745.000000  531745.000000  \n",
      "mean       -4.724342       7.190411      -0.312279       0.003669  \n",
      "std         1.056405       3.896170       0.946292       0.060462  \n",
      "min        -8.333476       0.035679      -5.000000       0.000000  \n",
      "25%        -5.424539       2.433324      -0.809668       0.000000  \n",
      "               NIMTA          TLMTA        CASHMTA          SIGMA  \\\n",
      "count       8.000000       8.000000       8.000000       8.000000   \n",
      "mean    66467.941702   66468.300152   66468.659828   66469.106940   \n",
      "std    188000.321747  188000.176909  188000.031584  187999.850932   \n",
      "min        -2.438833       0.000000       0.000000       0.000000   \n",
      "25%         0.000000       0.000000       0.000000       0.134213   \n",
      "50%         0.000155       0.114980       0.026398       0.229586   \n",
      "75%         0.263264       0.385518       1.100219       1.975075   \n",
      "max    531745.000000  531745.000000  531745.000000  531745.000000   \n",
      "\n",
      "               RSIZE             MB          Price         Target  \n",
      "count       8.000000       8.000000       8.000000       8.000000  \n",
      "mean    66464.696892   66473.569448   66467.659288   66468.258016  \n",
      "std    188001.632867  187998.047831  188000.435867  188000.193935  \n",
      "min        -8.333476       0.035679      -5.000000       0.000000  \n",
      "25%        -4.899391       3.530458      -0.436626       0.000000  \n",
      "50%        -4.365859       8.595205       0.136934       0.001835  \n",
      "75%        -0.686295      10.000000       1.003742       0.295346  \n",
      "max    531745.000000  531745.000000  531745.000000  531745.000000  \n"
     ]
    }
   ],
   "source": [
    "DF_crossection = pd.DataFrame()\n",
    "DF_crossection = DF.groupby('company')[['NIMTA','TLMTA','CASHMTA','EXRET','SIGMA','RSIZE','MB','Price']].median()\n",
    "DF_crossection = pd.merge(DF_crossection, DF[['Target']], on='company', how='left')\n",
    "\n",
    "\n",
    "\n",
    "\n",
    "print(DF_crossection.head())\n",
    "print(DF_crossection.shape)\n",
    "\n",
    "\n",
    "All_firms_summary2 = pd.DataFrame( DF_crossection.describe())\n",
    "print(All_firms_summary2.head())\n",
    "print(All_firms_summary2.describe())\n",
    "Failed_firms1 = DF_crossection[DF_crossection['Target'] == 1]\n",
    "Failed_firms_summary1 = pd.DataFrame(Failed_firms1.describe())\n"
   ]
  },
  {
   "cell_type": "code",
   "execution_count": null,
   "metadata": {
    "vscode": {
     "languageId": "javascript"
    }
   },
   "outputs": [],
   "source": [
    "\n",
    "\n"
   ]
  },
  {
   "cell_type": "code",
   "execution_count": null,
   "metadata": {
    "vscode": {
     "languageId": "javascript"
    }
   },
   "outputs": [],
   "source": [
    "\n",
    "\n"
   ]
  },
  {
   "cell_type": "code",
   "execution_count": null,
   "metadata": {
    "vscode": {
     "languageId": "javascript"
    }
   },
   "outputs": [
    {
     "name": "stdout",
     "output_type": "stream",
     "text": [
      "               NIMTA          TLMTA        CASHMTA          EXRET  \\\n",
      "count  531745.000000  531745.000000  531745.000000  531745.000000   \n",
      "mean       -0.014396       0.164038       0.060236      -0.052783   \n",
      "std         0.678692       0.246496       0.267934       0.740063   \n",
      "min      -315.514236      -1.766941     -12.726090     -52.626188   \n",
      "25%         0.000000       0.000000       0.000000      -0.033506   \n",
      "50%         0.000000       0.000000       0.000000      -0.005314   \n",
      "75%         0.019344       0.291723       0.050416       0.018994   \n",
      "max        55.170968       7.238873      63.712186      10.347913   \n",
      "\n",
      "               SIGMA          RSIZE             MB          Price  \\\n",
      "count  531745.000000  531745.000000  531745.000000  531745.000000   \n",
      "mean        0.279799      -4.676275       6.314941      -0.276479   \n",
      "std         0.319527       1.070566       4.184914       0.931836   \n",
      "min         0.000000     -12.658122       0.000189      -6.000000   \n",
      "25%         0.000000      -5.373354       1.491530      -0.732828   \n",
      "50%         0.227900      -4.669175      10.000000      -0.062984   \n",
      "75%         0.427300      -3.970280      10.000000       0.357935   \n",
      "max        15.952800      -0.920174      10.000000       1.176091   \n",
      "\n",
      "              Target  \n",
      "count  531745.000000  \n",
      "mean        0.003669  \n",
      "std         0.060462  \n",
      "min         0.000000  \n",
      "25%         0.000000  \n",
      "50%         0.000000  \n",
      "75%         0.000000  \n",
      "max         1.000000  \n"
     ]
    }
   ],
   "source": [
    "DF['EXRET'] = pd.to_numeric(DF['EXRET'], errors='coerce')\n",
    "DF['SIGMA'] = pd.to_numeric(DF['SIGMA'], errors='coerce')\n",
    "DF['RSIZE'] = pd.to_numeric(DF['RSIZE'], errors='coerce')\n",
    "DF['MB'] = pd.to_numeric(DF['MB'], errors='coerce')\n",
    "DF['Price'] = pd.to_numeric(DF['Price'], errors='coerce')\n",
    "DF['Target'] = pd.to_numeric(DF['Target'], errors='coerce')\n",
    "DF['NIMTA'] = pd.to_numeric(DF['NIMTA'], errors='coerce')\n",
    "DF['TLMTA'] = pd.to_numeric(DF['TLMTA'], errors='coerce')\n",
    "DF['CASHMTA'] = pd.to_numeric(DF['CASHMTA'], errors='coerce')\n",
    "\n",
    "print(DF.describe())\n",
    "\n"
   ]
  },
  {
   "cell_type": "code",
   "execution_count": null,
   "metadata": {
    "vscode": {
     "languageId": "javascript"
    }
   },
   "outputs": [],
   "source": [
    "\n",
    "DF['NIMTA'] = DF.groupby('company')['NIMTA'].shift(2)\n",
    "DF['TLMTA'] = DF.groupby('company')['TLMTA'].shift(2)\n",
    "DF['CASHMTA'] = DF.groupby('company')['CASHMTA'].shift(2)\n",
    "\n",
    "DF['SIGMA'] = DF.groupby('company')['SIGMA'].shift(-1)\n",
    "DF['RSIZE'] = DF.groupby('company')['RSIZE'].shift(-1)\n",
    "DF['MB'] = DF.groupby('company')['MB'].shift(-1)\n",
    "DF['Price'] = DF.groupby('company')['Price'].shift(-1)\n",
    "\n",
    "\n",
    "\n",
    "\n",
    "\n"
   ]
  },
  {
   "cell_type": "code",
   "execution_count": null,
   "metadata": {
    "vscode": {
     "languageId": "javascript"
    }
   },
   "outputs": [
    {
     "name": "stdout",
     "output_type": "stream",
     "text": [
      "(526036, 9)\n",
      "               NIMTA          TLMTA        CASHMTA          EXRET  \\\n",
      "count  514645.000000  514645.000000  514645.000000  526036.000000   \n",
      "mean       -0.014370       0.166902       0.060884      -0.052082   \n",
      "std         0.689173       0.247590       0.261808       0.739951   \n",
      "min      -315.514236      -1.766941     -12.726090     -52.626188   \n",
      "25%         0.000000       0.000000       0.000000      -0.033506   \n",
      "50%         0.000000       0.000000       0.000000      -0.005421   \n",
      "75%         0.020664       0.299314       0.051791       0.018122   \n",
      "max        55.170968       7.238873      63.712186      10.347913   \n",
      "\n",
      "               SIGMA          RSIZE             MB          Price  \\\n",
      "count  526036.000000  526036.000000  526036.000000  526036.000000   \n",
      "mean        0.280582      -4.678084       6.338105      -0.278707   \n",
      "std         0.318942       1.072541       4.186221       0.933879   \n",
      "min         0.000000     -12.658122       0.000189      -6.000000   \n",
      "25%         0.000000      -5.377243       1.492775      -0.732828   \n",
      "50%         0.229000      -4.671087      10.000000      -0.066234   \n",
      "75%         0.428600      -3.969757      10.000000       0.359835   \n",
      "max        12.762200      -0.920174      10.000000       1.176091   \n",
      "\n",
      "              Target  \n",
      "count  526036.000000  \n",
      "mean        0.003673  \n",
      "std         0.060492  \n",
      "min         0.000000  \n",
      "25%         0.000000  \n",
      "50%         0.000000  \n",
      "75%         0.000000  \n",
      "max         1.000000  \n",
      "                    NIMTA  TLMTA  CASHMTA     EXRET   SIGMA     RSIZE  \\\n",
      "company Date                                                            \n",
      "2       1987-03-31    NaN    NaN      NaN  0.190727  0.2476 -3.340859   \n",
      "12      1987-03-31    NaN    NaN      NaN  0.888932  0.3203 -4.318937   \n",
      "13      1987-03-31    NaN    NaN      NaN  1.129370  0.7002 -4.425957   \n",
      "14      1987-03-31    NaN    NaN      NaN -0.199560  0.2281 -3.984678   \n",
      "34      1987-03-31    NaN    NaN      NaN -0.561893  0.1973 -3.131324   \n",
      "\n",
      "                           MB     Price  Target  \n",
      "company Date                                     \n",
      "2       1987-03-31   1.739198  0.591065     0.0  \n",
      "12      1987-03-31  10.000000  0.195900     0.0  \n",
      "13      1987-03-31   7.741921  0.096910     0.0  \n",
      "14      1987-03-31   5.138548 -0.079251     0.0  \n",
      "34      1987-03-31   0.785747 -0.351250     0.0  \n"
     ]
    }
   ],
   "source": [
    "\n",
    "DF = DF.dropna(subset=['RSIZE','EXRET'])\n",
    "\n",
    "print(DF.shape)\n",
    "print(DF.describe())\n",
    "print(DF.head())\n",
    "\n"
   ]
  },
  {
   "cell_type": "code",
   "execution_count": null,
   "metadata": {
    "vscode": {
     "languageId": "javascript"
    }
   },
   "outputs": [
    {
     "name": "stderr",
     "output_type": "stream",
     "text": [
      "C:\\Users\\Shashank\\AppData\\Local\\Temp\\ipykernel_14256\\3321314361.py:1: SettingWithCopyWarning: \n",
      "A value is trying to be set on a copy of a slice from a DataFrame.\n",
      "Try using .loc[row_indexer,col_indexer] = value instead\n",
      "\n",
      "See the caveats in the documentation: https://pandas.pydata.org/pandas-docs/stable/user_guide/indexing.html#returning-a-view-versus-a-copy\n",
      "  DF['EXRET'] = winsorize(DF['EXRET'], limits=[0.05, 0.05])\n"
     ]
    }
   ],
   "source": [
    "DF['EXRET'] = winsorize(DF['EXRET'], limits=[0.05, 0.05])\n",
    "\n",
    "\n"
   ]
  },
  {
   "cell_type": "code",
   "execution_count": null,
   "metadata": {
    "vscode": {
     "languageId": "javascript"
    }
   },
   "outputs": [
    {
     "name": "stderr",
     "output_type": "stream",
     "text": [
      "C:\\Users\\Shashank\\AppData\\Local\\Temp\\ipykernel_14256\\2485483770.py:1: SettingWithCopyWarning: \n",
      "A value is trying to be set on a copy of a slice from a DataFrame.\n",
      "Try using .loc[row_indexer,col_indexer] = value instead\n",
      "\n",
      "See the caveats in the documentation: https://pandas.pydata.org/pandas-docs/stable/user_guide/indexing.html#returning-a-view-versus-a-copy\n",
      "  DF['EXRET'] = DF.groupby('Date')['EXRET'].transform(lambda x: x.fillna(x.mean()))\n"
     ]
    }
   ],
   "source": [
    "DF['EXRET'] = DF.groupby('Date')['EXRET'].transform(lambda x: x.fillna(x.mean()))\n",
    "\n",
    "\n",
    "\n",
    "\n",
    "\n",
    "\n"
   ]
  },
  {
   "cell_type": "code",
   "execution_count": null,
   "metadata": {
    "vscode": {
     "languageId": "javascript"
    }
   },
   "outputs": [
    {
     "name": "stdout",
     "output_type": "stream",
     "text": [
      "1.0\n"
     ]
    },
    {
     "name": "stderr",
     "output_type": "stream",
     "text": [
      "C:\\Users\\Shashank\\AppData\\Local\\Temp\\ipykernel_14256\\3838463318.py:8: SettingWithCopyWarning: \n",
      "A value is trying to be set on a copy of a slice from a DataFrame.\n",
      "Try using .loc[row_indexer,col_indexer] = value instead\n",
      "\n",
      "See the caveats in the documentation: https://pandas.pydata.org/pandas-docs/stable/user_guide/indexing.html#returning-a-view-versus-a-copy\n",
      "  DF['EXRETAvg'] = DF.groupby('company')['EXRET'].transform(lambda x: x.rolling(window=n).apply(lambda x: (weights*x).sum(), raw=True))\n"
     ]
    }
   ],
   "source": [
    "n = 11\n",
    "phi = 2**(-1)\n",
    "\n",
    "weights = np.array([phi**(i*1) for i in range(n)])\n",
    "weights = weights / weights.sum()\n",
    "print(weights.sum())\n",
    "\n",
    "DF['EXRETAvg'] = DF.groupby('company')['EXRET'].transform(lambda x: x.rolling(window=n).apply(lambda x: (weights*x).sum(), raw=True))"
   ]
  },
  {
   "cell_type": "code",
   "execution_count": null,
   "metadata": {
    "vscode": {
     "languageId": "javascript"
    }
   },
   "outputs": [],
   "source": [
    "\n"
   ]
  },
  {
   "cell_type": "code",
   "execution_count": null,
   "metadata": {
    "vscode": {
     "languageId": "javascript"
    }
   },
   "outputs": [
    {
     "name": "stdout",
     "output_type": "stream",
     "text": [
      "                       NIMTA     TLMTA   CASHMTA     EXRET   SIGMA     RSIZE  \\\n",
      "company Date                                                                   \n",
      "2       1987-09-30  0.035572  0.549374  0.039782  0.352003  0.2943 -3.271919   \n",
      "12      1987-09-30  0.000000  0.000000  0.000000  0.264390  0.4666 -4.281463   \n",
      "13      1987-09-30 -0.052511  0.414439  0.022097  0.643849  0.6732 -4.175303   \n",
      "14      1987-09-30  0.045323  0.253338  0.032060 -0.435859  0.4113 -4.082272   \n",
      "34      1987-09-30  0.024175  0.276595  0.017873 -0.192464  0.2604 -3.156500   \n",
      "\n",
      "                           MB     Price  Target  EXRETAvg  \n",
      "company Date                                               \n",
      "2       1987-09-30   1.609008  0.491362     0.0       NaN  \n",
      "12      1987-09-30  10.000000  0.123852     0.0       NaN  \n",
      "13      1987-09-30   9.244406  0.238046     0.0       NaN  \n",
      "14      1987-09-30   3.961652 -0.292430     0.0       NaN  \n",
      "34      1987-09-30   0.734322 -0.485984     0.0       NaN  \n",
      "(514645, 10)\n",
      "               NIMTA          TLMTA        CASHMTA          EXRET  \\\n",
      "count  514645.000000  514645.000000  514645.000000  514645.000000   \n",
      "mean       -0.014370       0.166902       0.060884      -0.022270   \n",
      "std         0.689173       0.247590       0.261808       0.301285   \n",
      "min      -315.514236      -1.766941     -12.726090      -0.797328   \n",
      "25%         0.000000       0.000000       0.000000      -0.031692   \n",
      "50%         0.000000       0.000000       0.000000      -0.005421   \n",
      "75%         0.020664       0.299314       0.051791       0.018056   \n",
      "max        55.170968       7.238873      63.712186       0.643849   \n",
      "\n",
      "               SIGMA          RSIZE             MB          Price  \\\n",
      "count  514645.000000  514645.000000  514645.000000  514645.000000   \n",
      "mean        0.278890      -4.681950       6.394614      -0.283420   \n",
      "std         0.316664       1.076452       4.187126       0.937712   \n",
      "min         0.000000     -12.658122       0.000189      -6.000000   \n",
      "25%         0.000000      -5.384843       1.500535      -0.744727   \n",
      "50%         0.227100      -4.674958      10.000000      -0.070581   \n",
      "75%         0.428200      -3.968992      10.000000       0.360839   \n",
      "max        10.454300      -0.920174      10.000000       1.176091   \n",
      "\n",
      "              Target       EXRETAvg  \n",
      "count  514645.000000  469750.000000  \n",
      "mean        0.003719      -0.023413  \n",
      "std         0.060871       0.184694  \n",
      "min         0.000000      -0.794924  \n",
      "25%         0.000000      -0.049266  \n",
      "50%         0.000000      -0.004487  \n",
      "75%         0.000000       0.014206  \n",
      "max         1.000000       0.637881  \n"
     ]
    }
   ],
   "source": [
    "\n",
    "DF = DF.dropna(subset=['NIMTA','TLMTA'])\n",
    "print(DF.head())\n",
    "print(DF.shape)\n",
    "print(DF.describe())"
   ]
  },
  {
   "cell_type": "code",
   "execution_count": null,
   "metadata": {},
   "outputs": [],
   "source": [
    "DF['NIMTA'] = winsorize(DF['NIMTA'], limits=[0.05, 0.05])\n"
   ]
  },
  {
   "cell_type": "code",
   "execution_count": null,
   "metadata": {},
   "outputs": [],
   "source": [
    "\n",
    "\n",
    "\n"
   ]
  },
  {
   "cell_type": "code",
   "execution_count": null,
   "metadata": {},
   "outputs": [],
   "source": [
    "DF['NIMTA'] =DF.groupby('Date')['NIMTA'].transform(lambda x: x.fillna(x.mean()))\n"
   ]
  },
  {
   "cell_type": "code",
   "execution_count": null,
   "metadata": {},
   "outputs": [
    {
     "name": "stdout",
     "output_type": "stream",
     "text": [
      "1.0\n"
     ]
    }
   ],
   "source": [
    "n = 3\n",
    "phi = 2**(-1)\n",
    "weights = np.array([phi**(i*1) for i in range(n)])\n",
    "weights = weights/weights.sum()\n",
    "\n",
    "print(weights.sum())\n",
    "\n",
    "DF['NIMTAAVG'] = DF.groupby('company')['NIMTA'].transform(lambda x: x.rolling(window=n).apply(lambda x: np.dot(x, weights)))\n",
    "\n"
   ]
  },
  {
   "cell_type": "code",
   "execution_count": null,
   "metadata": {},
   "outputs": [],
   "source": [
    "DF['CASHMTA'] = winsorize(DF['CASHMTA'], limits=[0.05, 0.05])\n",
    "DF['MB'] = winsorize(DF['MB'], limits=[0.05, 0.05])\n",
    "DF['SIGMA'] = winsorize(DF['SIGMA'], limits=[0.05, 0.05])\n",
    "DF['TLMTA'] = winsorize(DF['TLMTA'], limits=[0.05, 0.05])\n",
    "DF['RSIZE'] = winsorize(DF['RSIZE'], limits=[0.05, 0.05])"
   ]
  },
  {
   "cell_type": "code",
   "execution_count": null,
   "metadata": {},
   "outputs": [],
   "source": [
    "DF['CASHMTA'] =DF.groupby('Date')['CASHMTA'].transform(lambda x: x.fillna(x.mean()))\n",
    "DF['MB'] =DF.groupby('Date')['MB'].transform(lambda x: x.fillna(x.mean()))\n",
    "DF['SIGMA'] =DF.groupby('Date')['SIGMA'].transform(lambda x: x.fillna(x.mean()))\n"
   ]
  },
  {
   "cell_type": "code",
   "execution_count": null,
   "metadata": {},
   "outputs": [
    {
     "name": "stdout",
     "output_type": "stream",
     "text": [
      "Target         0.0  1.0\n",
      "Date                   \n",
      "1987-01-31  1210.0  NaN\n",
      "1987-02-28  1219.0  NaN\n",
      "1987-06-30  1226.0  NaN\n",
      "1987-09-30  1258.0  NaN\n",
      "1987-12-31  1292.0  NaN\n",
      "(149, 2)\n",
      "Target         0.0  1.0\n",
      "Date                   \n",
      "1987-01-31  1210.0  0.0\n",
      "1987-02-28  1219.0  0.0\n",
      "1987-06-30  1226.0  0.0\n",
      "1987-09-30  1258.0  0.0\n",
      "1987-12-31  1292.0  0.0\n",
      "(149, 2)\n"
     ]
    }
   ],
   "source": [
    "DF = DF.reset_index()\n",
    "DF = DF.set_index(['Date'])\n",
    "DFpivot = pd.pivot_table(DF, values=('company'), index=['Date'], columns=['Target'], aggfunc='count')\n",
    "print(DFpivot.head())\n",
    "print(DFpivot.shape)\n",
    "\n",
    "DF = DF.reset_index()\n",
    "DF = DF.set_index(['company', 'Date'])\n",
    "\n",
    "DFpivot = pd.DataFrame(DFpivot)\n",
    "DFpivot = DFpivot.fillna(0)\n",
    "print(DFpivot.head())\n",
    "print(DFpivot.shape)\n",
    "\n"
   ]
  },
  {
   "cell_type": "code",
   "execution_count": null,
   "metadata": {},
   "outputs": [
    {
     "name": "stdout",
     "output_type": "stream",
     "text": [
      "            NIMTA  TLMTA  CASHMTA     EXRET   SIGMA     RSIZE        MB  \\\n",
      "Date                                                                      \n",
      "1987-01-31    0.0    0.0      0.0 -0.112172  0.2973 -4.066609  2.264773   \n",
      "1987-01-31    0.0    0.0      0.0 -0.112172  0.2973 -4.066609  2.264773   \n",
      "1987-01-31    0.0    0.0      0.0 -0.112172  0.2973 -4.066609  2.264773   \n",
      "1987-01-31    0.0    0.0      0.0 -0.112172  0.2973 -4.066609  2.264773   \n",
      "1987-01-31    0.0    0.0      0.0 -0.112172  0.2973 -4.066609  2.264773   \n",
      "\n",
      "               Price  EXRETAvg  NIMTAAVG  Target  \n",
      "Date                                              \n",
      "1987-01-31  0.107413 -0.005211       0.0       0  \n",
      "1987-01-31  0.107413 -0.005211       0.0       0  \n",
      "1987-01-31  0.107413 -0.005211       0.0       0  \n",
      "1987-01-31  0.107413 -0.005211       0.0       0  \n",
      "1987-01-31  0.107413 -0.005211       0.0       0  \n",
      "(810750, 11)\n",
      "               NIMTA          TLMTA        CASHMTA          EXRET  \\\n",
      "count  810750.000000  810750.000000  810750.000000  810750.000000   \n",
      "mean        0.007990       0.111436       0.009426      -0.020317   \n",
      "std         0.013313       0.145171       0.012220       0.080770   \n",
      "min         0.000000       0.000000       0.000000      -0.315192   \n",
      "25%         0.000000       0.000000       0.000000      -0.025640   \n",
      "\n",
      "               SIGMA          RSIZE             MB          Price  \\\n",
      "count  810750.000000  810750.000000  810750.000000  810750.000000   \n",
      "mean        0.210041      -4.611883       6.764765      -0.059556   \n",
      "std         0.137893       0.252440       3.758636       0.131570   \n",
      "min         0.000000      -4.899913       1.250446      -0.271646   \n",
      "25%         0.000000      -4.829834       2.438073      -0.185419   \n",
      "\n",
      "            EXRETAvg       NIMTAAVG         Target  \n",
      "count  810750.000000  810750.000000  810750.000000  \n",
      "mean       -0.019397       0.008409       0.002617  \n",
      "std         0.049337       0.013733       0.051093  \n",
      "min        -0.171396       0.000000       0.000000  \n",
      "25%        -0.024295       0.000000       0.000000  \n",
      "               NIMTA          TLMTA        CASHMTA          EXRET  \\\n",
      "count       8.000000       8.000000       8.000000       8.000000   \n",
      "mean   101343.761382  101343.871378  101343.760230  101343.756195   \n",
      "std    286643.406825  286643.362379  286643.407290  286643.408921   \n",
      "min         0.000000       0.000000       0.000000      -0.315192   \n",
      "25%         0.000000       0.010181       0.001585      -0.021648   \n",
      "50%         0.010651       0.128304       0.010823      -0.001099   \n",
      "75%         0.028336       0.304223       0.025743       0.143611   \n",
      "max    810750.000000  810750.000000  810750.000000  810750.000000   \n",
      "\n",
      "               SIGMA          RSIZE             MB          Price  \\\n",
      "count       8.000000       8.000000       8.000000       8.000000   \n",
      "mean   101343.913192  101340.339464  101349.267288  101343.728203   \n",
      "std    286643.345484  286644.789493  286641.182124  286643.420231   \n",
      "min         0.000000      -4.899913       1.250446      -0.271646   \n",
      "25%         0.103420      -4.755461       3.428495      -0.091022   \n",
      "50%         0.239971      -4.517922       8.345576       0.017294   \n",
      "75%         0.334625      -2.967241      10.000000       0.142700   \n",
      "max    810750.000000  810750.000000  810750.000000  810750.000000   \n",
      "\n",
      "            EXRETAvg       NIMTAAVG         Target  \n",
      "count       8.000000       8.000000       8.000000  \n",
      "mean   101343.744004  101343.761749  101343.881714  \n",
      "std    286643.413846  286643.406676  286643.358203  \n",
      "min        -0.171396       0.000000       0.000000  \n",
      "25%        -0.020622       0.000000       0.000000  \n",
      "50%        -0.002048       0.011071       0.001309  \n",
      "75%         0.067471       0.029301       0.288320  \n",
      "max    810750.000000  810750.000000  810750.000000  \n"
     ]
    }
   ],
   "source": [
    "\n",
    "\n"
   ]
  },
  {
   "cell_type": "code",
   "execution_count": null,
   "metadata": {},
   "outputs": [
    {
     "name": "stderr",
     "output_type": "stream",
     "text": [
      "C:\\Users\\Shashank\\AppData\\Local\\Packages\\PythonSoftwareFoundation.Python.3.11_qbz5n2kfra8p0\\LocalCache\\local-packages\\Python311\\site-packages\\numpy\\lib\\function_base.py:4824: UserWarning: Warning: 'partition' will ignore the 'mask' of the MaskedArray.\n",
      "  arr.partition(\n",
      "C:\\Users\\Shashank\\AppData\\Local\\Packages\\PythonSoftwareFoundation.Python.3.11_qbz5n2kfra8p0\\LocalCache\\local-packages\\Python311\\site-packages\\numpy\\lib\\function_base.py:4824: UserWarning: Warning: 'partition' will ignore the 'mask' of the MaskedArray.\n",
      "  arr.partition(\n",
      "C:\\Users\\Shashank\\AppData\\Local\\Packages\\PythonSoftwareFoundation.Python.3.11_qbz5n2kfra8p0\\LocalCache\\local-packages\\Python311\\site-packages\\numpy\\lib\\function_base.py:4824: UserWarning: Warning: 'partition' will ignore the 'mask' of the MaskedArray.\n",
      "  arr.partition(\n",
      "C:\\Users\\Shashank\\AppData\\Local\\Packages\\PythonSoftwareFoundation.Python.3.11_qbz5n2kfra8p0\\LocalCache\\local-packages\\Python311\\site-packages\\numpy\\lib\\function_base.py:4824: UserWarning: Warning: 'partition' will ignore the 'mask' of the MaskedArray.\n",
      "  arr.partition(\n",
      "C:\\Users\\Shashank\\AppData\\Local\\Packages\\PythonSoftwareFoundation.Python.3.11_qbz5n2kfra8p0\\LocalCache\\local-packages\\Python311\\site-packages\\numpy\\lib\\function_base.py:4824: UserWarning: Warning: 'partition' will ignore the 'mask' of the MaskedArray.\n",
      "  arr.partition(\n",
      "C:\\Users\\Shashank\\AppData\\Local\\Packages\\PythonSoftwareFoundation.Python.3.11_qbz5n2kfra8p0\\LocalCache\\local-packages\\Python311\\site-packages\\numpy\\lib\\function_base.py:4824: UserWarning: Warning: 'partition' will ignore the 'mask' of the MaskedArray.\n",
      "  arr.partition(\n",
      "C:\\Users\\Shashank\\AppData\\Local\\Packages\\PythonSoftwareFoundation.Python.3.11_qbz5n2kfra8p0\\LocalCache\\local-packages\\Python311\\site-packages\\numpy\\lib\\function_base.py:4824: UserWarning: Warning: 'partition' will ignore the 'mask' of the MaskedArray.\n",
      "  arr.partition(\n",
      "C:\\Users\\Shashank\\AppData\\Local\\Packages\\PythonSoftwareFoundation.Python.3.11_qbz5n2kfra8p0\\LocalCache\\local-packages\\Python311\\site-packages\\numpy\\lib\\function_base.py:4824: UserWarning: Warning: 'partition' will ignore the 'mask' of the MaskedArray.\n",
      "  arr.partition(\n",
      "C:\\Users\\Shashank\\AppData\\Local\\Packages\\PythonSoftwareFoundation.Python.3.11_qbz5n2kfra8p0\\LocalCache\\local-packages\\Python311\\site-packages\\numpy\\lib\\function_base.py:4824: UserWarning: Warning: 'partition' will ignore the 'mask' of the MaskedArray.\n",
      "  arr.partition(\n",
      "C:\\Users\\Shashank\\AppData\\Local\\Packages\\PythonSoftwareFoundation.Python.3.11_qbz5n2kfra8p0\\LocalCache\\local-packages\\Python311\\site-packages\\numpy\\lib\\function_base.py:4824: UserWarning: Warning: 'partition' will ignore the 'mask' of the MaskedArray.\n",
      "  arr.partition(\n",
      "C:\\Users\\Shashank\\AppData\\Local\\Packages\\PythonSoftwareFoundation.Python.3.11_qbz5n2kfra8p0\\LocalCache\\local-packages\\Python311\\site-packages\\numpy\\lib\\function_base.py:4824: UserWarning: Warning: 'partition' will ignore the 'mask' of the MaskedArray.\n",
      "  arr.partition(\n"
     ]
    },
    {
     "name": "stdout",
     "output_type": "stream",
     "text": [
      "               NIMTA          TLMTA        CASHMTA          EXRET  \\\n",
      "count  532886.000000  532886.000000  532886.000000  532886.000000   \n",
      "mean       -0.002372       0.167745       0.044938      -0.026363   \n",
      "std         0.056869       0.241438       0.080637       0.302704   \n",
      "min        -0.182236       0.000000       0.000000      -0.826825   \n",
      "25%         0.000000       0.000000       0.000000      -0.033506   \n",
      "\n",
      "               SIGMA          RSIZE             MB          Price  \\\n",
      "count  532886.000000  532886.000000  532886.000000  532865.000000   \n",
      "mean        0.265350      -4.677193       6.379340      -0.279738   \n",
      "std         0.265792       0.980513       4.165625       0.935530   \n",
      "min         0.000000      -6.482228       0.626768      -6.000000   \n",
      "25%         0.000000      -5.377359       1.514614      -0.732828   \n",
      "\n",
      "              Target       EXRETAvg       NIMTAAVG  \n",
      "count  532886.000000  481787.000000  521474.000000  \n",
      "mean        0.003672      -0.026863      -0.002171  \n",
      "std         0.060489       0.184189       0.054090  \n",
      "min         0.000000      -0.823818      -0.182236  \n",
      "25%         0.000000      -0.049668       0.000000  \n",
      "             NIMTA        TLMTA      CASHMTA        EXRET        SIGMA  \\\n",
      "count  1957.000000  1957.000000  1957.000000  1957.000000  1957.000000   \n",
      "mean     -0.036054     0.310055     0.088147    -0.059979     0.449884   \n",
      "std       0.086919     0.271229     0.100191     0.421646     0.279871   \n",
      "min      -0.182236     0.000000     0.000000    -0.826825     0.000000   \n",
      "25%      -0.101918     0.029021     0.003457    -0.242913     0.251300   \n",
      "\n",
      "             RSIZE           MB        Price  Target     EXRETAvg     NIMTAAVG  \n",
      "count  1957.000000  1957.000000  1954.000000  1957.0  1762.000000  1937.000000  \n",
      "mean     -4.884709     8.584176    -0.590820     1.0    -0.046066    -0.035138  \n",
      "std       0.973773     3.141534     1.046053     0.0     0.242599     0.084033  \n",
      "min      -6.482228     0.626768    -4.387216     1.0    -0.789031    -0.182236  \n",
      "25%      -5.659302    10.000000    -1.268213     1.0    -0.185781    -0.099470  \n",
      "               NIMTA          TLMTA        CASHMTA          EXRET  \\\n",
      "count  530929.000000  530929.000000  530929.000000  530929.000000   \n",
      "mean       -0.002248       0.167220       0.044779      -0.026239   \n",
      "std         0.056692       0.241166       0.080514       0.302173   \n",
      "min        -0.182236       0.000000       0.000000      -0.826825   \n",
      "25%         0.000000       0.000000       0.000000      -0.033506   \n",
      "\n",
      "               SIGMA          RSIZE             MB          Price    Target  \\\n",
      "count  530929.000000  530929.000000  530929.000000  530911.000000  530929.0   \n",
      "mean        0.264670      -4.676428       6.371213      -0.278593       0.0   \n",
      "std         0.265501       0.980458       4.166779       0.934909       0.0   \n",
      "min         0.000000      -6.482228       0.626768      -6.000000       0.0   \n",
      "25%         0.000000      -5.376161       1.510085      -0.732828       0.0   \n",
      "\n",
      "            EXRETAvg       NIMTAAVG  \n",
      "count  480025.000000  519537.000000  \n",
      "mean       -0.026793      -0.002049  \n",
      "std         0.183937       0.053910  \n",
      "min        -0.823818      -0.182236  \n",
      "25%        -0.049127       0.000000  \n"
     ]
    }
   ],
   "source": [
    "All_firms_Summary = pd.DataFrame(DF.describe())\n",
    "print(All_firms_Summary.head())\n",
    "Failed_firms = DF[DF['Target'] == 1]\n",
    "Failed_firms_Summary = pd.DataFrame(Failed_firms.describe())\n",
    "Active_firms =DF[ DF['Target'] == 0]\n",
    "Active_firms_Summary = pd.DataFrame(Active_firms.describe())\n",
    "print(Failed_firms_Summary.head())\n",
    "print(Active_firms_Summary.head())\n"
   ]
  },
  {
   "cell_type": "code",
   "execution_count": null,
   "metadata": {},
   "outputs": [],
   "source": []
  },
  {
   "cell_type": "code",
   "execution_count": null,
   "metadata": {},
   "outputs": [],
   "source": []
  },
  {
   "cell_type": "code",
   "execution_count": null,
   "metadata": {},
   "outputs": [
    {
     "name": "stdout",
     "output_type": "stream",
     "text": [
      "                     CASHMTA     TLMTA   SIGMA     RSIZE         MB     Price  \\\n",
      "company Date                                                                    \n",
      "2       1987-06-30  0.041141  0.568149  0.2593 -3.268166   2.104848  0.634477   \n",
      "12      1987-06-30  0.000000  0.000000  0.3704 -4.182949  10.000000  0.361728   \n",
      "13      1987-06-30  0.021266  0.398868  0.6829 -4.324821   9.227909  0.227887   \n",
      "14      1987-06-30  0.053430  0.276673  0.2144 -3.999795   5.223189 -0.064493   \n",
      "34      1987-06-30  0.019604  0.303377  0.2042 -3.133135   0.833763 -0.323215   \n",
      "\n",
      "                    EXRETAvg  NIMTAAVG  \n",
      "company Date                            \n",
      "2       1987-06-30       NaN       NaN  \n",
      "12      1987-06-30       NaN       NaN  \n",
      "13      1987-06-30       NaN       NaN  \n",
      "14      1987-06-30       NaN       NaN  \n",
      "34      1987-06-30       NaN       NaN  \n",
      "                    Target\n",
      "company Date              \n",
      "2       1987-06-30     0.0\n",
      "12      1987-06-30     0.0\n",
      "13      1987-06-30     0.0\n",
      "14      1987-06-30     0.0\n",
      "34      1987-06-30     0.0\n"
     ]
    }
   ],
   "source": [
    "X = pd.DataFrame(DF[['CASHMTA', 'TLMTA', 'SIGMA', 'RSIZE', 'MB', 'Price','EXRETAvg','NIMTAAVG']])\n",
    "X.set_index(DF.index, inplace=True)\n",
    "Y = pd.DataFrame(DF['Target'])\n",
    "Y.set_index(X.index, inplace=True)\n",
    "print(X.head())\n",
    "print(Y.head())\n",
    "\n",
    "X.to_excel('X_mysamplebestmodel.xlsx')\n",
    "Y.to_excel('Y_mysamplebestmodel.xlsx')"
   ]
  },
  {
   "cell_type": "code",
   "execution_count": null,
   "metadata": {},
   "outputs": [
    {
     "name": "stdout",
     "output_type": "stream",
     "text": [
      "(532886, 8)\n"
     ]
    }
   ],
   "source": [
    "\n",
    "Y = Y.loc[X.index]\n",
    "print(X.shape)"
   ]
  },
  {
   "cell_type": "code",
   "execution_count": null,
   "metadata": {},
   "outputs": [],
   "source": []
  },
  {
   "cell_type": "code",
   "execution_count": null,
   "metadata": {},
   "outputs": [],
   "source": []
  },
  {
   "cell_type": "code",
   "execution_count": null,
   "metadata": {},
   "outputs": [],
   "source": [
    "\n"
   ]
  },
  {
   "cell_type": "code",
   "execution_count": null,
   "metadata": {},
   "outputs": [],
   "source": [
    "\n",
    "\n",
    "\n"
   ]
  },
  {
   "cell_type": "code",
   "execution_count": null,
   "metadata": {},
   "outputs": [],
   "source": [
    "\n"
   ]
  },
  {
   "cell_type": "code",
   "execution_count": null,
   "metadata": {},
   "outputs": [
    {
     "name": "stdout",
     "output_type": "stream",
     "text": [
      "(481771, 8)\n",
      "(481771, 1)\n",
      "             CASHMTA          TLMTA          SIGMA          RSIZE  \\\n",
      "count  481771.000000  481771.000000  481771.000000  481771.000000   \n",
      "mean        0.039401       0.155056       0.251262      -4.689119   \n",
      "std         0.075292       0.234750       0.265203       0.991941   \n",
      "min         0.000000       0.000000       0.000000      -6.482228   \n",
      "25%         0.000000       0.000000       0.000000      -5.404132   \n",
      "50%         0.000000       0.000000       0.208800      -4.680582   \n",
      "75%         0.043560       0.280860       0.411200      -3.963431   \n",
      "max         0.294854       0.749256       0.860800      -2.898259   \n",
      "\n",
      "                  MB          Price       EXRETAvg       NIMTAAVG  \n",
      "count  481771.000000  481771.000000  481771.000000  481771.000000  \n",
      "mean        6.673293      -0.292341      -0.026865      -0.001458  \n",
      "std         4.137509       0.950610       0.184187       0.051639  \n",
      "min         0.626768      -6.000000      -0.823818      -0.182236  \n",
      "25%         1.622082      -0.769551      -0.049661       0.000000  \n",
      "50%        10.000000      -0.074430      -0.004531       0.000000  \n",
      "75%        10.000000       0.369216       0.012519       0.016796  \n",
      "max        10.000000       1.176091       0.595638       0.083613  \n"
     ]
    }
   ],
   "source": [
    "\n",
    "\n",
    "\n",
    "X.dropna(inplace=True)\n",
    "Y = Y.loc[X.index]\n",
    "print(X.shape)\n",
    "print(Y.shape)\n",
    "print(X.describe())\n"
   ]
  },
  {
   "cell_type": "code",
   "execution_count": null,
   "metadata": {},
   "outputs": [
    {
     "name": "stdout",
     "output_type": "stream",
     "text": [
      "             CASHMTA          TLMTA          SIGMA          RSIZE  \\\n",
      "count  481771.000000  481771.000000  481771.000000  481771.000000   \n",
      "mean        0.039401       0.155056       0.251262      -4.689119   \n",
      "std         0.075292       0.234750       0.265203       0.991941   \n",
      "min         0.000000       0.000000       0.000000      -6.482228   \n",
      "25%         0.000000       0.000000       0.000000      -5.404132   \n",
      "50%         0.000000       0.000000       0.208800      -4.680582   \n",
      "75%         0.043560       0.280860       0.411200      -3.963431   \n",
      "max         0.294854       0.749256       0.860800      -2.898259   \n",
      "\n",
      "                  MB          Price       EXRETAvg       NIMTAAVG  \n",
      "count  481771.000000  481771.000000  481771.000000  481771.000000  \n",
      "mean        6.673293      -0.292341      -0.026865      -0.001458  \n",
      "std         4.137509       0.950610       0.184187       0.051639  \n",
      "min         0.626768      -6.000000      -0.823818      -0.182236  \n",
      "25%         1.622082      -0.769551      -0.049661       0.000000  \n",
      "50%        10.000000      -0.074430      -0.004531       0.000000  \n",
      "75%        10.000000       0.369216       0.012519       0.016796  \n",
      "max        10.000000       1.176091       0.595638       0.083613  \n"
     ]
    }
   ],
   "source": [
    "print(X.describe())"
   ]
  },
  {
   "cell_type": "code",
   "execution_count": null,
   "metadata": {},
   "outputs": [],
   "source": [
    "\n"
   ]
  },
  {
   "cell_type": "code",
   "execution_count": null,
   "metadata": {},
   "outputs": [
    {
     "name": "stdout",
     "output_type": "stream",
     "text": [
      "                     CASHMTA     TLMTA   SIGMA     RSIZE        MB     Price  \\\n",
      "company Date                                                                   \n",
      "2       1989-06-30  0.108400  0.525987  0.3109 -3.243519  1.826670  0.595496   \n",
      "12      1989-06-30  0.242183  0.210901  0.4036 -4.084657  2.299200  0.332438   \n",
      "13      1989-06-30  0.054722  0.522557  0.7389 -4.864377  2.007044 -0.337242   \n",
      "14      1989-06-30  0.060229  0.403238  0.3241 -4.077500  3.634170 -0.179930   \n",
      "34      1989-06-30  0.018433  0.471839  0.2502 -3.156929  0.866862 -0.352519   \n",
      "\n",
      "                    EXRETAvg  NIMTAAVG  \n",
      "company Date                            \n",
      "2       1989-06-30  0.042130  0.051883  \n",
      "12      1989-06-30  0.312082  0.078679  \n",
      "13      1989-06-30  0.050667  0.008911  \n",
      "14      1989-06-30 -0.172267  0.057886  \n",
      "34      1989-06-30 -0.194980  0.033578  \n"
     ]
    }
   ],
   "source": [
    "print(X.head())"
   ]
  },
  {
   "cell_type": "code",
   "execution_count": null,
   "metadata": {},
   "outputs": [],
   "source": [
    "\n"
   ]
  },
  {
   "cell_type": "markdown",
   "metadata": {},
   "source": []
  },
  {
   "cell_type": "code",
   "execution_count": null,
   "metadata": {},
   "outputs": [
    {
     "name": "stdout",
     "output_type": "stream",
     "text": [
      "                    Target\n",
      "company Date              \n",
      "5286    1997-12-31     0.0\n",
      "3457    2013-03-31     0.0\n",
      "796     2014-06-30     0.0\n",
      "5698    2000-09-30     0.0\n",
      "3794    1994-03-31     0.0\n",
      "                    Target\n",
      "company Date              \n",
      "5286    1997-12-31     0.0\n",
      "3457    2013-03-31     0.0\n",
      "796     2014-06-30     0.0\n",
      "5698    2000-09-30     0.0\n",
      "3794    1994-03-31     0.0\n"
     ]
    }
   ],
   "source": [
    "from sklearn.model_selection import train_test_split\n",
    "from sklearn.linear_model import LogisticRegression\n",
    "\n",
    "# Split the data\n",
    "X_train, X_test, Y_train, Y_test = train_test_split(X, Y.fillna(0), test_size=0.3, random_state=0)\n",
    "\n",
    "# Print the first few rows of Y_train\n",
    "print(Y_train.head())\n",
    "\n",
    "\n",
    "# Initialize and train the model\n",
    "model = LogisticRegression(max_iter=1000, class_weight='balanced', solver='liblinear')\n",
    "model.fit(X_train, Y_train.values.ravel())\n",
    "\n",
    "# Make predictions\n",
    "Y_pred = model.predict(X_test)\n",
    "Y_prob = model.predict_proba(X_test)\n",
    "\n",
    "\n",
    "\n",
    "# Print the first few rows of Y_train\n",
    "print(Y_train.head())\n"
   ]
  },
  {
   "cell_type": "code",
   "execution_count": null,
   "metadata": {},
   "outputs": [
    {
     "name": "stdout",
     "output_type": "stream",
     "text": [
      "0.8588755431323167\n",
      "[[123765  20211]\n",
      " [   186    370]]\n",
      "              precision    recall  f1-score   support\n",
      "\n",
      "         0.0       1.00      0.86      0.92    143976\n",
      "         1.0       0.02      0.67      0.04       556\n",
      "\n",
      "    accuracy                           0.86    144532\n",
      "   macro avg       0.51      0.76      0.48    144532\n",
      "weighted avg       0.99      0.86      0.92    144532\n",
      "\n",
      "<function confusion_matrix at 0x000002D163A840E0>\n",
      "                     0.0         1.0  accuracy      macro avg   weighted avg\n",
      "precision       0.998499    0.017978  0.858876       0.508239       0.994727\n",
      "recall          0.859622    0.665468  0.858876       0.762545       0.858876\n",
      "f1-score        0.923871    0.035010  0.858876       0.479440       0.920452\n",
      "support    143976.000000  556.000000  0.858876  144532.000000  144532.000000\n"
     ]
    }
   ],
   "source": [
    "from sklearn.metrics import accuracy_score, confusion_matrix, classification_report\n",
    "print(accuracy_score(Y_test, Y_pred))\n",
    "print(confusion_matrix(Y_test, Y_pred))\n",
    "print(classification_report(Y_test, Y_pred))\n",
    "\n",
    "confusion_matrix1 = pd.DataFrame(confusion_matrix(Y_test, Y_pred), index=['Actual 0', 'Actual 1'], columns=['Predicted 0', 'Predicted 1'])\n",
    "print(confusion_matrix)\n",
    "\n",
    "classification_report1 = pd.DataFrame(classification_report(Y_test, Y_pred, output_dict=True))\n",
    "print(classification_report1)\n",
    "\n"
   ]
  },
  {
   "cell_type": "code",
   "execution_count": null,
   "metadata": {},
   "outputs": [
    {
     "name": "stdout",
     "output_type": "stream",
     "text": [
      "0.80398734646222\n"
     ]
    },
    {
     "data": {
      "image/png": "[encoded data removed]",
      "text/plain": [
       "<Figure size 640x480 with 1 Axes>"
      ]
     },
     "metadata": {},
     "output_type": "display_data"
    },
    {
     "data": {
      "image/png": "[encoded data removed]",
      "text/plain": [
       "<Figure size 640x480 with 1 Axes>"
      ]
     },
     "metadata": {},
     "output_type": "display_data"
    },
    {
     "name": "stdout",
     "output_type": "stream",
     "text": [
      "0.032688015680029936\n",
      "0.03500969863272934\n"
     ]
    }
   ],
   "source": [
    "from sklearn.metrics import roc_auc_score, balanced_accuracy_score\n",
    "from statsmodels.stats import diagnostic\n",
    "print(roc_auc_score(Y_test, Y_prob[:,1]))\n",
    "roc_auc = roc_auc_score(Y_test, Y_prob[:,1])\n",
    "\n",
    "from sklearn.metrics import roc_curve\n",
    "import matplotlib.pyplot as plt\n",
    "fpr, tpr, thresholds = roc_curve(Y_test, Y_prob[:,1])\n",
    "plt.plot(fpr, tpr)\n",
    "plt.plot([0, 1], [0, 1], 'k--')\n",
    "plt.xlabel('False Positive Rate')\n",
    "plt.ylabel('True Positive Rate')\n",
    "plt.title('ROC Curve')\n",
    "plt.legend(['ROC curve(area) = %0.2f' % roc_auc])\n",
    "plt.show()\n",
    "\n",
    "from sklearn.metrics import precision_recall_curve\n",
    "precision, recall, thresholds = precision_recall_curve(Y_test, Y_prob[:,1])\n",
    "plt.plot(recall, precision)\n",
    "plt.xlabel('Recall')\n",
    "plt.ylabel('Precision')\n",
    "plt.title('Precision-Recall Curve')\n",
    "plt.legend(['Precision-Recall Curve'])\n",
    "plt.show()\n",
    "\n",
    "from sklearn.metrics import average_precision_score\n",
    "print(average_precision_score(Y_test, Y_prob[:,1]))\n",
    "\n",
    "from sklearn.metrics import f1_score\n",
    "print(f1_score(Y_test, Y_pred))\n",
    "\n",
    "\n",
    "\n",
    "Y_pred = pd.DataFrame(Y_pred, index=X_test.index, columns=['Prediction'])\n",
    "Y_prob = pd.DataFrame(Y_prob, index=X_test.index, columns=['Prob_0', 'Prob_1'])\n",
    "\n",
    "\n",
    "\n"
   ]
  },
  {
   "cell_type": "code",
   "execution_count": null,
   "metadata": {},
   "outputs": [],
   "source": [
    "\n",
    "Y_pred = pd.DataFrame(Y_pred, index=X_test.index, columns=['Prediction'])\n",
    "Y_prob = pd.DataFrame(Y_prob, index=X_test.index, columns=['Prob_0', 'Prob_1'])"
   ]
  },
  {
   "cell_type": "code",
   "execution_count": null,
   "metadata": {},
   "outputs": [
    {
     "name": "stdout",
     "output_type": "stream",
     "text": [
      "                           Logit Regression Results                           \n",
      "==============================================================================\n",
      "Dep. Variable:                 Target   No. Observations:               337239\n",
      "Model:                          Logit   Df Residuals:                   337230\n",
      "Method:                           MLE   Df Model:                            8\n",
      "Date:                Sun, 25 Aug 2024   Pseudo R-squ.:                  0.1433\n",
      "Time:                        13:03:56   Log-Likelihood:                -6836.9\n",
      "converged:                       True   LL-Null:                       -7980.9\n",
      "Covariance Type:            nonrobust   LLR p-value:                     0.000\n",
      "==============================================================================\n",
      "                 coef    std err          z      P>|z|      [0.025      0.975]\n",
      "------------------------------------------------------------------------------\n",
      "const         -8.5042      0.205    -41.573      0.000      -8.905      -8.103\n",
      "CASHMTA        6.5247      0.318     20.499      0.000       5.901       7.149\n",
      "TLMTA          2.3846      0.118     20.289      0.000       2.154       2.615\n",
      "SIGMA          1.3945      0.125     11.153      0.000       1.149       1.640\n",
      "RSIZE          0.2209      0.041      5.414      0.000       0.141       0.301\n",
      "MB             0.3352      0.011     31.511      0.000       0.314       0.356\n",
      "Price         -0.1345      0.039     -3.492      0.000      -0.210      -0.059\n",
      "EXRETAvg       0.6101      0.130      4.695      0.000       0.355       0.865\n",
      "NIMTAAVG      -1.3194      0.451     -2.926      0.003      -2.203      -0.436\n",
      "==============================================================================\n"
     ]
    }
   ],
   "source": [
    "import statsmodels.api as sm\n",
    "X_train = sm.add_constant(X_train)\n",
    "model = sm.Logit(Y_train, X_train.astype(float))\n",
    "result = model.fit( maxiter=1000, method='lbfgs')\n",
    "print(result.summary())\n",
    "\n",
    "description = result.summary().tables[1]\n",
    "description_train = pd.DataFrame(description)\n",
    "description0 = result.summary().tables[0]\n",
    "description_train1 = pd.DataFrame(description0)\n",
    "\n",
    "\n",
    "\n",
    "\n",
    "\n",
    "\n",
    "\n"
   ]
  },
  {
   "cell_type": "code",
   "execution_count": null,
   "metadata": {},
   "outputs": [
    {
     "name": "stdout",
     "output_type": "stream",
     "text": [
      "Optimization terminated successfully.\n",
      "         Current function value: 0.021670\n",
      "         Iterations: 112\n",
      "         Function evaluations: 116\n",
      "         Gradient evaluations: 116\n",
      "                           Logit Regression Results                           \n",
      "==============================================================================\n",
      "Dep. Variable:                 Target   No. Observations:               144532\n",
      "Model:                          Logit   Df Residuals:                   144523\n",
      "Method:                           MLE   Df Model:                            8\n",
      "Date:                Sun, 25 Aug 2024   Pseudo R-squ.:                  0.1411\n",
      "Time:                        13:03:59   Log-Likelihood:                -3132.0\n",
      "converged:                       True   LL-Null:                       -3646.6\n",
      "Covariance Type:            nonrobust   LLR p-value:                7.728e-217\n",
      "==============================================================================\n",
      "                 coef    std err          z      P>|z|      [0.025      0.975]\n",
      "------------------------------------------------------------------------------\n",
      "const         -8.3318      0.304    -27.381      0.000      -8.928      -7.735\n",
      "CASHMTA        6.3633      0.474     13.421      0.000       5.434       7.293\n",
      "TLMTA          2.2718      0.173     13.133      0.000       1.933       2.611\n",
      "SIGMA          1.5297      0.183      8.344      0.000       1.170       1.889\n",
      "RSIZE          0.2255      0.061      3.721      0.000       0.107       0.344\n",
      "MB             0.3262      0.015     21.228      0.000       0.296       0.356\n",
      "Price         -0.1081      0.058     -1.868      0.062      -0.222       0.005\n",
      "EXRETAvg       0.5291      0.190      2.786      0.005       0.157       0.901\n",
      "NIMTAAVG      -1.5676      0.673     -2.330      0.020      -2.886      -0.249\n",
      "==============================================================================\n"
     ]
    }
   ],
   "source": [
    "X_test = sm.add_constant(X_test)\n",
    "mod = sm.Logit(Y_test, X_test.astype(float))\n",
    "result = mod.fit(maxiter=1000, method='bfgs')\n",
    "print(result.summary())\n",
    "\n",
    "description001 = result.summary().tables[1]\n",
    "descriptiontest = pd.DataFrame(description001)\n",
    "description01 = result.summary().tables[0]\n",
    "descriptiontest1 = pd.DataFrame(description01)\n"
   ]
  },
  {
   "cell_type": "code",
   "execution_count": null,
   "metadata": {},
   "outputs": [
    {
     "name": "stderr",
     "output_type": "stream",
     "text": [
      "C:\\Users\\Shashank\\AppData\\Local\\Packages\\PythonSoftwareFoundation.Python.3.11_qbz5n2kfra8p0\\LocalCache\\local-packages\\Python311\\site-packages\\sklearn\\utils\\validation.py:1339: DataConversionWarning: A column-vector y was passed when a 1d array was expected. Please change the shape of y to (n_samples, ), for example using ravel().\n",
      "  y = column_or_1d(y, warn=True)\n"
     ]
    },
    {
     "name": "stdout",
     "output_type": "stream",
     "text": [
      "0.853133830903306\n",
      "[[286885  49151]\n",
      " [   378    825]]\n",
      "              precision    recall  f1-score   support\n",
      "\n",
      "         0.0       1.00      0.85      0.92    336036\n",
      "         1.0       0.02      0.69      0.03      1203\n",
      "\n",
      "    accuracy                           0.85    337239\n",
      "   macro avg       0.51      0.77      0.48    337239\n",
      "weighted avg       1.00      0.85      0.92    337239\n",
      "\n",
      "0.8077514952654155\n"
     ]
    },
    {
     "data": {
      "image/png": "[encoded data removed]",
      "text/plain": [
       "<Figure size 640x480 with 1 Axes>"
      ]
     },
     "metadata": {},
     "output_type": "display_data"
    },
    {
     "name": "stdout",
     "output_type": "stream",
     "text": [
      "        0      1\n",
      "0  286885  49151\n",
      "1     378    825\n",
      "                     0.0          1.0  accuracy      macro avg   weighted avg\n",
      "precision       0.998684     0.016508  0.853134       0.507596       0.995181\n",
      "recall          0.853733     0.685786  0.853134       0.769759       0.853134\n",
      "f1-score        0.920537     0.032240  0.853134       0.476389       0.917369\n",
      "support    336036.000000  1203.000000  0.853134  337239.000000  337239.000000\n"
     ]
    }
   ],
   "source": [
    "from sklearn.metrics import accuracy_score, roc_curve\n",
    "model1 = LogisticRegression(max_iter=1000,class_weight='balanced', solver='liblinear', C=0.01)\n",
    "model1.fit(X_train, Y_train)\n",
    "Y_pred5 = model1.predict(X_train)\n",
    "\n",
    "Y_prob5 = model1.predict_proba(X_train)\n",
    "\n",
    "print(accuracy_score(Y_train, Y_pred5))\n",
    "print(confusion_matrix(Y_train, Y_pred5))\n",
    "print(classification_report(Y_train, Y_pred5))\n",
    "print(roc_auc_score(Y_train, Y_prob5[:,1]))\n",
    "precision, recall, thresholds = precision_recall_curve(Y_train, Y_prob5[:,1])\n",
    "plt.plot(recall, precision)\n",
    "plt.xlabel('Recall')\n",
    "plt.ylabel('Precision')\n",
    "plt.show()\n",
    "\n",
    "confusion_matrixtrain = pd.DataFrame(confusion_matrix(Y_train, Y_pred5))\n",
    "print(confusion_matrixtrain)\n",
    "classification_reporttrain = pd.DataFrame(classification_report(Y_train, Y_pred5, output_dict=True))\n",
    "print(classification_reporttrain)\n",
    "\n",
    "Y_pred5 = pd.DataFrame(Y_pred5, index=X_train.index, columns=['Prediction'])\n",
    "Y_prob5 = pd.DataFrame(Y_prob5, index=X_train.index, columns=['Prob_0', 'Prob_1'])\n"
   ]
  },
  {
   "cell_type": "code",
   "execution_count": null,
   "metadata": {},
   "outputs": [],
   "source": [
    "Y_pred5 = pd.DataFrame(Y_pred5, index=X_train.index, columns=['Prediction'])\n",
    "Y_prob5 = pd.DataFrame(Y_prob5, index=X_train.index, columns=['Prob_0', 'Prob_1'])"
   ]
  },
  {
   "cell_type": "code",
   "execution_count": null,
   "metadata": {},
   "outputs": [
    {
     "name": "stderr",
     "output_type": "stream",
     "text": [
      "C:\\Users\\Shashank\\AppData\\Local\\Packages\\PythonSoftwareFoundation.Python.3.11_qbz5n2kfra8p0\\LocalCache\\local-packages\\Python311\\site-packages\\sklearn\\utils\\validation.py:1339: DataConversionWarning: A column-vector y was passed when a 1d array was expected. Please change the shape of y to (n_samples, ), for example using ravel().\n",
      "  y = column_or_1d(y, warn=True)\n"
     ]
    },
    {
     "name": "stdout",
     "output_type": "stream",
     "text": [
      "0.8075219849416594\n",
      "[[410055  69957]\n",
      " [   563   1196]]\n",
      "              precision    recall  f1-score   support\n",
      "\n",
      "         0.0       1.00      0.85      0.92    480012\n",
      "         1.0       0.02      0.68      0.03      1759\n",
      "\n",
      "    accuracy                           0.85    481771\n",
      "   macro avg       0.51      0.77      0.48    481771\n",
      "weighted avg       1.00      0.85      0.92    481771\n",
      "\n"
     ]
    },
    {
     "data": {
      "image/png": "[encoded data removed]",
      "text/plain": [
       "<Figure size 640x480 with 1 Axes>"
      ]
     },
     "metadata": {},
     "output_type": "display_data"
    },
    {
     "name": "stdout",
     "output_type": "stream",
     "text": [
      "[[ 6.61953724  2.69094103  1.70239295  0.17173847  0.29760553 -0.02146471\n",
      "   0.49365793 -2.32578893]]\n",
      "[-3.00320768]\n",
      "          Predicted 0  Predicted 1\n",
      "Actual 0       410055        69957\n",
      "Actual 1          563         1196\n",
      "                     0.0          1.0  accuracy      macro avg   weighted avg\n",
      "precision       0.998629     0.016809  0.853623       0.507719       0.995044\n",
      "recall          0.854260     0.679932  0.853623       0.767096       0.853623\n",
      "f1-score        0.920820     0.032807  0.853623       0.476813       0.917578\n",
      "support    480012.000000  1759.000000  0.853623  481771.000000  481771.000000\n"
     ]
    }
   ],
   "source": [
    "model2 = LogisticRegression(max_iter=1000,class_weight='balanced', solver='liblinear')\n",
    "model2.fit(X, Y)\n",
    "Y_prob6 = model2.predict_proba(X)\n",
    "Y_pred6 = model2.predict(X)\n",
    "\n",
    "\n",
    "print(roc_auc_score(Y, Y_prob6[:,1]))\n",
    "precision, recall, thresholds = precision_recall_curve(Y, Y_prob6[:,1])\n",
    "print(confusion_matrix(Y, Y_pred6))\n",
    "print(classification_report(Y, Y_pred6))\n",
    "\n",
    "plt.plot(recall, precision)\n",
    "plt.xlabel('Recall')\n",
    "plt.ylabel('Precision')\n",
    "plt.show()\n",
    "\n",
    "print(model2.coef_) \n",
    "print(model2.intercept_)\n",
    "\n",
    "\n",
    "\n",
    "confusion_matrixfull = pd.DataFrame(confusion_matrix(Y, Y_pred6), index=['Actual 0', 'Actual 1'], columns=['Predicted 0', 'Predicted 1'])\n",
    "print(confusion_matrixfull)\n",
    "\n",
    "classification_reportfull = pd.DataFrame(classification_report(Y, Y_pred6, output_dict=True))\n",
    "print(classification_reportfull)\n",
    "\n",
    "Y_pred6 = pd.DataFrame(Y_pred6, index=X.index, columns=['Prediction'])\n",
    "Y_prob6 = pd.DataFrame(Y_prob6, index=X.index, columns=['Prob_0', 'Prob_1'])\n"
   ]
  },
  {
   "cell_type": "code",
   "execution_count": null,
   "metadata": {},
   "outputs": [],
   "source": [
    "Y_pred6 = pd.DataFrame(Y_pred6, index=X.index, columns=['Prediction'])\n",
    "Y_prob6 = pd.DataFrame(Y_prob6, index=X.index, columns=['Prob_0', 'Prob_1'])"
   ]
  },
  {
   "cell_type": "code",
   "execution_count": null,
   "metadata": {},
   "outputs": [],
   "source": []
  },
  {
   "cell_type": "code",
   "execution_count": null,
   "metadata": {},
   "outputs": [
    {
     "name": "stdout",
     "output_type": "stream",
     "text": [
      "Optimization terminated successfully.\n",
      "         Current function value: 0.020696\n",
      "         Iterations: 110\n",
      "         Function evaluations: 113\n",
      "         Gradient evaluations: 113\n",
      "==============================================================================\n",
      "                 coef    std err          z      P>|z|      [0.025      0.975]\n",
      "------------------------------------------------------------------------------\n",
      "const         -8.4487      0.170    -49.792      0.000      -8.781      -8.116\n",
      "CASHMTA        6.4782      0.264     24.524      0.000       5.960       6.996\n",
      "TLMTA          2.3482      0.097     24.161      0.000       2.158       2.539\n",
      "SIGMA          1.4372      0.103     13.912      0.000       1.235       1.640\n",
      "RSIZE          0.2227      0.034      6.585      0.000       0.156       0.289\n",
      "MB             0.3324      0.009     38.006      0.000       0.315       0.350\n",
      "Price         -0.1259      0.032     -3.928      0.000      -0.189      -0.063\n",
      "EXRETAvg       0.5864      0.107      5.468      0.000       0.376       0.797\n",
      "NIMTAAVG      -1.4119      0.374     -3.770      0.000      -2.146      -0.678\n",
      "==============================================================================\n",
      "                           Logit Regression Results                           \n",
      "==============================================================================\n",
      "Dep. Variable:                 Target   No. Observations:               481771\n",
      "Model:                          Logit   Df Residuals:                   481762\n",
      "Method:                           MLE   Df Model:                            8\n",
      "Date:                Sun, 25 Aug 2024   Pseudo R-squ.:                  0.1426\n",
      "Time:                        13:04:12   Log-Likelihood:                -9970.7\n",
      "converged:                       True   LL-Null:                       -11629.\n",
      "Covariance Type:            nonrobust   LLR p-value:                     0.000\n",
      "==============================================================================\n"
     ]
    }
   ],
   "source": [
    "X = sm.add_constant(X)\n",
    "model1 = sm.Logit(Y, X.astype(float))\n",
    "result1 = model1.fit( maxiter=1000, method='bfgs')\n",
    "description1 = result1.summary().tables[1]\n",
    "description2 = result1.summary().tables[0]\n",
    "description = pd.DataFrame(description1)\n",
    "description_1 = pd.DataFrame(description2)\n",
    "    \n",
    "print(description1)\n",
    "print(description2)\n"
   ]
  },
  {
   "cell_type": "code",
   "execution_count": null,
   "metadata": {},
   "outputs": [
    {
     "name": "stdout",
     "output_type": "stream",
     "text": [
      "(481771, 17)\n",
      "(481771, 1)\n",
      "(448935, 9)\n",
      "(448935, 1)\n"
     ]
    },
    {
     "name": "stderr",
     "output_type": "stream",
     "text": [
      "C:\\Users\\Shashank\\AppData\\Local\\Packages\\PythonSoftwareFoundation.Python.3.11_qbz5n2kfra8p0\\LocalCache\\local-packages\\Python311\\site-packages\\sklearn\\utils\\validation.py:1339: DataConversionWarning: A column-vector y was passed when a 1d array was expected. Please change the shape of y to (n_samples, ), for example using ravel().\n",
      "  y = column_or_1d(y, warn=True)\n"
     ]
    },
    {
     "name": "stdout",
     "output_type": "stream",
     "text": [
      "0.6449953779500374\n",
      "[[288433 158932]\n",
      " [   442   1128]]\n",
      "              precision    recall  f1-score   support\n",
      "\n",
      "         0.0       1.00      0.64      0.78    447365\n",
      "         1.0       0.01      0.72      0.01      1570\n",
      "\n",
      "    accuracy                           0.64    448935\n",
      "   macro avg       0.50      0.68      0.40    448935\n",
      "weighted avg       1.00      0.64      0.78    448935\n",
      "\n",
      "0.7289532856262869\n"
     ]
    },
    {
     "data": {
      "image/png": "[encoded data removed]",
      "text/plain": [
       "<Figure size 640x480 with 1 Axes>"
      ]
     },
     "metadata": {},
     "output_type": "display_data"
    }
   ],
   "source": [
    "\n",
    "lags = [6]\n",
    "X_lag6 = pd.DataFrame(X)\n",
    "for lag in lags:\n",
    "  \n",
    "    X_lag6['TLMTA_lag'+str(lag)] = X.groupby('company')['TLMTA'].shift(lag)\n",
    "    X_lag6['CASHMTA_lag'+str(lag)] = X.groupby('company')['CASHMTA'].shift(lag)\n",
    "\n",
    "    X_lag6['SIGMA_lag'+str(lag)] = X.groupby('company')['SIGMA'].shift(lag)\n",
    "    X_lag6['RSIZE_lag'+str(lag)] = X.groupby('company')['RSIZE'].shift(lag)\n",
    "    X_lag6['MB_lag'+str(lag)] = X.groupby('company')['MB'].shift(lag)\n",
    "    X_lag6['Price_lag'+str(lag)] = X.groupby('company')['Price'].shift(lag)\n",
    "    X_lag6['NIMTAAVG_lag'+str(lag)] = X.groupby('company')['NIMTAAVG'].shift(lag)\n",
    "    X_lag6['EXRETAvg_lag'+str(lag)] = X.groupby('company')['EXRETAvg'].shift(lag)\n",
    "    \n",
    "\n",
    "\n",
    "print(X_lag6.shape)\n",
    "print(Y.shape)\n",
    "X_lag6.drop(['NIMTAAVG', 'EXRETAvg','TLMTA','CASHMTA','SIGMA','RSIZE','Price','MB'], axis=1, inplace=True)\n",
    "X_lag6.dropna(inplace=True)\n",
    "Y = Y.fillna(0)\n",
    "Y = Y.loc[X_lag6.index]\n",
    "print(X_lag6.shape)\n",
    "print(Y.shape)\n",
    "\n",
    "X_train, X_test, Y_train, Y_test = train_test_split(X_lag6, Y.fillna(0), test_size=0.3, random_state=0)\n",
    "\n",
    "model = LogisticRegression(max_iter=1000, class_weight='balanced', solver='liblinear')\n",
    "model.fit(X_lag6, Y)\n",
    "Y_pred = model.predict(X_lag6)\n",
    "Y_prob = model.predict_proba(X_lag6)\n",
    "print(accuracy_score(Y, Y_pred))\n",
    "print(confusion_matrix(Y, Y_pred))\n",
    "print(classification_report(Y, Y_pred))\n",
    "print(roc_auc_score(Y, Y_prob[:,1]))\n",
    "precision, recall, thresholds = precision_recall_curve(Y, Y_prob[:,1])\n",
    "plt.plot(recall, precision)\n",
    "plt.xlabel('Recall')\n",
    "plt.ylabel('Precision')\n",
    "plt.show()\n",
    "\n",
    "\n",
    "\n",
    "confusion_matrix_lag = pd.DataFrame(confusion_matrix(Y, Y_pred))\n",
    "classification_report_lag = pd.DataFrame(classification_report(Y, Y_pred, output_dict=True))\n",
    "\n"
   ]
  },
  {
   "cell_type": "code",
   "execution_count": null,
   "metadata": {},
   "outputs": [
    {
     "name": "stdout",
     "output_type": "stream",
     "text": [
      "Optimization terminated successfully.\n",
      "         Current function value: 0.022061\n",
      "         Iterations: 108\n",
      "         Function evaluations: 113\n",
      "         Gradient evaluations: 113\n",
      "=================================================================================\n",
      "                    coef    std err          z      P>|z|      [0.025      0.975]\n",
      "---------------------------------------------------------------------------------\n",
      "const            -5.7234      0.175    -32.661      0.000      -6.067      -5.380\n",
      "TLMTA_lag6        0.7825      0.109      7.175      0.000       0.569       0.996\n",
      "CASHMTA_lag6      1.9788      0.283      7.004      0.000       1.425       2.533\n",
      "SIGMA_lag6        0.8240      0.119      6.919      0.000       0.591       1.057\n",
      "RSIZE_lag6        0.0242      0.036      0.664      0.507      -0.047       0.096\n",
      "MB_lag6          -0.0930      0.008    -11.196      0.000      -0.109      -0.077\n",
      "Price_lag6       -0.1858      0.036     -5.168      0.000      -0.256      -0.115\n",
      "NIMTAAVG_lag6    -2.6990      0.384     -7.028      0.000      -3.452      -1.946\n",
      "EXRETAvg_lag6     0.1436      0.109      1.312      0.190      -0.071       0.358\n",
      "=================================================================================\n"
     ]
    }
   ],
   "source": [
    "model6 = sm.Logit(Y, X_lag6.astype(float))\n",
    "result6 = model6.fit( maxiter=1000, method='bfgs')\n",
    "description6 = result6.summary().tables[1]\n",
    "description7 = result6.summary().tables[0]\n",
    "Logit_lag6 = pd.DataFrame(description6)\n",
    "Logit_lag6_1 = pd.DataFrame(description7)\n",
    "print(description6)\n",
    "\n"
   ]
  },
  {
   "cell_type": "code",
   "execution_count": null,
   "metadata": {},
   "outputs": [
    {
     "name": "stdout",
     "output_type": "stream",
     "text": [
      "(481771, 17)\n",
      "(448935, 1)\n",
      "0.594478831037248\n",
      "[[246573 168551]\n",
      " [   351   1031]]\n",
      "              precision    recall  f1-score   support\n",
      "\n",
      "         0.0       1.00      0.59      0.74    415124\n",
      "         1.0       0.01      0.75      0.01      1382\n",
      "\n",
      "    accuracy                           0.59    416506\n",
      "   macro avg       0.50      0.67      0.38    416506\n",
      "weighted avg       1.00      0.59      0.74    416506\n",
      "\n",
      "0.7084491473619774\n"
     ]
    },
    {
     "data": {
      "image/png": "[encoded data removed]",
      "text/plain": [
       "<Figure size 640x480 with 1 Axes>"
      ]
     },
     "metadata": {},
     "output_type": "display_data"
    }
   ],
   "source": [
    "lags = [12]\n",
    "X_lag12 = pd.DataFrame(X)\n",
    "\n",
    "for lag in lags:\n",
    "      \n",
    "     X_lag12['TLMTA_lag'+str(lag)] = X.groupby('company')['TLMTA'].shift(lag)\n",
    "     X_lag12['CASHMTA_lag'+str(lag)] = X.groupby('company')['CASHMTA'].shift(lag)\n",
    "    \n",
    "     X_lag12['SIGMA_lag'+str(lag)] = X.groupby('company')['SIGMA'].shift(lag)\n",
    "     X_lag12['RSIZE_lag'+str(lag)] = X.groupby('company')['RSIZE'].shift(lag)\n",
    "     X_lag12['MB_lag'+str(lag)] = X.groupby('company')['MB'].shift(lag)\n",
    "     X_lag12['Price_lag'+str(lag)] = X.groupby('company')['Price'].shift(lag)\n",
    "     X_lag12['NIMTAAVG_lag'+str(lag)] = X.groupby('company')['NIMTAAVG'].shift(lag)\n",
    "     X_lag12['EXRETAvg_lag'+str(lag)] = X.groupby('company')['EXRETAvg'].shift(lag)\n",
    "     \n",
    "print(X_lag12.shape)\n",
    "print(Y.shape)\n",
    "X_lag12.drop(['NIMTAAVG', 'EXRETAvg','TLMTA','CASHMTA','SIGMA','RSIZE','Price','MB'], axis=1, inplace=True)\n",
    "X_lag12.dropna(inplace=True)\n",
    "Y = Y.loc[X_lag12.index]\n",
    "\n",
    "X_train, X_test, Y_train, Y_test = train_test_split(X_lag12, Y.fillna(0), test_size=0.3, random_state=0)\n",
    "model = LogisticRegression(max_iter=1000, class_weight='balanced', solver='liblinear')\n",
    "model.fit(X_lag12, Y.values.ravel())\n",
    "Y_pred = model.predict(X_lag12)\n",
    "Y_prob = model.predict_proba(X_lag12)\n",
    "print(accuracy_score(Y, Y_pred))\n",
    "print(confusion_matrix(Y, Y_pred))\n",
    "print(classification_report(Y, Y_pred))\n",
    "print(roc_auc_score(Y, Y_prob[:,1]))\n",
    "precision, recall, thresholds = precision_recall_curve(Y, Y_prob[:,1])\n",
    "plt.plot(recall, precision)\n",
    "plt.xlabel('Recall')\n",
    "plt.ylabel('Precision')\n",
    "plt.show()\n",
    "\n",
    "confusion_matrix_lag12 = pd.DataFrame(confusion_matrix(Y, Y_pred))\n",
    "classification_report_lag12 = pd.DataFrame(classification_report(Y, Y_pred, output_dict=True))\n",
    "\n"
   ]
  },
  {
   "cell_type": "code",
   "execution_count": null,
   "metadata": {},
   "outputs": [
    {
     "name": "stderr",
     "output_type": "stream",
     "text": [
      "C:\\Users\\Shashank\\AppData\\Local\\Packages\\PythonSoftwareFoundation.Python.3.11_qbz5n2kfra8p0\\LocalCache\\local-packages\\Python311\\site-packages\\statsmodels\\base\\optimizer.py:19: FutureWarning: Keyword arguments have been passed to the optimizer that have no effect. The list of allowed keyword arguments for method bfgs is: gtol, norm, epsilon. The list of unsupported keyword arguments passed include: max_start_irls. After release 0.14, this will raise.\n",
      "  warnings.warn(\n"
     ]
    },
    {
     "name": "stdout",
     "output_type": "stream",
     "text": [
      "Optimization terminated successfully.\n",
      "         Current function value: 0.021312\n",
      "         Iterations: 113\n",
      "         Function evaluations: 117\n",
      "         Gradient evaluations: 117\n"
     ]
    }
   ],
   "source": [
    "model12 = sm.Logit(Y, X_lag12.astype(float))\n",
    "result12 = model12.fit( maxiter=1000, method='bfgs', max_start_irls=100)\n",
    "Logit_lag12 = result12.summary().tables[1]\n",
    "Logit_lag12_1 = result12.summary().tables[0]\n",
    "Logit_lag12 = pd.DataFrame(Logit_lag12)\n",
    "Logit_lag12_1 = pd.DataFrame(Logit_lag12_1)\n",
    "\n"
   ]
  },
  {
   "cell_type": "code",
   "execution_count": null,
   "metadata": {},
   "outputs": [
    {
     "name": "stdout",
     "output_type": "stream",
     "text": [
      "(481771, 17)\n",
      "(416506, 1)\n",
      "0.5782297017457707\n",
      "[[221628 162013]\n",
      " [   315    917]]\n",
      "              precision    recall  f1-score   support\n",
      "\n",
      "         0.0       1.00      0.58      0.73    383641\n",
      "         1.0       0.01      0.74      0.01      1232\n",
      "\n",
      "    accuracy                           0.58    384873\n",
      "   macro avg       0.50      0.66      0.37    384873\n",
      "weighted avg       1.00      0.58      0.73    384873\n",
      "\n",
      "0.6963935642348533\n"
     ]
    },
    {
     "data": {
      "image/png": "[encoded data removed]",
      "text/plain": [
       "<Figure size 640x480 with 1 Axes>"
      ]
     },
     "metadata": {},
     "output_type": "display_data"
    }
   ],
   "source": [
    "lags = [18]\n",
    "X_lag18 = pd.DataFrame(X)\n",
    "\n",
    "for lag in lags:\n",
    "      \n",
    "     X_lag18['TLMTA_lag'+str(lag)] = X.groupby('company')['TLMTA'].shift(lag)\n",
    "     X_lag18['CASHMTA_lag'+str(lag)] = X.groupby('company')['CASHMTA'].shift(lag)\n",
    "    \n",
    "     X_lag18['SIGMA_lag'+str(lag)] = X.groupby('company')['SIGMA'].shift(lag)\n",
    "     X_lag18['RSIZE_lag'+str(lag)] = X.groupby('company')['RSIZE'].shift(lag)\n",
    "     X_lag18['MB_lag'+str(lag)] = X.groupby('company')['MB'].shift(lag)\n",
    "     X_lag18['Price_lag'+str(lag)] = X.groupby('company')['Price'].shift(lag)\n",
    "     X_lag18['NIMTAAVG_lag'+str(lag)] = X.groupby('company')['NIMTAAVG'].shift(lag)\n",
    "     X_lag18['EXRETAvg_lag'+str(lag)] = X.groupby('company')['EXRETAvg'].shift(lag)\n",
    "     \n",
    "print(X_lag18.shape)\n",
    "print(Y.shape)\n",
    "X_lag18.drop(['NIMTAAVG', 'EXRETAvg','TLMTA','CASHMTA','SIGMA','RSIZE','Price','MB'], axis=1, inplace=True)\n",
    "X_lag18.dropna(inplace=True)\n",
    "Y = Y.loc[X_lag18.index]\n",
    "\n",
    "X_train, X_test, Y_train, Y_test = train_test_split(X_lag18, Y.fillna(0), test_size=0.3, random_state=0)\n",
    "model = LogisticRegression(max_iter=1000, class_weight='balanced', solver='liblinear')\n",
    "model.fit(X_lag18, Y.values.ravel())\n",
    "Y_pred = model.predict(X_lag18)\n",
    "Y_prob = model.predict_proba(X_lag18)\n",
    "print(accuracy_score(Y, Y_pred))\n",
    "print(confusion_matrix(Y, Y_pred))\n",
    "print(classification_report(Y, Y_pred))\n",
    "print(roc_auc_score(Y, Y_prob[:,1]))\n",
    "precision, recall, thresholds = precision_recall_curve(Y, Y_prob[:,1])\n",
    "plt.plot(recall, precision)\n",
    "plt.xlabel('Recall')\n",
    "plt.ylabel('Precision')\n",
    "plt.show()\n",
    "\n",
    "confusion_matrix_lag18 = pd.DataFrame(confusion_matrix(Y, Y_pred))\n",
    "classification_report_lag18 = pd.DataFrame(classification_report(Y, Y_pred, output_dict=True))\n",
    "\n"
   ]
  },
  {
   "cell_type": "code",
   "execution_count": null,
   "metadata": {},
   "outputs": [
    {
     "name": "stderr",
     "output_type": "stream",
     "text": [
      "C:\\Users\\Shashank\\AppData\\Local\\Packages\\PythonSoftwareFoundation.Python.3.11_qbz5n2kfra8p0\\LocalCache\\local-packages\\Python311\\site-packages\\statsmodels\\base\\optimizer.py:19: FutureWarning: Keyword arguments have been passed to the optimizer that have no effect. The list of allowed keyword arguments for method bfgs is: gtol, norm, epsilon. The list of unsupported keyword arguments passed include: max_start_irls. After release 0.14, this will raise.\n",
      "  warnings.warn(\n"
     ]
    },
    {
     "name": "stdout",
     "output_type": "stream",
     "text": [
      "Optimization terminated successfully.\n",
      "         Current function value: 0.020766\n",
      "         Iterations: 112\n",
      "         Function evaluations: 116\n",
      "         Gradient evaluations: 116\n"
     ]
    }
   ],
   "source": [
    "model18 = sm.Logit(Y, X_lag18.astype(float))\n",
    "result18 = model18.fit( maxiter=1000, method='bfgs', max_start_irls=100)\n",
    "Logit_lag18 = result18.summary().tables[1]\n",
    "Logit_lag18_1 = result18.summary().tables[0]\n",
    "Logit_lag18 = pd.DataFrame(Logit_lag18)\n",
    "Logit_lag18_1 = pd.DataFrame(Logit_lag18_1)\n",
    "\n"
   ]
  },
  {
   "cell_type": "code",
   "execution_count": null,
   "metadata": {},
   "outputs": [
    {
     "name": "stdout",
     "output_type": "stream",
     "text": [
      "(481771, 17)\n",
      "(384873, 1)\n",
      "0.5569034277063515\n",
      "[[196378 156590]\n",
      " [   291    797]]\n",
      "              precision    recall  f1-score   support\n",
      "\n",
      "         0.0       1.00      0.56      0.71    352968\n",
      "         1.0       0.01      0.73      0.01      1088\n",
      "\n",
      "    accuracy                           0.56    354056\n",
      "   macro avg       0.50      0.64      0.36    354056\n",
      "weighted avg       1.00      0.56      0.71    354056\n",
      "\n",
      "0.6775886009225799\n"
     ]
    },
    {
     "data": {
      "image/png": "[encoded data removed]",
      "text/plain": [
       "<Figure size 640x480 with 1 Axes>"
      ]
     },
     "metadata": {},
     "output_type": "display_data"
    }
   ],
   "source": [
    "lags = [24]\n",
    "X_lag24 = pd.DataFrame(X)\n",
    "\n",
    "for lag in lags:\n",
    "      \n",
    "     X_lag24['TLMTA_lag'+str(lag)] = X.groupby('company')['TLMTA'].shift(lag)\n",
    "     X_lag24['CASHMTA_lag'+str(lag)] = X.groupby('company')['CASHMTA'].shift(lag)\n",
    "    \n",
    "     X_lag24['SIGMA_lag'+str(lag)] = X.groupby('company')['SIGMA'].shift(lag)\n",
    "     X_lag24['RSIZE_lag'+str(lag)] = X.groupby('company')['RSIZE'].shift(lag)\n",
    "     X_lag24['MB_lag'+str(lag)] = X.groupby('company')['MB'].shift(lag)\n",
    "     X_lag24['Price_lag'+str(lag)] = X.groupby('company')['Price'].shift(lag)\n",
    "     X_lag24['NIMTAAVG_lag'+str(lag)] = X.groupby('company')['NIMTAAVG'].shift(lag)\n",
    "     X_lag24['EXRETAvg_lag'+str(lag)] = X.groupby('company')['EXRETAvg'].shift(lag)\n",
    "     \n",
    "print(X_lag24.shape)\n",
    "print(Y.shape)\n",
    "X_lag24.drop(['NIMTAAVG', 'EXRETAvg','TLMTA','CASHMTA','SIGMA','RSIZE','Price','MB'], axis=1, inplace=True)\n",
    "X_lag24.dropna(inplace=True)\n",
    "Y = Y.loc[X_lag24.index]\n",
    "\n",
    "X_train, X_test, Y_train, Y_test = train_test_split(X_lag24, Y.fillna(0), test_size=0.3, random_state=0)\n",
    "model = LogisticRegression(max_iter=1000, class_weight='balanced', solver='liblinear')\n",
    "model.fit(X_lag24, Y.values.ravel())\n",
    "Y_pred = model.predict(X_lag24)\n",
    "Y_prob = model.predict_proba(X_lag24)\n",
    "print(accuracy_score(Y, Y_pred))\n",
    "print(confusion_matrix(Y, Y_pred))\n",
    "print(classification_report(Y, Y_pred))\n",
    "print(roc_auc_score(Y, Y_prob[:,1]))\n",
    "precision, recall, thresholds = precision_recall_curve(Y, Y_prob[:,1])\n",
    "plt.plot(recall, precision)\n",
    "plt.xlabel('Recall')\n",
    "plt.ylabel('Precision')\n",
    "plt.show()\n",
    "\n",
    "confusion_matrix_lag24 = pd.DataFrame(confusion_matrix(Y, Y_pred))\n",
    "classification_report_lag24 = pd.DataFrame(classification_report(Y, Y_pred, output_dict=True))\n",
    "\n"
   ]
  },
  {
   "cell_type": "code",
   "execution_count": null,
   "metadata": {},
   "outputs": [
    {
     "name": "stdout",
     "output_type": "stream",
     "text": [
      "Optimization terminated successfully.\n",
      "         Current function value: 0.020223\n",
      "         Iterations: 98\n",
      "         Function evaluations: 101\n",
      "         Gradient evaluations: 101\n",
      "                0           1          2          3       4          5  \\\n",
      "0                        coef    std err          z   P>|z|     [0.025   \n",
      "1           const     -6.0328      0.212    -28.514   0.000     -6.448   \n",
      "2     TLMTA_lag24      0.4205      0.137      3.065   0.002      0.152   \n",
      "3   CASHMTA_lag24      0.4666      0.369      1.264   0.206     -0.257   \n",
      "4     SIGMA_lag24      0.8757      0.148      5.923   0.000      0.586   \n",
      "5     RSIZE_lag24     -0.0689      0.044     -1.577   0.115     -0.155   \n",
      "6        MB_lag24     -0.0956      0.010     -9.506   0.000     -0.115   \n",
      "7     Price_lag24      0.1034      0.048      2.166   0.030      0.010   \n",
      "8  NIMTAAVG_lag24     -1.1863      0.497     -2.387   0.017     -2.160   \n",
      "9  EXRETAvg_lag24     -0.2028      0.133     -1.523   0.128     -0.464   \n",
      "\n",
      "           6  \n",
      "0     0.975]  \n",
      "1     -5.618  \n",
      "2      0.689  \n",
      "3      1.190  \n",
      "4      1.165  \n",
      "5      0.017  \n",
      "6     -0.076  \n",
      "7      0.197  \n",
      "8     -0.212  \n",
      "9      0.058  \n",
      "                  0                 1                      2          3\n",
      "0    Dep. Variable:            Target    No. Observations:       354056\n",
      "1            Model:             Logit    Df Residuals:           354047\n",
      "2           Method:               MLE    Df Model:                    8\n",
      "3             Date:  Sun, 25 Aug 2024    Pseudo R-squ.:         0.02988\n",
      "4             Time:          13:04:51    Log-Likelihood:        -7160.0\n",
      "5        converged:              True    LL-Null:               -7380.5\n",
      "6  Covariance Type:         nonrobust    LLR p-value:         3.084e-90\n"
     ]
    }
   ],
   "source": [
    "model24 = sm.Logit(Y, X_lag24.astype(float))\n",
    "result24 = model24.fit( maxiter=1000, method='bfgs')\n",
    "Logit_lag24 = result24.summary().tables[1]\n",
    "Logit_lag24_1 = result24.summary().tables[0]\n",
    "Logit_lag24 = pd.DataFrame(Logit_lag24)\n",
    "Logit_lag24_1 = pd.DataFrame(Logit_lag24_1)\n",
    "\n",
    "print(Logit_lag24)\n",
    "print(Logit_lag24_1)\n"
   ]
  },
  {
   "cell_type": "code",
   "execution_count": null,
   "metadata": {},
   "outputs": [
    {
     "name": "stdout",
     "output_type": "stream",
     "text": [
      "(481771, 17)\n",
      "(354056, 1)\n",
      "0.5259823804654753\n",
      "[[154744 139767]\n",
      " [   236    607]]\n",
      "              precision    recall  f1-score   support\n",
      "\n",
      "         0.0       1.00      0.53      0.69    294511\n",
      "         1.0       0.00      0.72      0.01       843\n",
      "\n",
      "    accuracy                           0.53    295354\n",
      "   macro avg       0.50      0.62      0.35    295354\n",
      "weighted avg       1.00      0.53      0.69    295354\n",
      "\n",
      "0.6453012771561544\n"
     ]
    },
    {
     "data": {
      "image/png": "[encoded data removed]",
      "text/plain": [
       "<Figure size 640x480 with 1 Axes>"
      ]
     },
     "metadata": {},
     "output_type": "display_data"
    }
   ],
   "source": [
    "lags = [36]\n",
    "\n",
    "X_lag36 = pd.DataFrame(X)\n",
    "\n",
    "for lag in lags:\n",
    "      \n",
    "     X_lag36['TLMTA_lag'+str(lag)] = X.groupby('company')['TLMTA'].shift(lag)\n",
    "     X_lag36['CASHMTA_lag'+str(lag)] = X.groupby('company')['CASHMTA'].shift(lag)\n",
    "    \n",
    "     X_lag36['SIGMA_lag'+str(lag)] = X.groupby('company')['SIGMA'].shift(lag)\n",
    "     X_lag36['RSIZE_lag'+str(lag)] = X.groupby('company')['RSIZE'].shift(lag)\n",
    "     X_lag36['MB_lag'+str(lag)] = X.groupby('company')['MB'].shift(lag)\n",
    "     X_lag36['Price_lag'+str(lag)] = X.groupby('company')['Price'].shift(lag)\n",
    "     X_lag36['NIMTAAVG_lag'+str(lag)] = X.groupby('company')['NIMTAAVG'].shift(lag)\n",
    "     X_lag36['EXRETAvg_lag'+str(lag)] = X.groupby('company')['EXRETAvg'].shift(lag)\n",
    "     \n",
    "print(X_lag36.shape)\n",
    "print(Y.shape)\n",
    "X_lag36.drop(['NIMTAAVG', 'EXRETAvg','TLMTA','CASHMTA','SIGMA','RSIZE','Price','MB'], axis=1, inplace=True)\n",
    "X_lag36.dropna(inplace=True)\n",
    "Y = Y.loc[X_lag36.index]\n",
    "\n",
    "X_train, X_test, Y_train, Y_test = train_test_split(X_lag36, Y.fillna(0), test_size=0.3, random_state=0)\n",
    "model = LogisticRegression(max_iter=1000, class_weight='balanced', solver='liblinear')\n",
    "model.fit(X_lag36, Y.values.ravel())\n",
    "Y_pred = model.predict(X_lag36)\n",
    "Y_prob = model.predict_proba(X_lag36)\n",
    "print(accuracy_score(Y, Y_pred))\n",
    "print(confusion_matrix(Y, Y_pred))\n",
    "print(classification_report(Y, Y_pred))\n",
    "print(roc_auc_score(Y, Y_prob[:,1]))\n",
    "precision, recall, thresholds = precision_recall_curve(Y, Y_prob[:,1])\n",
    "plt.plot(recall, precision)\n",
    "plt.xlabel('Recall')\n",
    "plt.ylabel('Precision')\n",
    "plt.show()\n",
    "\n",
    "confusion_matrix_lag36 = pd.DataFrame(confusion_matrix(Y, Y_pred))\n",
    "classification_report_lag36 = pd.DataFrame(classification_report(Y, Y_pred, output_dict=True))\n",
    "\n"
   ]
  },
  {
   "cell_type": "code",
   "execution_count": null,
   "metadata": {},
   "outputs": [
    {
     "name": "stderr",
     "output_type": "stream",
     "text": [
      "C:\\Users\\Shashank\\AppData\\Local\\Packages\\PythonSoftwareFoundation.Python.3.11_qbz5n2kfra8p0\\LocalCache\\local-packages\\Python311\\site-packages\\statsmodels\\base\\optimizer.py:19: FutureWarning: Keyword arguments have been passed to the optimizer that have no effect. The list of allowed keyword arguments for method bfgs is: gtol, norm, epsilon. The list of unsupported keyword arguments passed include: max_start_irls. After release 0.14, this will raise.\n",
      "  warnings.warn(\n"
     ]
    },
    {
     "name": "stdout",
     "output_type": "stream",
     "text": [
      "Optimization terminated successfully.\n",
      "         Current function value: 0.019190\n",
      "         Iterations: 97\n",
      "         Function evaluations: 99\n",
      "         Gradient evaluations: 99\n"
     ]
    }
   ],
   "source": [
    "model36 = sm.Logit(Y, X_lag36.astype(float))\n",
    "result36 = model36.fit( maxiter=1000, method='bfgs', max_start_irls=100)\n",
    "Logit_lag36 = result36.summary().tables[1]\n",
    "Logit_lag36_1 = result36.summary().tables[0]\n",
    "Logit_lag36 = pd.DataFrame(Logit_lag36)\n",
    "Logit_lag36_1 = pd.DataFrame(Logit_lag36_1)\n"
   ]
  },
  {
   "cell_type": "code",
   "execution_count": null,
   "metadata": {},
   "outputs": [],
   "source": [
    "file_output = 'CHS_model_latest.xlsx'\n",
    "\n",
    "with pd.ExcelWriter(file_output) as writer:\n",
    "   \n",
    "    confusion_matrix1.to_excel(writer, sheet_name='confusion_matrix1')\n",
    "    classification_report1.to_excel(writer, sheet_name='classification_report1')\n",
    "    confusion_matrixtrain.to_excel(writer, sheet_name='confusion_matrixtrain')\n",
    "    classification_reporttrain.to_excel(writer, sheet_name='classification_reporttrain')\n",
    "    confusion_matrixfull.to_excel(writer, sheet_name='confusion_matrixfull')\n",
    "    classification_reportfull.to_excel(writer, sheet_name='classification_reportfull')\n",
    "    description_train.to_excel(writer, sheet_name='Logit_train')\n",
    "    descriptiontest.to_excel(writer, sheet_name='Logit_test')\n",
    "    description_train1.to_excel(writer, sheet_name='Logit_train1')\n",
    "    descriptiontest1.to_excel(writer, sheet_name='Logit_test1')\n",
    "    description.to_excel(writer, sheet_name='Logit')\n",
    "    description_1.to_excel(writer, sheet_name='Logit1')\n",
    "    DFpivot.to_excel(writer, sheet_name='DFpivot')\n",
    "    confusion_matrix_lag.to_excel(writer, sheet_name='confusion_matrix_lag')\n",
    "    classification_report_lag.to_excel(writer, sheet_name='classification_report_lag')\n",
    "    Logit_lag6.to_excel(writer, sheet_name='Logit_lag6')\n",
    "    Logit_lag6_1.to_excel(writer, sheet_name='Logit_lag6_1')\n",
    "    Logit_lag12.to_excel(writer, sheet_name='Logit_lag12')\n",
    "    Logit_lag12_1.to_excel(writer, sheet_name='Logit_lag12_1')\n",
    "    Logit_lag18.to_excel(writer, sheet_name='Logit_lag18')\n",
    "    Logit_lag18_1.to_excel(writer, sheet_name='Logit_lag18_1')\n",
    "    Logit_lag24.to_excel(writer, sheet_name='Logit_lag24')\n",
    "    Logit_lag24_1.to_excel(writer, sheet_name='Logit_lag24_1')\n",
    "    Logit_lag36.to_excel(writer, sheet_name='Logit_lag36')\n",
    "    Logit_lag36_1.to_excel(writer, sheet_name='Logit_lag36_1')\n",
    "    confusion_matrix_lag12.to_excel(writer, sheet_name='confusion_matrix_lag12')\n",
    "    classification_report_lag12.to_excel(writer, sheet_name='classification_report_lag12')\n",
    "    confusion_matrix_lag18.to_excel(writer, sheet_name='confusion_matrix_lag18')\n",
    "    classification_report_lag18.to_excel(writer, sheet_name='classification_report_lag18')\n",
    "    confusion_matrix_lag24.to_excel(writer, sheet_name='confusion_matrix_lag24')\n",
    "    classification_report_lag24.to_excel(writer, sheet_name='classification_report_lag24')\n",
    "    confusion_matrix_lag36.to_excel(writer, sheet_name='confusion_matrix_lag36')\n",
    "    classification_report_lag36.to_excel(writer, sheet_name='classification_report_lag36')\n",
    "    All_firms_Summary.to_excel(writer, sheet_name='All_firms_Summary')\n",
    "    Failed_firms_Summary.to_excel(writer, sheet_name='Failed_firms_Summary')\n",
    "    Active_firms_Summary.to_excel(writer, sheet_name='Active_firms_Summary')\n",
    " \n",
    "    Y_pred5.to_excel(writer, sheet_name='Y_pred5')\n",
    "    Y_prob5.to_excel(writer, sheet_name='Y_prob5')\n",
    "    Y_pred6.to_excel(writer, sheet_name='Y_pred6')\n",
    "    Y_prob6.to_excel(writer, sheet_name='Y_prob6')\n",
    "   \n",
    "    \n",
    "    \n",
    "    \n",
    "    \n",
    "    \n",
    "    classification_report_lag.to_excel(writer, sheet_name='classification_report_lag')\n",
    "    classification_report_lag36.to_excel(writer, sheet_name='classification_report_lag36')\n",
    "    \n",
    "    \n",
    "   \n",
    "    \n",
    "    \n",
    "    \n",
    "    \n",
    "    \n",
    "    \n",
    "    \n",
    "    \n",
    "    \n",
    "\n",
    "\n",
    "\n",
    "# The with statement ensures the writer is saved and closed properly"
   ]
  },
  {
   "cell_type": "code",
   "execution_count": null,
   "metadata": {},
   "outputs": [
    {
     "name": "stdout",
     "output_type": "stream",
     "text": [
      "                        NITA     TLTA     EXRET  SIGMA     RSIZE  Target\n",
      "company Date                                                            \n",
      "1       1986-12-31       NaN      NaN       NaN    NaN       NaN     NaN\n",
      "2       1986-12-31  0.040463  0.62491 -0.175893    NaN -3.342317     NaN\n",
      "3       1986-12-31       NaN      NaN       NaN    NaN       NaN     NaN\n",
      "4       1986-12-31       NaN      NaN       NaN    NaN       NaN     NaN\n",
      "5       1986-12-31       NaN      NaN       NaN    NaN       NaN     NaN\n",
      "(2558750, 6)\n",
      "                NITA           TLTA         SIGMA         RSIZE        Target\n",
      "count  570980.000000  570980.000000  1.612237e+06  1.616132e+06  2.553000e+06\n",
      "mean        0.049491      -0.385864  2.805240e-01 -4.680791e+00  1.038778e-03\n",
      "std        26.732667     223.985524  3.278968e-01  1.075210e+00  3.221334e-02\n",
      "min      -378.894926  -84535.181576  0.000000e+00 -1.265812e+01  0.000000e+00\n",
      "25%         0.000000       0.000000  0.000000e+00 -5.378226e+00  0.000000e+00\n",
      "50%         0.000000       0.000409  2.268000e-01 -4.671293e+00  0.000000e+00\n",
      "75%         0.023514       0.425633  4.267000e-01 -3.972065e+00  0.000000e+00\n",
      "max      9697.389093     623.846154  1.595280e+01 -9.169539e-01  1.000000e+00\n"
     ]
    }
   ],
   "source": [
    "DF1 = pd.concat([NITA,TLTA, EXRET, SIGMA, RSIZE,Target], axis=1)\n",
    "\n",
    "print(DF1.head())\n",
    "print(DF1.shape)\n",
    "print(DF1.describe())\n"
   ]
  },
  {
   "cell_type": "code",
   "execution_count": null,
   "metadata": {},
   "outputs": [],
   "source": [
    "DF1['NITA'] = pd.to_numeric(DF1['NITA'], errors='coerce')\n",
    "DF1['TLTA'] = pd.to_numeric(DF1['TLTA'], errors='coerce')\n",
    "DF1['EXRET'] = pd.to_numeric(DF1['EXRET'], errors='coerce')\n",
    "DF1['SIGMA'] = pd.to_numeric(DF1['SIGMA'], errors='coerce')\n",
    "DF1['RSIZE'] = pd.to_numeric(DF1['RSIZE'], errors='coerce')\n"
   ]
  },
  {
   "cell_type": "code",
   "execution_count": null,
   "metadata": {},
   "outputs": [],
   "source": [
    "DF1['NITA'] =DF1.groupby('company')['NITA'].shift(2)\n",
    "DF1['TLTA'] =DF1.groupby('company')['TLTA'].shift(2)\n",
    "DF1['SIGMA'] =DF1.groupby('company')['SIGMA'].shift(-1)\n",
    "DF1['RSIZE'] =DF1.groupby('company')['RSIZE'].shift(-1)\n",
    "\n"
   ]
  },
  {
   "cell_type": "code",
   "execution_count": null,
   "metadata": {},
   "outputs": [
    {
     "name": "stdout",
     "output_type": "stream",
     "text": [
      "(532917, 6)\n",
      "                NITA           TLTA          EXRET          SIGMA  \\\n",
      "count  532917.000000  532917.000000  532917.000000  532914.000000   \n",
      "mean       -0.037882       0.220042      -0.051974       0.279845   \n",
      "std         1.952825       2.272071       0.738934       0.318111   \n",
      "min      -378.894926    -926.000000     -52.626188       0.000000   \n",
      "25%         0.000000       0.000000      -0.033506       0.000000   \n",
      "50%         0.000000       0.000000      -0.005421       0.228500   \n",
      "75%         0.022377       0.400750       0.018994       0.427700   \n",
      "max       619.160000     208.799645      10.347913      10.701700   \n",
      "\n",
      "               RSIZE         Target  \n",
      "count  532917.000000  532917.000000  \n",
      "mean       -4.676705       0.003674  \n",
      "std         1.074632       0.060503  \n",
      "min       -12.658122       0.000000  \n",
      "25%        -5.377376       0.000000  \n",
      "50%        -4.669526       0.000000  \n",
      "75%        -3.965779       0.000000  \n",
      "max        -0.920174       1.000000  \n"
     ]
    }
   ],
   "source": [
    "DF1 = DF1.dropna(subset=['NITA', 'TLTA', 'EXRET', 'RSIZE'])\n",
    "print(DF1.shape)\n",
    "print(DF1.describe())\n"
   ]
  },
  {
   "cell_type": "code",
   "execution_count": null,
   "metadata": {},
   "outputs": [
    {
     "name": "stdout",
     "output_type": "stream",
     "text": [
      "Target         0.0  1.0\n",
      "Date                   \n",
      "1987-01-31  1210.0  NaN\n",
      "1987-02-28  1219.0  NaN\n",
      "1987-06-30  1226.0  NaN\n",
      "1987-09-30  1258.0  NaN\n",
      "1987-12-31  1292.0  NaN\n",
      "(149, 2)\n"
     ]
    }
   ],
   "source": [
    "DF1 = DF1.reset_index()\n",
    "DF1 = DF1.set_index(['Date'])\n",
    "DF1pivot = pd.pivot_table(DF1, values=('company'), index=['Date'], columns=['Target'], aggfunc='count')\n",
    "print(DF1pivot.head())\n",
    "print(DF1pivot.shape)\n",
    "\n",
    "DF1 = DF1.reset_index()\n",
    "DF1 = DF1.set_index(['company', 'Date'])\n",
    "\n",
    "DF1pivot = pd.DataFrame(DF1pivot)\n",
    "DF1pivot = DF1pivot.fillna(0)"
   ]
  },
  {
   "cell_type": "code",
   "execution_count": null,
   "metadata": {},
   "outputs": [
    {
     "name": "stderr",
     "output_type": "stream",
     "text": [
      "C:\\Users\\Shashank\\AppData\\Local\\Packages\\PythonSoftwareFoundation.Python.3.11_qbz5n2kfra8p0\\LocalCache\\local-packages\\Python311\\site-packages\\numpy\\lib\\function_base.py:4824: UserWarning: Warning: 'partition' will ignore the 'mask' of the MaskedArray.\n",
      "  arr.partition(\n",
      "C:\\Users\\Shashank\\AppData\\Local\\Packages\\PythonSoftwareFoundation.Python.3.11_qbz5n2kfra8p0\\LocalCache\\local-packages\\Python311\\site-packages\\numpy\\lib\\function_base.py:4824: UserWarning: Warning: 'partition' will ignore the 'mask' of the MaskedArray.\n",
      "  arr.partition(\n",
      "C:\\Users\\Shashank\\AppData\\Local\\Packages\\PythonSoftwareFoundation.Python.3.11_qbz5n2kfra8p0\\LocalCache\\local-packages\\Python311\\site-packages\\numpy\\lib\\function_base.py:4824: UserWarning: Warning: 'partition' will ignore the 'mask' of the MaskedArray.\n",
      "  arr.partition(\n",
      "C:\\Users\\Shashank\\AppData\\Local\\Packages\\PythonSoftwareFoundation.Python.3.11_qbz5n2kfra8p0\\LocalCache\\local-packages\\Python311\\site-packages\\numpy\\lib\\function_base.py:4824: UserWarning: Warning: 'partition' will ignore the 'mask' of the MaskedArray.\n",
      "  arr.partition(\n",
      "C:\\Users\\Shashank\\AppData\\Local\\Packages\\PythonSoftwareFoundation.Python.3.11_qbz5n2kfra8p0\\LocalCache\\local-packages\\Python311\\site-packages\\numpy\\lib\\function_base.py:4824: UserWarning: Warning: 'partition' will ignore the 'mask' of the MaskedArray.\n",
      "  arr.partition(\n"
     ]
    },
    {
     "name": "stdout",
     "output_type": "stream",
     "text": [
      "                NITA           TLTA          EXRET          SIGMA  \\\n",
      "count  532917.000000  532917.000000  532917.000000  532917.000000   \n",
      "mean       -0.004632       0.193972      -0.022652       0.265350   \n",
      "std         0.079288       0.265303       0.303635       0.265791   \n",
      "min        -0.260729       0.000000      -0.796546       0.000000   \n",
      "25%         0.000000       0.000000      -0.033506       0.000000   \n",
      "50%         0.000000       0.000000      -0.005421       0.228500   \n",
      "75%         0.022377       0.400750       0.018994       0.427700   \n",
      "max         0.112691       0.782723       0.643023       0.860800   \n",
      "\n",
      "               RSIZE         Target  \n",
      "count  532917.000000  532917.000000  \n",
      "mean       -4.677205       0.003674  \n",
      "std         0.980502       0.060503  \n",
      "min        -6.482224       0.000000  \n",
      "25%        -5.377376       0.000000  \n",
      "50%        -4.669526       0.000000  \n",
      "75%        -3.965779       0.000000  \n",
      "max        -2.898270       1.000000  \n"
     ]
    },
    {
     "name": "stderr",
     "output_type": "stream",
     "text": [
      "C:\\Users\\Shashank\\AppData\\Local\\Packages\\PythonSoftwareFoundation.Python.3.11_qbz5n2kfra8p0\\LocalCache\\local-packages\\Python311\\site-packages\\numpy\\lib\\function_base.py:4824: UserWarning: Warning: 'partition' will ignore the 'mask' of the MaskedArray.\n",
      "  arr.partition(\n"
     ]
    }
   ],
   "source": [
    "DF1['NITA'] = winsorize(DF1['NITA'], limits=[0.05, 0.05])\n",
    "DF1['TLTA'] = winsorize(DF1['TLTA'], limits=[0.05, 0.05])\n",
    "DF1['RSIZE'] = winsorize(DF1['RSIZE'], limits=[0.05, 0.05])\n",
    "DF1['EXRET'] = winsorize(DF1['EXRET'], limits=[0.05, 0.05])\n",
    "DF1['SIGMA'] = winsorize(DF1['SIGMA'], limits=[0.05, 0.05])\n",
    "print(DF1.describe())\n"
   ]
  },
  {
   "cell_type": "code",
   "execution_count": null,
   "metadata": {},
   "outputs": [],
   "source": [
    "DF1['SIGMA'] =DF1.groupby('Date')['SIGMA'].transform(lambda x: x.fillna(x.mean()))\n",
    "\n",
    "\n"
   ]
  },
  {
   "cell_type": "code",
   "execution_count": null,
   "metadata": {},
   "outputs": [
    {
     "name": "stderr",
     "output_type": "stream",
     "text": [
      "C:\\Users\\Shashank\\AppData\\Local\\Packages\\PythonSoftwareFoundation.Python.3.11_qbz5n2kfra8p0\\LocalCache\\local-packages\\Python311\\site-packages\\numpy\\lib\\function_base.py:4824: UserWarning: Warning: 'partition' will ignore the 'mask' of the MaskedArray.\n",
      "  arr.partition(\n",
      "C:\\Users\\Shashank\\AppData\\Local\\Packages\\PythonSoftwareFoundation.Python.3.11_qbz5n2kfra8p0\\LocalCache\\local-packages\\Python311\\site-packages\\numpy\\lib\\function_base.py:4824: UserWarning: Warning: 'partition' will ignore the 'mask' of the MaskedArray.\n",
      "  arr.partition(\n",
      "C:\\Users\\Shashank\\AppData\\Local\\Packages\\PythonSoftwareFoundation.Python.3.11_qbz5n2kfra8p0\\LocalCache\\local-packages\\Python311\\site-packages\\numpy\\lib\\function_base.py:4824: UserWarning: Warning: 'partition' will ignore the 'mask' of the MaskedArray.\n",
      "  arr.partition(\n",
      "C:\\Users\\Shashank\\AppData\\Local\\Packages\\PythonSoftwareFoundation.Python.3.11_qbz5n2kfra8p0\\LocalCache\\local-packages\\Python311\\site-packages\\numpy\\lib\\function_base.py:4824: UserWarning: Warning: 'partition' will ignore the 'mask' of the MaskedArray.\n",
      "  arr.partition(\n",
      "C:\\Users\\Shashank\\AppData\\Local\\Packages\\PythonSoftwareFoundation.Python.3.11_qbz5n2kfra8p0\\LocalCache\\local-packages\\Python311\\site-packages\\numpy\\lib\\function_base.py:4824: UserWarning: Warning: 'partition' will ignore the 'mask' of the MaskedArray.\n",
      "  arr.partition(\n"
     ]
    },
    {
     "name": "stdout",
     "output_type": "stream",
     "text": [
      "                NITA           TLTA          EXRET          SIGMA  \\\n",
      "count  532917.000000  532917.000000  532917.000000  532917.000000   \n",
      "mean       -0.004632       0.193972      -0.022652       0.265350   \n",
      "std         0.079288       0.265303       0.303635       0.265791   \n",
      "min        -0.260729       0.000000      -0.796546       0.000000   \n",
      "25%         0.000000       0.000000      -0.033506       0.000000   \n",
      "\n",
      "               RSIZE         Target  \n",
      "count  532917.000000  532917.000000  \n",
      "mean       -4.677205       0.003674  \n",
      "std         0.980502       0.060503  \n",
      "min        -6.482224       0.000000  \n",
      "25%        -5.377376       0.000000  \n",
      "              NITA         TLTA        EXRET        SIGMA        RSIZE  Target\n",
      "count  1958.000000  1958.000000  1958.000000  1958.000000  1958.000000  1958.0\n",
      "mean     -0.051061     0.355461    -0.051428     0.449701    -4.885382     1.0\n",
      "std       0.119940     0.290082     0.421503     0.279916     0.973978     0.0\n",
      "min      -0.260729     0.000000    -0.796546     0.000000    -6.482224     1.0\n",
      "25%      -0.129841     0.036326    -0.242737     0.251075    -5.660003     1.0\n",
      "                NITA           TLTA          EXRET          SIGMA  \\\n",
      "count  530959.000000  530959.000000  530959.000000  530959.000000   \n",
      "mean       -0.004461       0.193376      -0.022546       0.264670   \n",
      "std         0.079049       0.265026       0.303111       0.265501   \n",
      "min        -0.260729       0.000000      -0.796546       0.000000   \n",
      "25%         0.000000       0.000000      -0.033506       0.000000   \n",
      "\n",
      "               RSIZE    Target  \n",
      "count  530959.000000  530959.0  \n",
      "mean       -4.676437       0.0  \n",
      "std         0.980445       0.0  \n",
      "min        -6.482224       0.0  \n",
      "25%        -5.376174       0.0  \n"
     ]
    },
    {
     "name": "stderr",
     "output_type": "stream",
     "text": [
      "C:\\Users\\Shashank\\AppData\\Local\\Packages\\PythonSoftwareFoundation.Python.3.11_qbz5n2kfra8p0\\LocalCache\\local-packages\\Python311\\site-packages\\numpy\\lib\\function_base.py:4824: UserWarning: Warning: 'partition' will ignore the 'mask' of the MaskedArray.\n",
      "  arr.partition(\n"
     ]
    }
   ],
   "source": [
    "All_firms_Summary = pd.DataFrame(DF1.describe())\n",
    "print(All_firms_Summary.head())\n",
    "Failed_firms = DF1[DF1['Target'] == 1]\n",
    "Failed_firms_Summary = pd.DataFrame(Failed_firms.describe())\n",
    "Active_firms =DF1[ DF1['Target'] == 0]\n",
    "Active_firms_Summary = pd.DataFrame(Active_firms.describe())\n",
    "print(Failed_firms_Summary.head())\n",
    "print(Active_firms_Summary.head())"
   ]
  },
  {
   "cell_type": "code",
   "execution_count": null,
   "metadata": {},
   "outputs": [],
   "source": [
    "X1 = pd.DataFrame(DF1[['NITA', 'TLTA', 'SIGMA', 'RSIZE', 'EXRET']])\n",
    "Y1 =pd.DataFrame(DF1['Target'])\n",
    "Y1 = Y1.loc[X1.index]\n",
    "Y1 = Y1.fillna(0)\n",
    "\n",
    "\n"
   ]
  },
  {
   "cell_type": "code",
   "execution_count": null,
   "metadata": {},
   "outputs": [],
   "source": []
  },
  {
   "cell_type": "markdown",
   "metadata": {},
   "source": []
  },
  {
   "cell_type": "code",
   "execution_count": null,
   "metadata": {},
   "outputs": [],
   "source": []
  },
  {
   "cell_type": "code",
   "execution_count": null,
   "metadata": {},
   "outputs": [],
   "source": []
  },
  {
   "cell_type": "code",
   "execution_count": null,
   "metadata": {},
   "outputs": [
    {
     "name": "stdout",
     "output_type": "stream",
     "text": [
      "(532917, 5)\n",
      "(532917, 1)\n"
     ]
    }
   ],
   "source": [
    "\n",
    "X1.dropna(inplace=True)\n",
    "Y1 = Y1.loc[X1.index]\n",
    "print(X1.shape)\n",
    "print(Y1.shape)"
   ]
  },
  {
   "cell_type": "code",
   "execution_count": null,
   "metadata": {},
   "outputs": [],
   "source": []
  },
  {
   "cell_type": "code",
   "execution_count": null,
   "metadata": {},
   "outputs": [],
   "source": []
  },
  {
   "cell_type": "code",
   "execution_count": null,
   "metadata": {},
   "outputs": [
    {
     "name": "stderr",
     "output_type": "stream",
     "text": [
      "C:\\Users\\Shashank\\AppData\\Local\\Packages\\PythonSoftwareFoundation.Python.3.11_qbz5n2kfra8p0\\LocalCache\\local-packages\\Python311\\site-packages\\sklearn\\utils\\validation.py:1339: DataConversionWarning: A column-vector y was passed when a 1d array was expected. Please change the shape of y to (n_samples, ), for example using ravel().\n",
      "  y = column_or_1d(y, warn=True)\n"
     ]
    },
    {
     "name": "stdout",
     "output_type": "stream",
     "text": [
      "0.6759175861292501\n",
      "[[107664  51609]\n",
      " [   204    399]]\n",
      "              precision    recall  f1-score   support\n",
      "\n",
      "         0.0       1.00      0.68      0.81    159273\n",
      "         1.0       0.01      0.66      0.02       603\n",
      "\n",
      "    accuracy                           0.68    159876\n",
      "   macro avg       0.50      0.67      0.41    159876\n",
      "weighted avg       0.99      0.68      0.80    159876\n",
      "\n",
      "0.7291361779313612\n"
     ]
    },
    {
     "data": {
      "image/png": "[encoded data removed]",
      "text/plain": [
       "<Figure size 640x480 with 1 Axes>"
      ]
     },
     "metadata": {},
     "output_type": "display_data"
    }
   ],
   "source": [
    "X1_train, X1_test, Y1_train, Y1_test = train_test_split(X1, Y1, test_size=0.3, random_state=0)\n",
    "\n",
    "model3 = LogisticRegression(max_iter=1000,class_weight='balanced')\n",
    "model3.fit(X1_train, Y1_train)\n",
    "Y1_pred = model3.predict(X1_test)\n",
    "Y1_prob = model3.predict_proba(X1_test)\n",
    "\n",
    "\n",
    "\n",
    "print(accuracy_score(Y1_test, Y1_pred))\n",
    "print(confusion_matrix(Y1_test, Y1_pred))\n",
    "print(classification_report(Y1_test, Y1_pred))\n",
    "print(roc_auc_score(Y1_test, Y1_prob[:,1]))\n",
    "roc_auc = roc_auc_score(Y1_test, Y1_prob[:,1])\n",
    "\n",
    "\n",
    "confusion_matrixtest = pd.DataFrame(confusion_matrix(Y1_test, Y1_pred))\n",
    "classification_reporttest = pd.DataFrame(classification_report(Y1_test, Y1_pred, output_dict=True))\n",
    "\n",
    "\n",
    "\n",
    "plt.figure()\n",
    "fpr, tpr, thresholds = roc_curve(Y1_test, Y1_prob[:,1])\n",
    "plt.plot(fpr, tpr)\n",
    "plt.plot([0, 1], [0, 1], 'k--')\n",
    "plt.xlabel('False Positive Rate')\n",
    "plt.ylabel('True Positive Rate')\n",
    "plt.title('ROC Curve')\n",
    "plt.legend(['ROC curve(area) = %0.2f' % roc_auc])\n",
    "plt.show()\n",
    "\n",
    "Y1_pred = pd.DataFrame(Y1_pred, index=X1_test.index, columns=['Prediction'])\n",
    "Y1_prob = pd.DataFrame(Y1_prob, index=X1_test.index, columns=['Prob_0', 'Prob_1'])\n",
    "\n"
   ]
  },
  {
   "cell_type": "code",
   "execution_count": null,
   "metadata": {},
   "outputs": [
    {
     "name": "stdout",
     "output_type": "stream",
     "text": [
      "Optimization terminated successfully.\n",
      "         Current function value: 0.023104\n",
      "         Iterations: 82\n",
      "         Function evaluations: 86\n",
      "         Gradient evaluations: 86\n",
      "                           Logit Regression Results                           \n",
      "==============================================================================\n",
      "Dep. Variable:                 Target   No. Observations:               532917\n",
      "Model:                          Logit   Df Residuals:                   532911\n",
      "Method:                           MLE   Df Model:                            5\n",
      "Date:                Sun, 25 Aug 2024   Pseudo R-squ.:                 0.04790\n",
      "Time:                        13:11:46   Log-Likelihood:                -12312.\n",
      "converged:                       True   LL-Null:                       -12932.\n",
      "Covariance Type:            nonrobust   LLR p-value:                1.192e-265\n",
      "==============================================================================\n",
      "                 coef    std err          z      P>|z|      [0.025      0.975]\n",
      "------------------------------------------------------------------------------\n",
      "const         -7.1717      0.132    -54.399      0.000      -7.430      -6.913\n",
      "NITA          -2.1156      0.228     -9.279      0.000      -2.563      -1.669\n",
      "TLTA           1.3676      0.083     16.443      0.000       1.205       1.531\n",
      "SIGMA          1.3155      0.096     13.638      0.000       1.126       1.505\n",
      "RSIZE         -0.1439      0.026     -5.452      0.000      -0.196      -0.092\n",
      "EXRET          0.0134      0.057      0.237      0.812      -0.097       0.124\n",
      "==============================================================================\n"
     ]
    }
   ],
   "source": [
    "X1 = sm.add_constant(X1)\n",
    "model3 = sm.Logit(Y1, X1)\n",
    "result2 = model3.fit( maxiter=1000, method='bfgs')\n",
    "print(result2.summary())\n",
    "\n",
    "descriptionfull = result2.summary().tables[1]\n",
    "descriptionfull = pd.DataFrame(descriptionfull)\n",
    "descriptionfull1 = result2.summary().tables[0]\n",
    "descriptionfull1 = pd.DataFrame(descriptionfull1)\n",
    "\n"
   ]
  },
  {
   "cell_type": "code",
   "execution_count": null,
   "metadata": {},
   "outputs": [],
   "source": []
  },
  {
   "cell_type": "code",
   "execution_count": null,
   "metadata": {},
   "outputs": [
    {
     "name": "stderr",
     "output_type": "stream",
     "text": [
      "C:\\Users\\Shashank\\AppData\\Local\\Packages\\PythonSoftwareFoundation.Python.3.11_qbz5n2kfra8p0\\LocalCache\\local-packages\\Python311\\site-packages\\sklearn\\utils\\validation.py:1339: DataConversionWarning: A column-vector y was passed when a 1d array was expected. Please change the shape of y to (n_samples, ), for example using ravel().\n",
      "  y = column_or_1d(y, warn=True)\n"
     ]
    },
    {
     "name": "stdout",
     "output_type": "stream",
     "text": [
      "0.7156894330048753\n",
      "0.6576019507293469\n",
      "[[359894 171065]\n",
      " [   710   1248]]\n",
      "              precision    recall  f1-score   support\n",
      "\n",
      "         0.0       1.00      0.68      0.81    530959\n",
      "         1.0       0.01      0.64      0.01      1958\n",
      "\n",
      "    accuracy                           0.68    532917\n",
      "   macro avg       0.50      0.66      0.41    532917\n",
      "weighted avg       0.99      0.68      0.80    532917\n",
      "\n"
     ]
    }
   ],
   "source": [
    "X1 = X1.drop('const', axis=1)\n",
    "model4 = LogisticRegression(max_iter=1000,class_weight='balanced', solver='liblinear', C=0.01)\n",
    "model4.fit(X1, Y1)\n",
    "Y1_prob1 = model4.predict_proba(X1)\n",
    "Y1_pred1 = model4.predict(X1)\n",
    "\n",
    "\n",
    "\n",
    "print(roc_auc_score(Y1, Y1_prob1[:,1]))\n",
    "print(roc_auc_score(Y1, Y1_pred1))\n",
    "precision, recall, thresholds = precision_recall_curve(Y1, Y1_prob1[:,1])\n",
    "print(confusion_matrix(Y1, Y1_pred1))\n",
    "print(classification_report(Y1, Y1_pred1))\n",
    "\n",
    "\n",
    "confusion_matrixfull1 = pd.DataFrame(confusion_matrix(Y1, Y1_pred1), index=['Actual 0', 'Actual 1'], columns=['Predicted 0', 'Predicted 1'])\n",
    "classification_reportfull1 = pd.DataFrame(classification_report(Y1, Y1_pred1, output_dict=True))\n",
    "\n",
    "Y1_pred1 = pd.DataFrame(Y1_pred1, index=X1.index, columns=['Prediction'])\n",
    "Y1_prob1 = pd.DataFrame(Y1_prob1, index=X1.index, columns=['Prob_0', 'Prob_1'])\n",
    "\n",
    "\n",
    "\n",
    "\n"
   ]
  },
  {
   "cell_type": "code",
   "execution_count": null,
   "metadata": {},
   "outputs": [
    {
     "name": "stdout",
     "output_type": "stream",
     "text": [
      "Optimization terminated successfully.\n",
      "         Current function value: 0.022947\n",
      "         Iterations: 86\n",
      "         Function evaluations: 88\n",
      "         Gradient evaluations: 88\n",
      "                           Logit Regression Results                           \n",
      "==============================================================================\n",
      "Dep. Variable:                 Target   No. Observations:               373041\n",
      "Model:                          Logit   Df Residuals:                   373035\n",
      "Method:                           MLE   Df Model:                            5\n",
      "Date:                Sun, 25 Aug 2024   Pseudo R-squ.:                 0.04515\n",
      "Time:                        13:11:54   Log-Likelihood:                -8560.0\n",
      "converged:                       True   LL-Null:                       -8964.8\n",
      "Covariance Type:            nonrobust   LLR p-value:                1.009e-172\n",
      "==============================================================================\n",
      "                 coef    std err          z      P>|z|      [0.025      0.975]\n",
      "------------------------------------------------------------------------------\n",
      "const         -7.0552      0.158    -44.778      0.000      -7.364      -6.746\n",
      "NITA          -2.0710      0.275     -7.538      0.000      -2.609      -1.532\n",
      "TLTA           1.2879      0.100     12.887      0.000       1.092       1.484\n",
      "SIGMA          1.3532      0.116     11.697      0.000       1.126       1.580\n",
      "RSIZE         -0.1206      0.032     -3.812      0.000      -0.183      -0.059\n",
      "EXRET          0.0336      0.068      0.492      0.623      -0.100       0.167\n",
      "==============================================================================\n"
     ]
    }
   ],
   "source": [
    "X1_train = sm.add_constant(X1_train)\n",
    "model4 = sm.Logit(Y1_train, X1_train.astype(float))\n",
    "result3 = model4.fit( maxiter=1000, method='bfgs')\n",
    "print(result3.summary())\n",
    "\n",
    "descriptiontrain = result3.summary().tables[1]\n",
    "descriptiontrain = pd.DataFrame(descriptiontrain)\n",
    "descriptiontrain1 = result3.summary().tables[0]\n",
    "descriptiontrain1 = pd.DataFrame(descriptiontrain1)\n"
   ]
  },
  {
   "cell_type": "code",
   "execution_count": null,
   "metadata": {},
   "outputs": [
    {
     "name": "stdout",
     "output_type": "stream",
     "text": [
      "Optimization terminated successfully.\n",
      "         Current function value: 0.023456\n",
      "         Iterations: 83\n",
      "         Function evaluations: 86\n",
      "         Gradient evaluations: 86\n",
      "                           Logit Regression Results                           \n",
      "==============================================================================\n",
      "Dep. Variable:                 Target   No. Observations:               159876\n",
      "Model:                          Logit   Df Residuals:                   159870\n",
      "Method:                           MLE   Df Model:                            5\n",
      "Date:                Sun, 25 Aug 2024   Pseudo R-squ.:                 0.05464\n",
      "Time:                        13:11:55   Log-Likelihood:                -3750.0\n",
      "converged:                       True   LL-Null:                       -3966.7\n",
      "Covariance Type:            nonrobust   LLR p-value:                 1.792e-91\n",
      "==============================================================================\n",
      "                 coef    std err          z      P>|z|      [0.025      0.975]\n",
      "------------------------------------------------------------------------------\n",
      "const         -7.4338      0.241    -30.876      0.000      -7.906      -6.962\n",
      "NITA          -2.1904      0.409     -5.358      0.000      -2.992      -1.389\n",
      "TLTA           1.5524      0.150     10.335      0.000       1.258       1.847\n",
      "SIGMA          1.2389      0.175      7.088      0.000       0.896       1.581\n",
      "RSIZE         -0.1946      0.048     -4.068      0.000      -0.288      -0.101\n",
      "EXRET         -0.0300      0.101     -0.297      0.766      -0.228       0.168\n",
      "==============================================================================\n"
     ]
    }
   ],
   "source": [
    "X1_test = sm.add_constant(X1_test)\n",
    "model5 = sm.Logit(Y1_test, X1_test.astype(float))\n",
    "result4 = model5.fit( maxiter=1000, method='bfgs')\n",
    "print(result4.summary())\n",
    "\n",
    "descriptiontest = result4.summary().tables[1]\n",
    "descriptiontest = pd.DataFrame(descriptiontest)\n",
    "descriptiontest1 = result4.summary().tables[0]\n",
    "descriptiontest1 = pd.DataFrame(descriptiontest1)\n"
   ]
  },
  {
   "cell_type": "code",
   "execution_count": null,
   "metadata": {},
   "outputs": [
    {
     "name": "stderr",
     "output_type": "stream",
     "text": [
      "C:\\Users\\Shashank\\AppData\\Local\\Packages\\PythonSoftwareFoundation.Python.3.11_qbz5n2kfra8p0\\LocalCache\\local-packages\\Python311\\site-packages\\sklearn\\utils\\validation.py:1339: DataConversionWarning: A column-vector y was passed when a 1d array was expected. Please change the shape of y to (n_samples, ), for example using ravel().\n",
      "  y = column_or_1d(y, warn=True)\n"
     ]
    },
    {
     "name": "stdout",
     "output_type": "stream",
     "text": [
      "0.6755611313501733\n",
      "[[251160 120526]\n",
      " [   503    852]]\n",
      "              precision    recall  f1-score   support\n",
      "\n",
      "         0.0       1.00      0.68      0.81    371686\n",
      "         1.0       0.01      0.63      0.01      1355\n",
      "\n",
      "    accuracy                           0.68    373041\n",
      "   macro avg       0.50      0.65      0.41    373041\n",
      "weighted avg       0.99      0.68      0.80    373041\n",
      "\n",
      "0.7098162143489248\n"
     ]
    },
    {
     "data": {
      "image/png": "[encoded data removed]",
      "text/plain": [
       "<Figure size 640x480 with 1 Axes>"
      ]
     },
     "metadata": {},
     "output_type": "display_data"
    }
   ],
   "source": [
    "X1_train = X1_train.drop('const', axis=1)\n",
    "model5 = LogisticRegression(max_iter=1000,class_weight='balanced', solver='liblinear')\n",
    "model5.fit(X1_train, Y1_train)\n",
    "Y1_pred2 = model5.predict(X1_train)\n",
    "Y1_prob2 = model5.predict_proba(X1_train)\n",
    "\n",
    "\n",
    "print(accuracy_score(Y1_train, Y1_pred2))\n",
    "print(confusion_matrix(Y1_train, Y1_pred2))\n",
    "print(classification_report(Y1_train, Y1_pred2))\n",
    "print(roc_auc_score(Y1_train, Y1_prob2[:,1]))\n",
    "precision, recall, thresholds = precision_recall_curve(Y1_train, Y1_prob2[:,1])\n",
    "plt.plot(recall, precision)\n",
    "plt.xlabel('Recall')\n",
    "plt.ylabel('Precision')\n",
    "plt.show()\n",
    "\n",
    "confusion_matrixtrain1 = pd.DataFrame(confusion_matrix(Y1_train, Y1_pred2))\n",
    "classification_reporttrain1 = pd.DataFrame(classification_report(Y1_train, Y1_pred2, output_dict=True))\n",
    "\n",
    "\n",
    "Y1_pred2 = pd.DataFrame(Y1_pred2, index=X1_train.index, columns=['Prediction'])\n",
    "Y1_prob2 = pd.DataFrame(Y1_prob2, index=X1_train.index, columns=['Prob_0', 'Prob_1'])\n",
    "\n"
   ]
  },
  {
   "cell_type": "code",
   "execution_count": null,
   "metadata": {},
   "outputs": [
    {
     "name": "stdout",
     "output_type": "stream",
     "text": [
      "(532917, 10)\n",
      "(532917, 1)\n",
      "0.6522166243316446\n",
      "[[324138 172803]\n",
      " [   671   1187]]\n",
      "              precision    recall  f1-score   support\n",
      "\n",
      "         0.0       1.00      0.65      0.79    496941\n",
      "         1.0       0.01      0.64      0.01      1858\n",
      "\n",
      "    accuracy                           0.65    498799\n",
      "   macro avg       0.50      0.65      0.40    498799\n",
      "weighted avg       0.99      0.65      0.79    498799\n",
      "\n",
      "0.6966839994687065\n"
     ]
    },
    {
     "data": {
      "image/png": "[encoded data removed]",
      "text/plain": [
       "<Figure size 640x480 with 1 Axes>"
      ]
     },
     "metadata": {},
     "output_type": "display_data"
    }
   ],
   "source": [
    "lags = [6]\n",
    "X1_lag6 = pd.DataFrame(X1)  \n",
    "for lag in lags:\n",
    "  \n",
    "    X1_lag6['TLTA_lag'+str(lag)] = X1.groupby('company')['TLTA'].shift(lag)\n",
    "    X1_lag6['NITA_lag'+str(lag)] = X1.groupby('company')['NITA'].shift(lag)\n",
    "    X1_lag6['SIGMA_lag'+str(lag)] = X1.groupby('company')['SIGMA'].shift(lag)\n",
    "    X1_lag6['RSIZE_lag'+str(lag)] = X1.groupby('company')['RSIZE'].shift(lag)\n",
    "    X1_lag6['EXRET_lag'+str(lag)] = X1.groupby('company')['EXRET'].shift(lag)\n",
    "    \n",
    "print(X1_lag6.shape)\n",
    "print(Y1.shape)\n",
    "X1_lag6.drop(['NITA', 'TLTA', 'EXRET', 'SIGMA', 'RSIZE'], axis=1, inplace=True)\n",
    "X1_lag6.dropna(inplace=True)\n",
    "Y1 = Y1.loc[X1_lag6.index]\n",
    "\n",
    "X1_train, X1_test, Y1_train, Y1_test = train_test_split(X1_lag6, Y1.fillna(0), test_size=0.3, random_state=0)\n",
    "\n",
    "model6 = LogisticRegression(max_iter=1000, class_weight='balanced', solver='liblinear')\n",
    "model6.fit(X1_lag6, Y1.values.ravel())\n",
    "Y1_pred = model6.predict(X1_lag6)\n",
    "Y1_prob = model6.predict_proba(X1_lag6)\n",
    "print(accuracy_score(Y1, Y1_pred))\n",
    "print(confusion_matrix(Y1, Y1_pred))\n",
    "print(classification_report(Y1, Y1_pred))\n",
    "print(roc_auc_score(Y1, Y1_prob[:,1]))\n",
    "precision, recall, thresholds = precision_recall_curve(Y1, Y1_prob[:,1])\n",
    "plt.plot(recall, precision)\n",
    "plt.xlabel('Recall')\n",
    "plt.ylabel('Precision')\n",
    "plt.show()\n",
    "\n",
    "confusion_matrix_lag6 = pd.DataFrame(confusion_matrix(Y1, Y1_pred))\n",
    "classification_report_lag6 = pd.DataFrame(classification_report(Y1, Y1_pred, output_dict=True))\n"
   ]
  },
  {
   "cell_type": "code",
   "execution_count": null,
   "metadata": {},
   "outputs": [
    {
     "name": "stdout",
     "output_type": "stream",
     "text": [
      "(532917, 10)\n",
      "(498799, 1)\n",
      "0.633982729095179\n",
      "[[294005 169727]\n",
      " [   620   1055]]\n",
      "              precision    recall  f1-score   support\n",
      "\n",
      "         0.0       1.00      0.63      0.78    463732\n",
      "         1.0       0.01      0.63      0.01      1675\n",
      "\n",
      "    accuracy                           0.63    465407\n",
      "   macro avg       0.50      0.63      0.39    465407\n",
      "weighted avg       0.99      0.63      0.77    465407\n",
      "\n",
      "0.6792890882291638\n"
     ]
    },
    {
     "data": {
      "image/png": "[encoded data removed]",
      "text/plain": [
       "<Figure size 640x480 with 1 Axes>"
      ]
     },
     "metadata": {},
     "output_type": "display_data"
    }
   ],
   "source": [
    "lags = [12]\n",
    "X1_lag12 = pd.DataFrame(X1)\n",
    "\n",
    "for lag in lags:\n",
    "      \n",
    "     X1_lag12['TLTA_lag'+str(lag)] = X1.groupby('company')['TLTA'].shift(lag)\n",
    "     X1_lag12['NITA_lag'+str(lag)] = X1.groupby('company')['NITA'].shift(lag)\n",
    "     X1_lag12['SIGMA_lag'+str(lag)] = X1.groupby('company')['SIGMA'].shift(lag)\n",
    "     X1_lag12['RSIZE_lag'+str(lag)] = X1.groupby('company')['RSIZE'].shift(lag)\n",
    "     X1_lag12['EXRET_lag'+str(lag)] = X1.groupby('company')['EXRET'].shift(lag)\n",
    "     \n",
    "print(X1_lag12.shape)\n",
    "print(Y1.shape)\n",
    "X1_lag12.drop(['NITA', 'TLTA', 'EXRET', 'SIGMA', 'RSIZE'], axis=1, inplace=True)\n",
    "X1_lag12.dropna(inplace=True)\n",
    "Y1 = Y1.loc[X1_lag12.index]\n",
    "\n",
    "X1_train, X1_test, Y1_train, Y1_test = train_test_split(X1_lag12, Y1.fillna(0), test_size=0.3, random_state=0)\n",
    "model = LogisticRegression(max_iter=1000, class_weight='balanced', solver='liblinear')\n",
    "model.fit(X1_lag12, Y1.values.ravel())\n",
    "Y1_pred = model.predict(X1_lag12)\n",
    "Y1_prob = model.predict_proba(X1_lag12)\n",
    "print(accuracy_score(Y1, Y1_pred))\n",
    "print(confusion_matrix(Y1, Y1_pred))\n",
    "print(classification_report(Y1, Y1_pred))\n",
    "print(roc_auc_score(Y1, Y1_prob[:,1]))\n",
    "precision, recall, thresholds = precision_recall_curve(Y1, Y1_prob[:,1])\n",
    "plt.plot(recall, precision)\n",
    "plt.xlabel('Recall')\n",
    "plt.ylabel('Precision')\n",
    "plt.show()\n",
    "\n",
    "confusion_matrix_lag12 = pd.DataFrame(confusion_matrix(Y1, Y1_pred))\n",
    "classification_report_lag12 = pd.DataFrame(classification_report(Y1, Y1_pred, output_dict=True))\n",
    "\n"
   ]
  },
  {
   "cell_type": "code",
   "execution_count": null,
   "metadata": {},
   "outputs": [
    {
     "name": "stderr",
     "output_type": "stream",
     "text": [
      "C:\\Users\\Shashank\\AppData\\Local\\Packages\\PythonSoftwareFoundation.Python.3.11_qbz5n2kfra8p0\\LocalCache\\local-packages\\Python311\\site-packages\\statsmodels\\base\\optimizer.py:19: FutureWarning: Keyword arguments have been passed to the optimizer that have no effect. The list of allowed keyword arguments for method bfgs is: gtol, norm, epsilon. The list of unsupported keyword arguments passed include: max_start_irls. After release 0.14, this will raise.\n",
      "  warnings.warn(\n"
     ]
    },
    {
     "name": "stdout",
     "output_type": "stream",
     "text": [
      "Optimization terminated successfully.\n",
      "         Current function value: 0.025793\n",
      "         Iterations: 66\n",
      "         Function evaluations: 70\n",
      "         Gradient evaluations: 70\n"
     ]
    }
   ],
   "source": [
    "model12 = sm.Logit(Y1, X1_lag12.astype(float))\n",
    "result12 = model12.fit( maxiter=1000, method='bfgs', max_start_irls=100)\n",
    "Logit_lag12 = result12.summary().tables[1]\n",
    "Logit_lag12_1 = result12.summary().tables[0]\n",
    "Logit_lag12 = pd.DataFrame(Logit_lag12)\n",
    "Logit_lag12_1 = pd.DataFrame(Logit_lag12_1)\n"
   ]
  },
  {
   "cell_type": "code",
   "execution_count": null,
   "metadata": {},
   "outputs": [
    {
     "name": "stdout",
     "output_type": "stream",
     "text": [
      "(532917, 10)\n",
      "(465407, 1)\n",
      "0.6111559161526925\n",
      "[[263542 167715]\n",
      " [   553    929]]\n",
      "              precision    recall  f1-score   support\n",
      "\n",
      "         0.0       1.00      0.61      0.76    431257\n",
      "         1.0       0.01      0.63      0.01      1482\n",
      "\n",
      "    accuracy                           0.61    432739\n",
      "   macro avg       0.50      0.62      0.38    432739\n",
      "weighted avg       0.99      0.61      0.76    432739\n",
      "\n",
      "0.6598966108980164\n"
     ]
    },
    {
     "data": {
      "image/png": "[encoded data removed]",
      "text/plain": [
       "<Figure size 640x480 with 1 Axes>"
      ]
     },
     "metadata": {},
     "output_type": "display_data"
    }
   ],
   "source": [
    "lags = [18]\n",
    "X1_lag18 = pd.DataFrame(X1)\n",
    "\n",
    "for lag in lags:\n",
    "      \n",
    "     X1_lag18['TLTA_lag'+str(lag)] = X1.groupby('company')['TLTA'].shift(lag)\n",
    "     X1_lag18['NITA_lag'+str(lag)] = X1.groupby('company')['NITA'].shift(lag)\n",
    "     X1_lag18['SIGMA_lag'+str(lag)] = X1.groupby('company')['SIGMA'].shift(lag)\n",
    "     X1_lag18['RSIZE_lag'+str(lag)] = X1.groupby('company')['RSIZE'].shift(lag)\n",
    "     X1_lag18['EXRET_lag'+str(lag)] = X1.groupby('company')['EXRET'].shift(lag)\n",
    "     \n",
    "print(X1_lag18.shape)\n",
    "print(Y1.shape)\n",
    "X1_lag18.drop(['NITA', 'TLTA', 'EXRET', 'SIGMA', 'RSIZE'], axis=1, inplace=True)\n",
    "X1_lag18.dropna(inplace=True)\n",
    "Y1 = Y1.loc[X1_lag18.index]\n",
    "\n",
    "X1_train, X1_test, Y1_train, Y1_test = train_test_split(X1_lag18, Y1.fillna(0), test_size=0.3, random_state=0)\n",
    "model = LogisticRegression(max_iter=1000, class_weight='balanced', solver='liblinear')\n",
    "model.fit(X1_lag18, Y1.values.ravel())\n",
    "Y1_pred = model.predict(X1_lag18)\n",
    "Y1_prob = model.predict_proba(X1_lag18)\n",
    "print(accuracy_score(Y1, Y1_pred))\n",
    "print(confusion_matrix(Y1, Y1_pred))\n",
    "print(classification_report(Y1, Y1_pred))\n",
    "print(roc_auc_score(Y1, Y1_prob[:,1]))\n",
    "precision, recall, thresholds = precision_recall_curve(Y1, Y1_prob[:,1])\n",
    "plt.plot(recall, precision)\n",
    "plt.xlabel('Recall')\n",
    "plt.ylabel('Precision')\n",
    "plt.show()\n",
    "\n",
    "Confusion_matrix_lag18 = pd.DataFrame(confusion_matrix(Y1, Y1_pred))\n",
    "classification_report_lag18 = pd.DataFrame(classification_report(Y1, Y1_pred, output_dict=True))\n"
   ]
  },
  {
   "cell_type": "code",
   "execution_count": null,
   "metadata": {},
   "outputs": [
    {
     "name": "stderr",
     "output_type": "stream",
     "text": [
      "C:\\Users\\Shashank\\AppData\\Local\\Packages\\PythonSoftwareFoundation.Python.3.11_qbz5n2kfra8p0\\LocalCache\\local-packages\\Python311\\site-packages\\statsmodels\\base\\optimizer.py:19: FutureWarning: Keyword arguments have been passed to the optimizer that have no effect. The list of allowed keyword arguments for method bfgs is: gtol, norm, epsilon. The list of unsupported keyword arguments passed include: max_start_irls. After release 0.14, this will raise.\n",
      "  warnings.warn(\n"
     ]
    },
    {
     "name": "stdout",
     "output_type": "stream",
     "text": [
      "Optimization terminated successfully.\n",
      "         Current function value: 0.024831\n",
      "         Iterations: 69\n",
      "         Function evaluations: 72\n",
      "         Gradient evaluations: 72\n"
     ]
    }
   ],
   "source": [
    "model18 = sm.Logit(Y1, X1_lag18.astype(float))\n",
    "result18 = model18.fit( maxiter=1000, method='bfgs', max_start_irls=100)\n",
    "Logit_lag18 = result18.summary().tables[1]\n",
    "Logit_lag18_1 = result18.summary().tables[0]\n",
    "Logit_lag18 = pd.DataFrame(Logit_lag18)\n",
    "Logit_lag18_1 = pd.DataFrame(Logit_lag18_1)\n"
   ]
  },
  {
   "cell_type": "code",
   "execution_count": null,
   "metadata": {},
   "outputs": [
    {
     "name": "stdout",
     "output_type": "stream",
     "text": [
      "(532917, 10)\n",
      "(432739, 1)\n",
      "0.6047537496754608\n",
      "[[241434 157820]\n",
      " [   503    811]]\n",
      "              precision    recall  f1-score   support\n",
      "\n",
      "         0.0       1.00      0.60      0.75    399254\n",
      "         1.0       0.01      0.62      0.01      1314\n",
      "\n",
      "    accuracy                           0.60    400568\n",
      "   macro avg       0.50      0.61      0.38    400568\n",
      "weighted avg       0.99      0.60      0.75    400568\n",
      "\n",
      "0.6519114350699367\n"
     ]
    },
    {
     "data": {
      "image/png": "[encoded data removed]",
      "text/plain": [
       "<Figure size 640x480 with 1 Axes>"
      ]
     },
     "metadata": {},
     "output_type": "display_data"
    }
   ],
   "source": [
    "lags = [24]\n",
    "X1_lag24 = pd.DataFrame(X1)\n",
    "\n",
    "for lag in lags:\n",
    "      \n",
    "     X1_lag24['TLTA_lag'+str(lag)] = X1.groupby('company')['TLTA'].shift(lag)\n",
    "     X1_lag24['NITA_lag'+str(lag)] = X1.groupby('company')['NITA'].shift(lag)\n",
    "     X1_lag24['SIGMA_lag'+str(lag)] = X1.groupby('company')['SIGMA'].shift(lag)\n",
    "     X1_lag24['RSIZE_lag'+str(lag)] = X1.groupby('company')['RSIZE'].shift(lag)\n",
    "     X1_lag24['EXRET_lag'+str(lag)] = X1.groupby('company')['EXRET'].shift(lag)\n",
    "     \n",
    "print(X1_lag24.shape)\n",
    "print(Y1.shape)\n",
    "X1_lag24.drop(['NITA', 'TLTA', 'EXRET', 'SIGMA', 'RSIZE'], axis=1, inplace=True)\n",
    "X1_lag24.dropna(inplace=True)\n",
    "Y1 = Y1.loc[X1_lag24.index]\n",
    "\n",
    "X1_train, X1_test, Y1_train, Y1_test = train_test_split(X1_lag24, Y1.fillna(0), test_size=0.3, random_state=0)\n",
    "model = LogisticRegression(max_iter=1000, class_weight='balanced', solver='liblinear')\n",
    "model.fit(X1_lag24, Y1.values.ravel())\n",
    "Y1_pred = model.predict(X1_lag24)\n",
    "Y1_prob = model.predict_proba(X1_lag24)\n",
    "print(accuracy_score(Y1, Y1_pred))\n",
    "print(confusion_matrix(Y1, Y1_pred))\n",
    "print(classification_report(Y1, Y1_pred))\n",
    "print(roc_auc_score(Y1, Y1_prob[:,1]))\n",
    "precision, recall, thresholds = precision_recall_curve(Y1, Y1_prob[:,1])\n",
    "plt.plot(recall, precision)\n",
    "plt.xlabel('Recall')\n",
    "plt.ylabel('Precision')\n",
    "plt.show()\n",
    "\n",
    "confusion_matrix_lag24 = pd.DataFrame(confusion_matrix(Y1, Y1_pred))\n",
    "classification_report_lag24 = pd.DataFrame(classification_report(Y1, Y1_pred, output_dict=True))\n"
   ]
  },
  {
   "cell_type": "code",
   "execution_count": null,
   "metadata": {},
   "outputs": [
    {
     "name": "stderr",
     "output_type": "stream",
     "text": [
      "C:\\Users\\Shashank\\AppData\\Local\\Packages\\PythonSoftwareFoundation.Python.3.11_qbz5n2kfra8p0\\LocalCache\\local-packages\\Python311\\site-packages\\statsmodels\\base\\optimizer.py:19: FutureWarning: Keyword arguments have been passed to the optimizer that have no effect. The list of allowed keyword arguments for method bfgs is: gtol, norm, epsilon. The list of unsupported keyword arguments passed include: max_start_irls. After release 0.14, this will raise.\n",
      "  warnings.warn(\n"
     ]
    },
    {
     "name": "stdout",
     "output_type": "stream",
     "text": [
      "Optimization terminated successfully.\n",
      "         Current function value: 0.023995\n",
      "         Iterations: 70\n",
      "         Function evaluations: 73\n",
      "         Gradient evaluations: 73\n"
     ]
    }
   ],
   "source": [
    "model24 = sm.Logit(Y1, X1_lag24.astype(float))\n",
    "result24 = model24.fit( maxiter=1000, method='bfgs', max_start_irls=100)\n",
    "Logit_lag24 = result24.summary().tables[1]\n",
    "Logit_lag24_1 = result24.summary().tables[0]\n",
    "Logit_lag24 = pd.DataFrame(Logit_lag24)\n",
    "Logit_lag24_1 = pd.DataFrame(Logit_lag24_1)\n"
   ]
  },
  {
   "cell_type": "code",
   "execution_count": null,
   "metadata": {},
   "outputs": [
    {
     "name": "stdout",
     "output_type": "stream",
     "text": [
      "(532917, 10)\n",
      "(400568, 1)\n",
      "0.5679550901384839\n",
      "[[191827 145969]\n",
      " [   413    603]]\n",
      "              precision    recall  f1-score   support\n",
      "\n",
      "         0.0       1.00      0.57      0.72    337796\n",
      "         1.0       0.00      0.59      0.01      1016\n",
      "\n",
      "    accuracy                           0.57    338812\n",
      "   macro avg       0.50      0.58      0.37    338812\n",
      "weighted avg       0.99      0.57      0.72    338812\n",
      "\n",
      "0.6102143411487322\n"
     ]
    },
    {
     "data": {
      "image/png": "[encoded data removed]",
      "text/plain": [
       "<Figure size 640x480 with 1 Axes>"
      ]
     },
     "metadata": {},
     "output_type": "display_data"
    }
   ],
   "source": [
    "lags = [36]\n",
    "X1_lag36 = pd.DataFrame(X1)\n",
    "\n",
    "for lag in lags:\n",
    "      \n",
    "     X1_lag36['TLTA_lag'+str(lag)] = X1.groupby('company')['TLTA'].shift(lag)\n",
    "     X1_lag36['NITA_lag'+str(lag)] = X1.groupby('company')['NITA'].shift(lag)\n",
    "     X1_lag36['SIGMA_lag'+str(lag)] = X1.groupby('company')['SIGMA'].shift(lag)\n",
    "     X1_lag36['RSIZE_lag'+str(lag)] = X1.groupby('company')['RSIZE'].shift(lag)\n",
    "     X1_lag36['EXRET_lag'+str(lag)] = X1.groupby('company')['EXRET'].shift(lag)\n",
    "     \n",
    "print(X1_lag36.shape)\n",
    "print(Y1.shape)\n",
    "X1_lag36.drop(['NITA', 'TLTA', 'EXRET', 'SIGMA', 'RSIZE'], axis=1, inplace=True)\n",
    "X1_lag36.dropna(inplace=True)\n",
    "Y1 = Y1.loc[X1_lag36.index]\n",
    "\n",
    "X1_train, X1_test, Y1_train, Y1_test = train_test_split(X1_lag36, Y1.fillna(0), test_size=0.3, random_state=0)\n",
    "model = LogisticRegression(max_iter=1000, class_weight='balanced', solver='liblinear')\n",
    "model.fit(X1_lag36, Y1.values.ravel())\n",
    "Y1_pred = model.predict(X1_lag36)\n",
    "Y1_prob = model.predict_proba(X1_lag36)\n",
    "print(accuracy_score(Y1, Y1_pred))\n",
    "print(confusion_matrix(Y1, Y1_pred))\n",
    "print(classification_report(Y1, Y1_pred))\n",
    "print(roc_auc_score(Y1, Y1_prob[:,1]))\n",
    "precision, recall, thresholds = precision_recall_curve(Y1, Y1_prob[:,1])\n",
    "plt.plot(recall, precision)\n",
    "plt.xlabel('Recall')\n",
    "plt.ylabel('Precision')\n",
    "plt.show()\n",
    "\n",
    "confusion_matrix_lag36 = pd.DataFrame(confusion_matrix(Y1, Y1_pred))\n",
    "classification_report_lag36 = pd.DataFrame(classification_report(Y1, Y1_pred, output_dict=True))\n"
   ]
  },
  {
   "cell_type": "code",
   "execution_count": null,
   "metadata": {},
   "outputs": [
    {
     "name": "stderr",
     "output_type": "stream",
     "text": [
      "C:\\Users\\Shashank\\AppData\\Local\\Packages\\PythonSoftwareFoundation.Python.3.11_qbz5n2kfra8p0\\LocalCache\\local-packages\\Python311\\site-packages\\statsmodels\\base\\optimizer.py:19: FutureWarning: Keyword arguments have been passed to the optimizer that have no effect. The list of allowed keyword arguments for method bfgs is: gtol, norm, epsilon. The list of unsupported keyword arguments passed include: max_start_irls. After release 0.14, this will raise.\n",
      "  warnings.warn(\n"
     ]
    },
    {
     "name": "stdout",
     "output_type": "stream",
     "text": [
      "Optimization terminated successfully.\n",
      "         Current function value: 0.022326\n",
      "         Iterations: 69\n",
      "         Function evaluations: 72\n",
      "         Gradient evaluations: 72\n"
     ]
    }
   ],
   "source": [
    "model36 = sm.Logit(Y1, X1_lag36.astype(float))\n",
    "result36 = model36.fit( maxiter=1000, method='bfgs', max_start_irls=100)\n",
    "Logit_lag36 = result36.summary().tables[1]\n",
    "Logit_lag36_1 = result36.summary().tables[0]\n",
    "Logit_lag36 = pd.DataFrame(Logit_lag36)\n",
    "Logit_lag36_1 = pd.DataFrame(Logit_lag36_1)\n"
   ]
  },
  {
   "cell_type": "code",
   "execution_count": null,
   "metadata": {},
   "outputs": [],
   "source": [
    "file_out ='Chava Model_latest.xlsx'\n",
    "\n",
    "with pd.ExcelWriter(file_out,engine='openpyxl') as writer:\n",
    "    confusion_matrixtest.to_excel(writer, sheet_name='Confusion_Matrix_Test')\n",
    "    classification_reporttest.to_excel(writer, sheet_name='Classification_Report_Test')\n",
    "    confusion_matrixfull1.to_excel(writer, sheet_name='Confusion_Matrix_Full')\n",
    "    classification_reportfull1.to_excel(writer, sheet_name='Classification_Report_Full')\n",
    "    confusion_matrixtrain1.to_excel(writer, sheet_name='Confusion_Matrix_Train')\n",
    "    classification_reporttrain1.to_excel(writer, sheet_name='Classification_Report_Train')\n",
    "    descriptionfull.to_excel(writer, sheet_name='Logit_Model_Full')\n",
    "    descriptionfull1.to_excel(writer, sheet_name='Logit_Model_Full1')\n",
    "    descriptiontrain.to_excel(writer, sheet_name='Logit_Model_Train')\n",
    "    descriptiontrain1.to_excel(writer, sheet_name='Logit_Model_Train1')\n",
    "    descriptiontest.to_excel(writer, sheet_name='Logit_Model_Test')\n",
    "    descriptiontest1.to_excel(writer, sheet_name='Logit_Model_Test1')\n",
    "    confusion_matrix_lag6.to_excel(writer, sheet_name='Confusion_Matrix_Lag6')\n",
    "    classification_report_lag6.to_excel(writer, sheet_name='Classification_Report_Lag6')\n",
    "    Logit_lag6.to_excel(writer, sheet_name='Logit_Lag6')\n",
    "    Logit_lag6_1.to_excel(writer, sheet_name='Logit_Lag6_1')\n",
    "    Logit_lag12.to_excel(writer, sheet_name='Logit_Lag12')\n",
    "    Logit_lag12_1.to_excel(writer, sheet_name='Logit_Lag12_1')\n",
    "    Logit_lag18.to_excel(writer, sheet_name='Logit_Lag18')\n",
    "    Logit_lag18_1.to_excel(writer, sheet_name='Logit_Lag18_1')\n",
    "    Logit_lag24.to_excel(writer, sheet_name='Logit_Lag24')\n",
    "    Logit_lag24_1.to_excel(writer, sheet_name='Logit_Lag24_1')\n",
    "    Logit_lag36.to_excel(writer, sheet_name='Logit_Lag36')\n",
    "    \n",
    "    confusion_matrix_lag12.to_excel(writer, sheet_name='Confusion_Matrix_Lag12')\n",
    "    classification_report_lag12.to_excel(writer, sheet_name='Classification_Report_Lag12')\n",
    "    confusion_matrix_lag18.to_excel(writer, sheet_name='Confusion_Matrix_Lag18')\n",
    "    classification_report_lag18.to_excel(writer, sheet_name='Classification_Report_Lag18')\n",
    "    confusion_matrix_lag24.to_excel(writer, sheet_name='Confusion_Matrix_Lag24')\n",
    "    classification_report_lag24.to_excel(writer, sheet_name='Classification_Report_Lag24')\n",
    "    confusion_matrix_lag36.to_excel(writer, sheet_name='Confusion_Matrix_Lag36')\n",
    "    classification_report_lag36.to_excel(writer, sheet_name='Classification_Report_Lag36')\n",
    "    Y1_pred1.to_excel(writer, sheet_name='Y1_Pred1')\n",
    "    Y1_prob1.to_excel(writer, sheet_name='Y1_Prob1')\n",
    "    Y1_pred2.to_excel(writer, sheet_name='Y1_Pred2')\n",
    "    Y1_prob2.to_excel(writer, sheet_name='Y1_Prob2')\n",
    "    \n",
    "   \n",
    "    Y1.to_excel(writer, sheet_name='Y1')\n",
    "    X1.to_excel(writer, sheet_name='X1')\n",
    "    \n",
    "\n",
    "    All_firms_Summary.to_excel(writer, sheet_name='All_firms_Summary')\n",
    "    Failed_firms_Summary.to_excel(writer, sheet_name='Failed_firms_Summary')\n",
    "    Active_firms_Summary.to_excel(writer, sheet_name='Active_firms_Summary')\n",
    "    DF1pivot.to_excel(writer, sheet_name='DF1pivot')\n",
    "\n",
    "    \n"
   ]
  },
  {
   "cell_type": "code",
   "execution_count": null,
   "metadata": {},
   "outputs": [],
   "source": [
    "import  pandas as pd\n",
    "import numpy as np\n"
   ]
  },
  {
   "cell_type": "code",
   "execution_count": null,
   "metadata": {},
   "outputs": [],
   "source": [
    "file =\"Z-score Variables.xlsx\"\n",
    "\n"
   ]
  },
  {
   "cell_type": "code",
   "execution_count": null,
   "metadata": {},
   "outputs": [
    {
     "name": "stdout",
     "output_type": "stream",
     "text": [
      "                             WCTA\n",
      "company Date                     \n",
      "1       1986-12-31 00:00:00   NaN\n",
      "        1987-03-31 00:00:00   NaN\n",
      "        1987-06-30 00:00:00   NaN\n",
      "        1987-09-30 00:00:00   NaN\n",
      "        1987-12-31 00:00:00   NaN\n",
      "(862500, 1)\n",
      "               WCTA\n",
      "count  2.863180e+05\n",
      "mean  -6.606616e+01\n",
      "std    1.672668e+04\n",
      "min   -4.469031e+06\n",
      "25%    0.000000e+00\n",
      "50%    3.229990e-02\n",
      "75%    2.338758e-01\n",
      "max    1.000000e+00\n"
     ]
    }
   ],
   "source": [
    "WCTA = pd.read_excel(file, sheet_name='WCTA')\n",
    "WCTA = pd.melt(WCTA, id_vars=['Company'], var_name='Date', value_name='WCTA')\n",
    "WCTA = WCTA.rename(columns={'Company':'company'})\n",
    "WCTA = WCTA.set_index(['company', 'Date'])\n",
    "WCTA = WCTA.sort_index()\n",
    "print(WCTA.head())\n",
    "print(WCTA.shape)\n",
    "print(WCTA.describe())\n"
   ]
  },
  {
   "cell_type": "code",
   "execution_count": null,
   "metadata": {},
   "outputs": [
    {
     "name": "stdout",
     "output_type": "stream",
     "text": [
      "                    EBTA\n",
      "company Date            \n",
      "1       1986-12-31   NaN\n",
      "        1987-03-31   NaN\n",
      "        1987-06-30   NaN\n",
      "        1987-09-30   NaN\n",
      "        1987-12-31   NaN\n",
      "(856750, 1)\n",
      "               EBTA\n",
      "count  2.864350e+05\n",
      "mean  -1.611586e+02\n",
      "std    3.979838e+04\n",
      "min   -1.064467e+07\n",
      "25%   -1.486290e-01\n",
      "50%    5.525365e-02\n",
      "75%    2.798674e-01\n",
      "max    9.015474e+01\n"
     ]
    }
   ],
   "source": [
    "EBTA = pd.read_excel(file, sheet_name='EBTA')\n",
    "EBTA = pd.melt(EBTA, id_vars=['Company'], var_name='Date', value_name='EBTA')\n",
    "EBTA = EBTA.rename(columns={'Company':'company'})\n",
    "EBTA = EBTA.set_index(['company', 'Date'])\n",
    "EBTA = EBTA.sort_index()\n",
    "print(EBTA.head())\n",
    "print(EBTA.shape)\n",
    "print(EBTA.describe())\n"
   ]
  },
  {
   "cell_type": "code",
   "execution_count": null,
   "metadata": {},
   "outputs": [
    {
     "name": "stdout",
     "output_type": "stream",
     "text": [
      "                    SLTA\n",
      "company Date            \n",
      "1       1986-12-31   NaN\n",
      "        1987-03-31   NaN\n",
      "        1987-06-30   NaN\n",
      "        1987-09-30   NaN\n",
      "        1987-12-31   NaN\n",
      "(856750, 1)\n",
      "                SLTA\n",
      "count  286454.000000\n",
      "mean        1.035053\n",
      "std        50.133738\n",
      "min       -18.069767\n",
      "25%         0.067407\n",
      "50%         0.551229\n",
      "75%         1.271229\n",
      "max     13411.500000\n"
     ]
    }
   ],
   "source": [
    "SLTA = pd.read_excel(file, sheet_name='SLTA')\n",
    "SLTA = pd.melt(SLTA, id_vars=['Company'], var_name='Date', value_name='SLTA')\n",
    "SLTA = SLTA.rename(columns={'Company':'company'})\n",
    "SLTA = SLTA.set_index(['company', 'Date'])\n",
    "SLTA = SLTA.sort_index()\n",
    "print(SLTA.head())\n",
    "print(SLTA.shape)\n",
    "print(SLTA.describe())\n"
   ]
  },
  {
   "cell_type": "code",
   "execution_count": null,
   "metadata": {},
   "outputs": [
    {
     "name": "stdout",
     "output_type": "stream",
     "text": [
      "                    RETA\n",
      "company Date            \n",
      "1       1986-12-31   NaN\n",
      "        1987-03-31   NaN\n",
      "        1987-06-30   NaN\n",
      "        1987-09-30   NaN\n",
      "        1987-12-31   NaN\n",
      "(856750, 1)\n",
      "               RETA\n",
      "count  2.864350e+05\n",
      "mean  -1.611586e+02\n",
      "std    3.979838e+04\n",
      "min   -1.064467e+07\n",
      "25%   -1.486290e-01\n",
      "50%    5.525365e-02\n",
      "75%    2.798674e-01\n",
      "max    9.015474e+01\n"
     ]
    }
   ],
   "source": [
    "RETA = pd.read_excel(file, sheet_name='RETA')\n",
    "RETA = pd.melt(RETA, id_vars=['Company'], var_name='Date', value_name='RETA')\n",
    "RETA = RETA.rename(columns={'Company':'company'})\n",
    "RETA = RETA.set_index(['company', 'Date'])\n",
    "RETA = RETA.sort_index()\n",
    "print(RETA.head())\n",
    "print(RETA.shape)\n",
    "print(RETA.describe())\n"
   ]
  },
  {
   "cell_type": "code",
   "execution_count": null,
   "metadata": {},
   "outputs": [
    {
     "name": "stdout",
     "output_type": "stream",
     "text": [
      "                    MVTL\n",
      "company Date            \n",
      "1       1986-12-31   NaN\n",
      "        1987-03-31   NaN\n",
      "        1987-06-30   NaN\n",
      "        1987-09-30   NaN\n",
      "        1987-12-31   NaN\n",
      "(856750, 1)\n",
      "                MVTL\n",
      "count  286116.000000\n",
      "mean       31.830644\n",
      "std      1641.258344\n",
      "min     -1639.785240\n",
      "25%         0.611282\n",
      "50%         1.805482\n",
      "75%         6.001228\n",
      "max    421259.711286\n"
     ]
    }
   ],
   "source": [
    "MVTL = pd.read_excel(file, sheet_name='MVTL')\n",
    "MVTL = pd.melt(MVTL, id_vars=['Company'], var_name='Date', value_name='MVTL')\n",
    "MVTL = MVTL.rename(columns={'Company':'company'})\n",
    "MVTL = MVTL.set_index(['company', 'Date'])\n",
    "MVTL = MVTL.sort_index()\n",
    "print(MVTL.head())\n",
    "print(MVTL.shape)\n",
    "print(MVTL.describe())\n"
   ]
  },
  {
   "cell_type": "code",
   "execution_count": null,
   "metadata": {},
   "outputs": [
    {
     "name": "stdout",
     "output_type": "stream",
     "text": [
      "                    CFOTA\n",
      "company Date             \n",
      "1       1986-12-31    NaN\n",
      "        1987-03-31    NaN\n",
      "        1987-06-30    NaN\n",
      "        1987-09-30    NaN\n",
      "        1987-12-31    NaN\n",
      "(856750, 1)\n",
      "               CFOTA\n",
      "count  286334.000000\n",
      "mean       -0.615624\n",
      "std        97.305871\n",
      "min    -25462.000000\n",
      "25%        -0.015518\n",
      "50%         0.007863\n",
      "75%         0.078895\n",
      "max        77.072430\n"
     ]
    }
   ],
   "source": [
    "CFOTA = pd.read_excel(file, sheet_name='CFOTA')\n",
    "CFOTA = pd.melt(CFOTA, id_vars=['Company'], var_name='Date', value_name='CFOTA')\n",
    "CFOTA = CFOTA.rename(columns={'Company':'company'})\n",
    "CFOTA = CFOTA.set_index(['company', 'Date'])\n",
    "CFOTA = CFOTA.sort_index()\n",
    "print(CFOTA.head())\n",
    "print(CFOTA.shape)\n",
    "print(CFOTA.describe())\n"
   ]
  },
  {
   "cell_type": "code",
   "execution_count": null,
   "metadata": {},
   "outputs": [
    {
     "name": "stdout",
     "output_type": "stream",
     "text": [
      "                             WCTA  EBTA  SLTA  RETA  MVTL  CFOTA  Target\n",
      "company Date                                                            \n",
      "1       1986-12-31 00:00:00   NaN   NaN   NaN   NaN   NaN    NaN     NaN\n",
      "        1987-03-31 00:00:00   NaN   NaN   NaN   NaN   NaN    NaN     0.0\n",
      "        1987-06-30 00:00:00   NaN   NaN   NaN   NaN   NaN    NaN     0.0\n",
      "        1987-09-30 00:00:00   NaN   NaN   NaN   NaN   NaN    NaN     0.0\n",
      "        1987-12-31 00:00:00   NaN   NaN   NaN   NaN   NaN    NaN     0.0\n",
      "(2564500, 7)\n",
      "               WCTA          EBTA           SLTA          RETA           MVTL  \\\n",
      "count  2.863180e+05  2.864350e+05  286454.000000  2.864350e+05  286116.000000   \n",
      "mean  -6.606616e+01 -1.611586e+02       1.035053 -1.611586e+02      31.830644   \n",
      "std    1.672668e+04  3.979838e+04      50.133738  3.979838e+04    1641.258344   \n",
      "min   -4.469031e+06 -1.064467e+07     -18.069767 -1.064467e+07   -1639.785240   \n",
      "25%    0.000000e+00 -1.486290e-01       0.067407 -1.486290e-01       0.611282   \n",
      "50%    3.229990e-02  5.525365e-02       0.551229  5.525365e-02       1.805482   \n",
      "75%    2.338758e-01  2.798674e-01       1.271229  2.798674e-01       6.001228   \n",
      "max    1.000000e+00  9.015474e+01   13411.500000  9.015474e+01  421259.711286   \n",
      "\n",
      "               CFOTA        Target  \n",
      "count  286334.000000  2.553000e+06  \n",
      "mean       -0.615624  1.038778e-03  \n",
      "std        97.305871  3.221334e-02  \n",
      "min    -25462.000000  0.000000e+00  \n",
      "25%        -0.015518  0.000000e+00  \n",
      "50%         0.007863  0.000000e+00  \n",
      "75%         0.078895  0.000000e+00  \n",
      "max        77.072430  1.000000e+00  \n"
     ]
    }
   ],
   "source": [
    "DF2 = pd.concat([WCTA, EBTA, SLTA, RETA, MVTL, CFOTA,Target ], axis=1)\n",
    "\n",
    "DF2['WCTA'] = pd.to_numeric(DF2['WCTA'], errors='coerce')\n",
    "DF2['EBTA'] = pd.to_numeric(DF2['EBTA'], errors='coerce')\n",
    "DF2['SLTA'] = pd.to_numeric(DF2['SLTA'], errors='coerce')\n",
    "DF2['RETA'] = pd.to_numeric(DF2['RETA'], errors='coerce')\n",
    "DF2['MVTL'] = pd.to_numeric(DF2['MVTL'], errors='coerce')\n",
    "DF2['CFOTA'] = pd.to_numeric(DF2['CFOTA'], errors='coerce')\n",
    "\n",
    "print(DF2.head())\n",
    "print(DF2.shape)\n",
    "print(DF2.describe())\n"
   ]
  },
  {
   "cell_type": "code",
   "execution_count": null,
   "metadata": {},
   "outputs": [],
   "source": [
    "\n",
    "\n"
   ]
  },
  {
   "cell_type": "code",
   "execution_count": null,
   "metadata": {},
   "outputs": [
    {
     "name": "stdout",
     "output_type": "stream",
     "text": [
      "               WCTA          EBTA           SLTA          RETA           MVTL  \\\n",
      "count  2.859010e+05  2.860340e+05  286034.000000  2.860340e+05  286034.000000   \n",
      "mean  -6.616293e+01 -1.613843e+02       1.036182 -1.613843e+02      31.834448   \n",
      "std    1.673887e+04  3.982627e+04      50.170517  3.982627e+04    1641.493264   \n",
      "min   -4.469031e+06 -1.064467e+07     -18.069767 -1.064467e+07   -1639.785240   \n",
      "25%    0.000000e+00 -1.491935e-01       0.067925 -1.491935e-01       0.611508   \n",
      "50%    3.241113e-02  5.550193e-02       0.552599  5.550193e-02       1.805750   \n",
      "75%    2.338122e-01  2.798626e-01       1.271875  2.798626e-01       6.001864   \n",
      "max    1.000000e+00  9.015474e+01   13411.500000  9.015474e+01  421259.711286   \n",
      "\n",
      "               CFOTA         Target  \n",
      "count  285935.000000  286034.000000  \n",
      "mean       -0.616385       0.002923  \n",
      "std        97.373736       0.053983  \n",
      "min    -25462.000000       0.000000  \n",
      "25%        -0.015563       0.000000  \n",
      "50%         0.007991       0.000000  \n",
      "75%         0.078984       0.000000  \n",
      "max        77.072430       1.000000  \n",
      "(286034, 7)\n",
      "               WCTA          EBTA           SLTA          RETA           MVTL  \\\n",
      "count  2.859010e+05  2.860340e+05  286034.000000  2.860340e+05  286034.000000   \n",
      "mean  -6.616293e+01 -1.613843e+02       1.036182 -1.613843e+02      31.834448   \n",
      "std    1.673887e+04  3.982627e+04      50.170517  3.982627e+04    1641.493264   \n",
      "min   -4.469031e+06 -1.064467e+07     -18.069767 -1.064467e+07   -1639.785240   \n",
      "25%    0.000000e+00 -1.491935e-01       0.067925 -1.491935e-01       0.611508   \n",
      "50%    3.241113e-02  5.550193e-02       0.552599  5.550193e-02       1.805750   \n",
      "75%    2.338122e-01  2.798626e-01       1.271875  2.798626e-01       6.001864   \n",
      "max    1.000000e+00  9.015474e+01   13411.500000  9.015474e+01  421259.711286   \n",
      "\n",
      "               CFOTA         Target  \n",
      "count  285935.000000  286034.000000  \n",
      "mean       -0.616385       0.002923  \n",
      "std        97.373736       0.053983  \n",
      "min    -25462.000000       0.000000  \n",
      "25%        -0.015563       0.000000  \n",
      "50%         0.007991       0.000000  \n",
      "75%         0.078984       0.000000  \n",
      "max        77.072430       1.000000  \n"
     ]
    }
   ],
   "source": [
    "DF2['Target'] = DF2['Target'].fillna(0)\n",
    "DF2 = DF2.dropna(subset=[ 'EBTA', 'SLTA', 'MVTL'])\n",
    "\n",
    "print(DF2.describe())\n",
    "print(DF2.shape)\n",
    "print(DF2.describe())\n"
   ]
  },
  {
   "cell_type": "code",
   "execution_count": null,
   "metadata": {},
   "outputs": [
    {
     "name": "stdout",
     "output_type": "stream",
     "text": [
      "                WCTA           EBTA           SLTA           RETA  \\\n",
      "count  286034.000000  286034.000000  286034.000000  286034.000000   \n",
      "mean        0.119773      -0.217020       0.773026      -0.217020   \n",
      "std         0.221197       0.989614       0.771076       0.989614   \n",
      "min        -0.228912      -3.537127       0.000000      -3.537127   \n",
      "25%         0.000000      -0.149194       0.067925      -0.149194   \n",
      "50%         0.032579       0.055502       0.552599       0.055502   \n",
      "75%         0.234243       0.279863       1.271875       0.279863   \n",
      "max         0.651079       0.658346       2.567276       0.658346   \n",
      "\n",
      "                MVTL          CFOTA         Target  \n",
      "count  286034.000000  286034.000000  286034.000000  \n",
      "mean        9.439797      -0.001641       0.002923  \n",
      "std        19.648197       0.146085       0.053983  \n",
      "min         0.000000      -0.436379       0.000000  \n",
      "25%         0.611508      -0.015534       0.000000  \n",
      "50%         1.805750       0.008022       0.000000  \n",
      "75%         6.001864       0.079077       0.000000  \n",
      "max        79.652238       0.210534       1.000000  \n"
     ]
    },
    {
     "name": "stderr",
     "output_type": "stream",
     "text": [
      "C:\\Users\\Shashank\\AppData\\Local\\Packages\\PythonSoftwareFoundation.Python.3.11_qbz5n2kfra8p0\\LocalCache\\local-packages\\Python311\\site-packages\\numpy\\lib\\function_base.py:4824: UserWarning: Warning: 'partition' will ignore the 'mask' of the MaskedArray.\n",
      "  arr.partition(\n",
      "C:\\Users\\Shashank\\AppData\\Local\\Packages\\PythonSoftwareFoundation.Python.3.11_qbz5n2kfra8p0\\LocalCache\\local-packages\\Python311\\site-packages\\numpy\\lib\\function_base.py:4824: UserWarning: Warning: 'partition' will ignore the 'mask' of the MaskedArray.\n",
      "  arr.partition(\n",
      "C:\\Users\\Shashank\\AppData\\Local\\Packages\\PythonSoftwareFoundation.Python.3.11_qbz5n2kfra8p0\\LocalCache\\local-packages\\Python311\\site-packages\\numpy\\lib\\function_base.py:4824: UserWarning: Warning: 'partition' will ignore the 'mask' of the MaskedArray.\n",
      "  arr.partition(\n",
      "C:\\Users\\Shashank\\AppData\\Local\\Packages\\PythonSoftwareFoundation.Python.3.11_qbz5n2kfra8p0\\LocalCache\\local-packages\\Python311\\site-packages\\numpy\\lib\\function_base.py:4824: UserWarning: Warning: 'partition' will ignore the 'mask' of the MaskedArray.\n",
      "  arr.partition(\n",
      "C:\\Users\\Shashank\\AppData\\Local\\Packages\\PythonSoftwareFoundation.Python.3.11_qbz5n2kfra8p0\\LocalCache\\local-packages\\Python311\\site-packages\\numpy\\lib\\function_base.py:4824: UserWarning: Warning: 'partition' will ignore the 'mask' of the MaskedArray.\n",
      "  arr.partition(\n",
      "C:\\Users\\Shashank\\AppData\\Local\\Packages\\PythonSoftwareFoundation.Python.3.11_qbz5n2kfra8p0\\LocalCache\\local-packages\\Python311\\site-packages\\numpy\\lib\\function_base.py:4824: UserWarning: Warning: 'partition' will ignore the 'mask' of the MaskedArray.\n",
      "  arr.partition(\n",
      "C:\\Users\\Shashank\\AppData\\Local\\Packages\\PythonSoftwareFoundation.Python.3.11_qbz5n2kfra8p0\\LocalCache\\local-packages\\Python311\\site-packages\\numpy\\lib\\function_base.py:4824: UserWarning: Warning: 'partition' will ignore the 'mask' of the MaskedArray.\n",
      "  arr.partition(\n"
     ]
    }
   ],
   "source": [
    "DF2['WCTA'] = winsorize(DF2['WCTA'], limits=[0.05, 0.05])\n",
    "DF2['EBTA'] = winsorize(DF2['EBTA'], limits=[0.05, 0.05])\n",
    "DF2['SLTA'] = winsorize(DF2['SLTA'], limits=[0.05, 0.05])\n",
    "DF2['RETA'] = winsorize(DF2['RETA'], limits=[0.05, 0.05])\n",
    "DF2['MVTL'] = winsorize(DF2['MVTL'], limits=[0.05, 0.05])\n",
    "DF2['CFOTA'] = winsorize(DF2['CFOTA'], limits=[0.05, 0.05])\n",
    "print(DF2.describe())\n"
   ]
  },
  {
   "cell_type": "code",
   "execution_count": null,
   "metadata": {},
   "outputs": [],
   "source": [
    "\n",
    "DF2['CFOTA'] = DF2.groupby('Date')['CFOTA'].transform(lambda x: x.fillna(x.mean()))\n",
    "DF2['WCTA'] = DF2.groupby('Date')['WCTA'].transform(lambda x: x.fillna(x.mean()))\n",
    "\n",
    "\n",
    "DF2['RETA'] = DF2.groupby('Date')['RETA'].transform(lambda x: x.fillna(x.mean()))\n"
   ]
  },
  {
   "cell_type": "code",
   "execution_count": null,
   "metadata": {},
   "outputs": [
    {
     "name": "stdout",
     "output_type": "stream",
     "text": [
      "ROC AUC Score: 0.44\n",
      "Confusion Matrix:\n",
      "[[ 99761 185437]\n",
      " [   387    449]]\n"
     ]
    },
    {
     "data": {
      "image/png": "[encoded data removed]",
      "text/plain": [
       "<Figure size 640x480 with 1 Axes>"
      ]
     },
     "metadata": {},
     "output_type": "display_data"
    }
   ],
   "source": [
    "import numpy as np\n",
    "import pandas as pd\n",
    "from sklearn.metrics import roc_auc_score, confusion_matrix, roc_curve, auc\n",
    "import matplotlib.pyplot as plt\n",
    "\n",
    "# Function to calculate Altman Z-Score\n",
    "def altman_z_score(WCTA, RETA, EBTA, MVTL, SLTA):\n",
    "    \"\"\"\n",
    "    Calculate the Altman Z-Score.\n",
    "    \n",
    "    Parameters:\n",
    "    WCTA: float - Working Capital / Total Assets\n",
    "    RETA: float - Retained Earnings / Total Assets\n",
    "    EBTA: float - Earnings Before Interest and Tax (EBIT) / Total Assets\n",
    "    MVTL: float - Market Value of Equity / Total Liabilities\n",
    "    SLTA: float - Sales / Total Assets\n",
    "    \n",
    "    Returns:\n",
    "    Z: float - The Altman Z-Score\n",
    "    \"\"\"\n",
    "    Z = 1.2 * WCTA + 1.4 * RETA + 3.3 * EBTA + 0.6 * MVTL + 1.0 * SLTA\n",
    "    return Z\n",
    "\n",
    "# Assuming your DataFrame is named DF2 and has the required columns:\n",
    "# WCTA, RETA, EBTA, MVTL, SLTA, and Actual_Class (1 for non-distressed, 0 for distressed)\n",
    "\n",
    "# Calculate the Z-Scores\n",
    "DF2['Z_Score'] = DF2.apply(lambda row: altman_z_score(row['WCTA'], row['RETA'], row['EBTA'], row['MVTL'], row['SLTA']), axis=1)\n",
    "\n",
    "# Predicting based on Z-Score threshold\n",
    "threshold = 1.81\n",
    "DF2['Predicted_Class'] = np.where(DF2['Z_Score'] > threshold, 1, 0)\n",
    "\n",
    "# Calculate probabilities based on Z-Score (for ROC AUC)\n",
    "DF2['Probability'] = DF2['Z_Score'] / DF2['Z_Score'].max()\n",
    "\n",
    "# Calculate ROC AUC score\n",
    "roc_auc = roc_auc_score(DF2['Target'], DF2['Probability'])\n",
    "print(f'ROC AUC Score: {roc_auc:.2f}')\n",
    "\n",
    "# Confusion matrix\n",
    "cm = confusion_matrix(DF2['Target'], DF2['Predicted_Class'])\n",
    "print('Confusion Matrix:')\n",
    "print(cm)\n",
    "\n",
    "# ROC Curve\n",
    "fpr, tpr, _ = roc_curve(DF2['Target'], DF2['Probability'])\n",
    "roc_auc = auc(fpr, tpr)\n",
    "\n",
    "# Plotting the ROC Curve\n",
    "plt.figure()\n",
    "plt.plot(fpr, tpr, color='darkorange', lw=2, label=f'ROC curve (area = {roc_auc:.2f})')\n",
    "plt.plot([0, 1], [0, 1], color='navy', lw=2, linestyle='--')\n",
    "plt.xlim([0.0, 1.0])\n",
    "plt.ylim([0.0, 1.05])\n",
    "plt.xlabel('False Positive Rate')\n",
    "plt.ylabel('True Positive Rate')\n",
    "plt.title('ROC Curve')\n",
    "plt.legend(loc=\"lower right\")\n",
    "plt.show()\n"
   ]
  },
  {
   "cell_type": "code",
   "execution_count": null,
   "metadata": {},
   "outputs": [
    {
     "name": "stdout",
     "output_type": "stream",
     "text": [
      "ROC AUC Score: 0.47\n",
      "Confusion Matrix:\n",
      "[[ 98469 186729]\n",
      " [   241    595]]\n"
     ]
    },
    {
     "data": {
      "image/png": "[encoded data removed]",
      "text/plain": [
       "<Figure size 640x480 with 1 Axes>"
      ]
     },
     "metadata": {},
     "output_type": "display_data"
    }
   ],
   "source": [
    "import numpy as np\n",
    "import pandas as pd\n",
    "from sklearn.metrics import roc_auc_score, confusion_matrix, roc_curve, auc\n",
    "import matplotlib.pyplot as plt\n",
    "\n",
    "# Function to calculate J-UK Model ZJ score\n",
    "def j_uk_zj_score(WCTA, EBTA, SLTA, RETA, MVTL, CFOTA):\n",
    "    \"\"\"\n",
    "    Calculate the J-UK Model ZJ score.\n",
    "    \n",
    "    Parameters:\n",
    "    WCTA: float - Working Capital / Total Assets\n",
    "    EBTA: float - Earnings Before Interest and Tax / Total Assets\n",
    "    SLTA: float - Sales / Total Assets\n",
    "    RETA: float - Retained Earnings / Total Assets\n",
    "    MVTL: float - Market Value of Equity / Total Liabilities\n",
    "    CFOTA: float - Cash Flow from Operations / Total Assets\n",
    "    \n",
    "    Returns:\n",
    "    ZJ: float - The J-UK Model ZJ score\n",
    "    \"\"\"\n",
    "    ZJ = 1.484 * WCTA + 0.043 * EBTA + 0.390 * SLTA + 0.004 * RETA - 0.424 * MVTL + 0.75 * CFOTA\n",
    "    return ZJ\n",
    "\n",
    "# Assuming your DataFrame is named DF2 and has the required columns:\n",
    "# WCTA, EBTA, SLTA, RETA, MVTL, CFOTA, and Target (1 for non-distressed, 0 for distressed)\n",
    "\n",
    "# Calculate the ZJ scores\n",
    "DF2['ZJ_Score'] = DF2.apply(lambda row: j_uk_zj_score(row['WCTA'], row['EBTA'], row['SLTA'], row['RETA'], row['MVTL'], row['CFOTA']), axis=1)\n",
    "\n",
    "# Predicting based on ZJ score (you may choose a threshold)\n",
    "threshold = 0  # Example threshold, adjust based on your domain knowledge or specific requirements\n",
    "DF2['Predicted_Class'] = np.where(DF2['ZJ_Score'] < threshold, 1, 0)\n",
    "\n",
    "# Calculate probabilities based on ZJ Score (for ROC AUC)\n",
    "DF2['Probability'] = DF2['ZJ_Score'] / DF2['ZJ_Score'].max()\n",
    "\n",
    "# Calculate ROC AUC score\n",
    "roc_auc = roc_auc_score(DF2['Target'], DF2['Probability'])\n",
    "print(f'ROC AUC Score: {roc_auc:.2f}')\n",
    "\n",
    "# Confusion matrix\n",
    "cm = confusion_matrix(DF2['Target'], DF2['Predicted_Class'])\n",
    "print('Confusion Matrix:')\n",
    "print(cm)\n",
    "\n",
    "# ROC Curve\n",
    "fpr, tpr, _ = roc_curve(DF2['Target'], DF2['Probability'])\n",
    "roc_auc = auc(fpr, tpr)\n",
    "\n",
    "# Plotting the ROC Curve\n",
    "plt.figure()\n",
    "plt.plot(fpr, tpr, color='darkorange', lw=2, label=f'ROC curve (area = {roc_auc:.2f})')\n",
    "plt.plot([0, 1], [0, 1], color='navy', lw=2, linestyle='--')\n",
    "plt.xlim([0.0, 1.0])\n",
    "plt.ylim([0.0, 1.05])\n",
    "plt.xlabel('False Positive Rate')\n",
    "plt.ylabel('True Positive Rate')\n",
    "plt.title('ROC Curve')\n",
    "plt.legend(loc=\"lower right\")\n",
    "plt.show()\n"
   ]
  },
  {
   "cell_type": "code",
   "execution_count": null,
   "metadata": {},
   "outputs": [],
   "source": [
    "\n"
   ]
  },
  {
   "cell_type": "code",
   "execution_count": null,
   "metadata": {},
   "outputs": [],
   "source": [
    "DF3 = pd.concat([DF, DF2['Z_Score']], axis=1)\n",
    "\n",
    "\n"
   ]
  },
  {
   "cell_type": "code",
   "execution_count": null,
   "metadata": {},
   "outputs": [
    {
     "name": "stdout",
     "output_type": "stream",
     "text": [
      "0.8643649023728922\n",
      "[[53760  8371]\n",
      " [   83   115]]\n",
      "              precision    recall  f1-score   support\n",
      "\n",
      "         0.0       1.00      0.87      0.93     62131\n",
      "         1.0       0.01      0.58      0.03       198\n",
      "\n",
      "    accuracy                           0.86     62329\n",
      "   macro avg       0.51      0.72      0.48     62329\n",
      "weighted avg       1.00      0.86      0.92     62329\n",
      "\n",
      "0.7529184426063601\n"
     ]
    }
   ],
   "source": [
    "X2 = DF3.drop(['Target','NIMTA','EXRET'], axis=1).dropna()\n",
    "Y2 = DF3['Target'].fillna(0)\n",
    "Y2 = Y2.loc[X2.index]\n",
    "\n",
    "\n",
    "X2_train, X2_test, Y2_train, Y2_test = train_test_split(X2, Y2, test_size=0.3, random_state=0)\n",
    "\n",
    "model7 = LogisticRegression(max_iter=1000, class_weight='balanced', solver='liblinear')\n",
    "model7.fit(X2_train, Y2_train)\n",
    "Y2_pred = model7.predict(X2_test)\n",
    "Y2_prob = model7.predict_proba(X2_test)\n",
    "print(accuracy_score(Y2_test, Y2_pred))\n",
    "print(confusion_matrix(Y2_test, Y2_pred))\n",
    "print(classification_report(Y2_test, Y2_pred))\n",
    "print(roc_auc_score(Y2_test, Y2_prob[:,1]))\n",
    "\n",
    "confusion_matrixtest2 = pd.DataFrame(confusion_matrix(Y2_test, Y2_pred))\n",
    "classification_reporttest2 = pd.DataFrame(classification_report(Y2_test, Y2_pred, output_dict=True))\n",
    "\n",
    "Y2_pred = pd.DataFrame(Y2_pred, index=X2_test.index, columns=['Prediction'])\n",
    "\n",
    "Y2_prob = pd.DataFrame(Y2_prob, index=X2_test.index, columns=['Prob_0', 'Prob_1'])\n",
    "\n",
    "\n"
   ]
  },
  {
   "cell_type": "code",
   "execution_count": null,
   "metadata": {},
   "outputs": [
    {
     "name": "stdout",
     "output_type": "stream",
     "text": [
      "Optimization terminated successfully.\n",
      "         Current function value: 0.019403\n",
      "         Iterations: 111\n",
      "         Function evaluations: 117\n",
      "         Gradient evaluations: 117\n",
      "                           Logit Regression Results                           \n",
      "==============================================================================\n",
      "Dep. Variable:                 Target   No. Observations:               145434\n",
      "Model:                          Logit   Df Residuals:                   145424\n",
      "Method:                           MLE   Df Model:                            9\n",
      "Date:                Sun, 25 Aug 2024   Pseudo R-squ.:                  0.1364\n",
      "Time:                        13:24:30   Log-Likelihood:                -2821.8\n",
      "converged:                       True   LL-Null:                       -3267.4\n",
      "Covariance Type:            nonrobust   LLR p-value:                4.813e-186\n",
      "==============================================================================\n",
      "                 coef    std err          z      P>|z|      [0.025      0.975]\n",
      "------------------------------------------------------------------------------\n",
      "const         -7.1090      0.306    -23.197      0.000      -7.710      -6.508\n",
      "TLMTA         -0.0327      0.213     -0.153      0.878      -0.450       0.385\n",
      "CASHMTA        2.5452      0.472      5.397      0.000       1.621       3.469\n",
      "SIGMA         -0.6748      0.237     -2.853      0.004      -1.138      -0.211\n",
      "RSIZE          0.0399      0.063      0.633      0.527      -0.084       0.164\n",
      "MB             0.3659      0.013     28.413      0.000       0.341       0.391\n",
      "Price         -0.1393      0.062     -2.236      0.025      -0.261      -0.017\n",
      "EXRETAvg       0.1975      0.182      1.082      0.279      -0.160       0.555\n",
      "NIMTAAVG      -0.9509      0.667     -1.425      0.154      -2.259       0.357\n",
      "Z_Score        0.0121      0.004      3.270      0.001       0.005       0.019\n",
      "==============================================================================\n"
     ]
    }
   ],
   "source": [
    "X2_train = sm.add_constant(X2_train)\n",
    "model1 = sm.Logit(Y2_train, X2_train.astype(float))\n",
    "result1 = model1.fit( maxiter=1000, method='bfgs')\n",
    "print(result1.summary())\n",
    "\n"
   ]
  },
  {
   "cell_type": "code",
   "execution_count": null,
   "metadata": {},
   "outputs": [
    {
     "name": "stdout",
     "output_type": "stream",
     "text": [
      "0.8612698122379827\n",
      "[[178513  28564]\n",
      " [   259    427]]\n",
      "              precision    recall  f1-score   support\n",
      "\n",
      "         0.0       1.00      0.86      0.93    207077\n",
      "         1.0       0.01      0.62      0.03       686\n",
      "\n",
      "    accuracy                           0.86    207763\n",
      "   macro avg       0.51      0.74      0.48    207763\n",
      "weighted avg       1.00      0.86      0.92    207763\n",
      "\n",
      "0.776867687039867\n"
     ]
    }
   ],
   "source": [
    "LR1 = LogisticRegression(max_iter=1000, class_weight='balanced', solver='liblinear')\n",
    "LR1.fit(X2, Y2)\n",
    "Y2_pred = LR1.predict(X2)\n",
    "Y2_prob = LR1.predict_proba(X2)\n",
    "print(accuracy_score(Y2, Y2_pred))\n",
    "print(confusion_matrix(Y2, Y2_pred))\n",
    "print(classification_report(Y2, Y2_pred))\n",
    "print(roc_auc_score(Y2, Y2_prob[:,1]))\n",
    "\n",
    "confusion_matrixfull2 = pd.DataFrame(confusion_matrix(Y2, Y2_pred))\n",
    "classification_reportfull2 = pd.DataFrame(classification_report(Y2, Y2_pred, output_dict=True))\n",
    "\n",
    "Y2_pred = pd.DataFrame(Y2_pred, index=X2.index, columns=['Prediction'])\n",
    "\n",
    "Y2_prob = pd.DataFrame(Y2_prob, index=X2.index, columns=['Prob_0', 'Prob_1'])\n",
    "\n"
   ]
  },
  {
   "cell_type": "code",
   "execution_count": null,
   "metadata": {},
   "outputs": [
    {
     "name": "stdout",
     "output_type": "stream",
     "text": [
      "0.8402509265349998\n",
      "[[52252  9879]\n",
      " [   78   120]]\n",
      "              precision    recall  f1-score   support\n",
      "\n",
      "         0.0       1.00      0.84      0.91     62131\n",
      "         1.0       0.01      0.61      0.02       198\n",
      "\n",
      "    accuracy                           0.84     62329\n",
      "   macro avg       0.51      0.72      0.47     62329\n",
      "weighted avg       1.00      0.84      0.91     62329\n",
      "\n",
      "0.7696444251304144\n"
     ]
    }
   ],
   "source": [
    "LR2 = LogisticRegression(max_iter=1000, class_weight='balanced', solver='liblinear')\n",
    "LR2.fit(X2_test, Y2_test)\n",
    "Y2_pred = LR2.predict(X2_test)\n",
    "Y2_prob = LR2.predict_proba(X2_test)\n",
    "print(accuracy_score(Y2_test, Y2_pred))\n",
    "print(confusion_matrix(Y2_test, Y2_pred))\n",
    "print(classification_report(Y2_test, Y2_pred))\n",
    "print(roc_auc_score(Y2_test, Y2_prob[:,1]))\n",
    "\n",
    "confusion_matrixtest3 = pd.DataFrame(confusion_matrix(Y2_test, Y2_pred))\n",
    "classification_reporttest3 = pd.DataFrame(classification_report(Y2_test, Y2_pred, output_dict=True))\n",
    "\n",
    "\n",
    "\n"
   ]
  },
  {
   "cell_type": "code",
   "execution_count": null,
   "metadata": {},
   "outputs": [
    {
     "name": "stdout",
     "output_type": "stream",
     "text": [
      "0.8651759561037997\n",
      "[[125517  19429]\n",
      " [   179    309]]\n",
      "              precision    recall  f1-score   support\n",
      "\n",
      "         0.0       1.00      0.87      0.93    144946\n",
      "         1.0       0.02      0.63      0.03       488\n",
      "\n",
      "    accuracy                           0.87    145434\n",
      "   macro avg       0.51      0.75      0.48    145434\n",
      "weighted avg       1.00      0.87      0.92    145434\n",
      "\n",
      "0.7832997387608229\n"
     ]
    }
   ],
   "source": [
    "LR = LogisticRegression(max_iter=1000, class_weight='balanced', solver='liblinear')\n",
    "LR.fit(X2_train, Y2_train)\n",
    "Y2_pred = LR.predict(X2_train)\n",
    "Y2_prob = LR.predict_proba(X2_train)\n",
    "print(accuracy_score(Y2_train, Y2_pred))\n",
    "print(confusion_matrix(Y2_train, Y2_pred))\n",
    "print(classification_report(Y2_train, Y2_pred))\n",
    "print(roc_auc_score(Y2_train, Y2_prob[:,1]))\n",
    "\n",
    "confusion_matrixtrain2 = pd.DataFrame(confusion_matrix(Y2_train, Y2_pred))\n",
    "classification_reporttrain2 = pd.DataFrame(classification_report(Y2_train, Y2_pred, output_dict=True))\n",
    "\n"
   ]
  },
  {
   "cell_type": "code",
   "execution_count": null,
   "metadata": {},
   "outputs": [
    {
     "name": "stdout",
     "output_type": "stream",
     "text": [
      "Optimization terminated successfully.\n",
      "         Current function value: 0.019425\n",
      "         Iterations: 114\n",
      "         Function evaluations: 119\n",
      "         Gradient evaluations: 119\n",
      "                           Logit Regression Results                           \n",
      "==============================================================================\n",
      "Dep. Variable:                 Target   No. Observations:               207763\n",
      "Model:                          Logit   Df Residuals:                   207753\n",
      "Method:                           MLE   Df Model:                            9\n",
      "Date:                Sun, 25 Aug 2024   Pseudo R-squ.:                  0.1234\n",
      "Time:                        13:24:36   Log-Likelihood:                -4035.8\n",
      "converged:                       True   LL-Null:                       -4604.2\n",
      "Covariance Type:            nonrobust   LLR p-value:                5.570e-239\n",
      "==============================================================================\n",
      "                 coef    std err          z      P>|z|      [0.025      0.975]\n",
      "------------------------------------------------------------------------------\n",
      "const         -6.9929      0.258    -27.117      0.000      -7.498      -6.487\n",
      "TLMTA          0.0839      0.178      0.471      0.638      -0.266       0.433\n",
      "CASHMTA        2.4033      0.401      6.000      0.000       1.618       3.188\n",
      "SIGMA         -0.5116      0.202     -2.538      0.011      -0.907      -0.117\n",
      "RSIZE          0.0652      0.053      1.222      0.222      -0.039       0.170\n",
      "MB             0.3468      0.011     32.167      0.000       0.326       0.368\n",
      "Price         -0.1857      0.053     -3.531      0.000      -0.289      -0.083\n",
      "EXRETAvg       0.1438      0.153      0.938      0.348      -0.157       0.444\n",
      "NIMTAAVG      -0.5617      0.564     -0.997      0.319      -1.666       0.543\n",
      "Z_Score        0.0115      0.003      3.604      0.000       0.005       0.018\n",
      "==============================================================================\n"
     ]
    }
   ],
   "source": [
    "X2 = sm.add_constant(X2)\n",
    "model8 = sm.Logit(Y2, X2.astype(float))\n",
    "result2 = model8.fit( maxiter=1000, method='bfgs')\n",
    "print(result2.summary())\n",
    "\n",
    "descriptionfull2 = result2.summary().tables[1]\n",
    "descriptionfull2 = pd.DataFrame(descriptionfull2)\n",
    "descriptionfull21 = result2.summary().tables[0]\n",
    "descriptionfull21 = pd.DataFrame(descriptionfull21)\n"
   ]
  },
  {
   "cell_type": "code",
   "execution_count": null,
   "metadata": {},
   "outputs": [
    {
     "name": "stdout",
     "output_type": "stream",
     "text": [
      "Optimization terminated successfully.\n",
      "         Current function value: 0.019403\n",
      "         Iterations: 111\n",
      "         Function evaluations: 117\n",
      "         Gradient evaluations: 117\n",
      "                           Logit Regression Results                           \n",
      "==============================================================================\n",
      "Dep. Variable:                 Target   No. Observations:               145434\n",
      "Model:                          Logit   Df Residuals:                   145424\n",
      "Method:                           MLE   Df Model:                            9\n",
      "Date:                Sun, 25 Aug 2024   Pseudo R-squ.:                  0.1364\n",
      "Time:                        13:24:37   Log-Likelihood:                -2821.8\n",
      "converged:                       True   LL-Null:                       -3267.4\n",
      "Covariance Type:            nonrobust   LLR p-value:                4.813e-186\n",
      "==============================================================================\n",
      "                 coef    std err          z      P>|z|      [0.025      0.975]\n",
      "------------------------------------------------------------------------------\n",
      "const         -7.1090      0.306    -23.197      0.000      -7.710      -6.508\n",
      "TLMTA         -0.0327      0.213     -0.153      0.878      -0.450       0.385\n",
      "CASHMTA        2.5452      0.472      5.397      0.000       1.621       3.469\n",
      "SIGMA         -0.6748      0.237     -2.853      0.004      -1.138      -0.211\n",
      "RSIZE          0.0399      0.063      0.633      0.527      -0.084       0.164\n",
      "MB             0.3659      0.013     28.413      0.000       0.341       0.391\n",
      "Price         -0.1393      0.062     -2.236      0.025      -0.261      -0.017\n",
      "EXRETAvg       0.1975      0.182      1.082      0.279      -0.160       0.555\n",
      "NIMTAAVG      -0.9509      0.667     -1.425      0.154      -2.259       0.357\n",
      "Z_Score        0.0121      0.004      3.270      0.001       0.005       0.019\n",
      "==============================================================================\n"
     ]
    }
   ],
   "source": [
    "\n",
    "model9 = sm.Logit(Y2_train, X2_train.astype(float))\n",
    "result3 = model9.fit( maxiter=1000, method='bfgs')\n",
    "print(result3.summary())\n",
    "\n",
    "descriptiontrain2 = result3.summary().tables[1]\n",
    "descriptiontrain2 = pd.DataFrame(descriptiontrain2)\n",
    "descriptiontrain21 = result3.summary().tables[0]\n",
    "descriptiontrain21 = pd.DataFrame(descriptiontrain21)\n"
   ]
  },
  {
   "cell_type": "code",
   "execution_count": null,
   "metadata": {},
   "outputs": [
    {
     "name": "stdout",
     "output_type": "stream",
     "text": [
      "Optimization terminated successfully.\n",
      "         Current function value: 0.019356\n",
      "         Iterations: 110\n",
      "         Function evaluations: 119\n",
      "         Gradient evaluations: 119\n",
      "                           Logit Regression Results                           \n",
      "==============================================================================\n",
      "Dep. Variable:                 Target   No. Observations:                62329\n",
      "Model:                          Logit   Df Residuals:                    62319\n",
      "Method:                           MLE   Df Model:                            9\n",
      "Date:                Sun, 25 Aug 2024   Pseudo R-squ.:                 0.09738\n",
      "Time:                        13:24:38   Log-Likelihood:                -1206.4\n",
      "converged:                       True   LL-Null:                       -1336.6\n",
      "Covariance Type:            nonrobust   LLR p-value:                 6.625e-51\n",
      "==============================================================================\n",
      "                 coef    std err          z      P>|z|      [0.025      0.975]\n",
      "------------------------------------------------------------------------------\n",
      "const         -6.7226      0.479    -14.044      0.000      -7.661      -5.784\n",
      "TLMTA          0.3423      0.328      1.044      0.296      -0.300       0.985\n",
      "CASHMTA        2.1307      0.758      2.812      0.005       0.646       3.616\n",
      "SIGMA         -0.0586      0.386     -0.152      0.879      -0.814       0.697\n",
      "RSIZE          0.1347      0.100      1.342      0.180      -0.062       0.331\n",
      "MB             0.2999      0.020     15.021      0.000       0.261       0.339\n",
      "Price         -0.2997      0.098     -3.061      0.002      -0.492      -0.108\n",
      "EXRETAvg       0.0315      0.283      0.111      0.911      -0.523       0.586\n",
      "NIMTAAVG       0.5109      1.055      0.484      0.628      -1.557       2.579\n",
      "Z_Score        0.0088      0.006      1.400      0.162      -0.004       0.021\n",
      "==============================================================================\n"
     ]
    }
   ],
   "source": [
    "X2_test = sm.add_constant(X2_test)\n",
    "model10 = sm.Logit(Y2_test, X2_test.astype(float))\n",
    "result4 = model10.fit( maxiter=1000, method='bfgs')\n",
    "print(result4.summary())\n",
    "\n",
    "descriptiontest2 = result4.summary().tables[1]\n",
    "descriptiontest2 = pd.DataFrame(descriptiontest2)\n",
    "descriptiontest21 = result4.summary().tables[0]\n",
    "descriptiontest21 = pd.DataFrame(descriptiontest21)\n",
    "\n",
    "\n"
   ]
  },
  {
   "cell_type": "code",
   "execution_count": null,
   "metadata": {},
   "outputs": [
    {
     "name": "stdout",
     "output_type": "stream",
     "text": [
      "0.7768680812538697\n",
      "0.7422622197224675\n",
      "[[178516  28561]\n",
      " [   259    427]]\n",
      "              precision    recall  f1-score   support\n",
      "\n",
      "         0.0       1.00      0.86      0.93    207077\n",
      "         1.0       0.01      0.62      0.03       686\n",
      "\n",
      "    accuracy                           0.86    207763\n",
      "   macro avg       0.51      0.74      0.48    207763\n",
      "weighted avg       1.00      0.86      0.92    207763\n",
      "\n"
     ]
    }
   ],
   "source": [
    "LR = LogisticRegression(max_iter=1000, class_weight='balanced', solver='liblinear')\n",
    "LR.fit(X2, Y2)\n",
    "Y2_prob1 = LR.predict_proba(X2)\n",
    "Y2_pred1 = LR.predict(X2)\n",
    "print(roc_auc_score(Y2, Y2_prob1[:,1]))\n",
    "print(roc_auc_score(Y2, Y2_pred1))\n",
    "print(confusion_matrix(Y2, Y2_pred1))\n",
    "print(classification_report(Y2, Y2_pred1))\n",
    "\n",
    "confusion_matrixfull2 = pd.DataFrame(confusion_matrix(Y2, Y2_pred1), index=['Actual 0', 'Actual 1'], columns=['Predicted 0', 'Predicted 1'])\n",
    "classification_reportfull2 = pd.DataFrame(classification_report(Y2, Y2_pred1, output_dict=True))\n",
    "\n",
    "Y2_pred1 = pd.DataFrame(Y2_pred1, index=X2.index, columns=['Prediction'])\n",
    "Y2_prob1 = pd.DataFrame(Y2_prob1, index=X2.index, columns=['Prob_0', 'Prob_1'])\n",
    "\n",
    "\n",
    "file_out = 'Z-scorelatest.xlsx'\n",
    "\n",
    "with pd.ExcelWriter(file_out,engine='openpyxl') as writer:\n",
    "    confusion_matrixtest2.to_excel(writer, sheet_name='Confusion_Matrix_Test2')\n",
    "    classification_reporttest2.to_excel(writer, sheet_name='Classification_Report_Test2')\n",
    "    confusion_matrixfull2.to_excel(writer, sheet_name='Confusion_Matrix_Full2')\n",
    "    classification_reportfull2.to_excel(writer, sheet_name='Classification_Report_Full2')\n",
    "    confusion_matrixtrain2.to_excel(writer, sheet_name='Confusion_Matrix_Train2')\n",
    "    classification_reporttrain2.to_excel(writer, sheet_name='Classification_Report_Train2')\n",
    "    descriptionfull2.to_excel(writer, sheet_name='Logit_Model_Full2')\n",
    "    descriptionfull21.to_excel(writer, sheet_name='Logit_Model_Full21')\n",
    "    descriptiontrain2.to_excel(writer, sheet_name='Logit_Model_Train2')\n",
    "    descriptiontrain21.to_excel(writer, sheet_name='Logit_Model_Train21')\n",
    "    descriptiontest2.to_excel(writer, sheet_name='Logit_Model_Test2')\n",
    "    descriptiontest21.to_excel(writer, sheet_name='Logit_Model_Test21')\n",
    "    confusion_matrixtest3.to_excel(writer, sheet_name='Confusion_Matrix_Test3')\n",
    "    classification_reporttest3.to_excel(writer, sheet_name='Classification_Report_Test3')\n",
    "    \n",
    "   \n"
   ]
  },
  {
   "cell_type": "code",
   "execution_count": null,
   "metadata": {},
   "outputs": [
    {
     "name": "stdout",
     "output_type": "stream",
     "text": [
      "(207763, 9)\n",
      "(207763,)\n"
     ]
    }
   ],
   "source": [
    "DF4 = pd.concat([DF, DF2['ZJ_Score']], axis=1)\n",
    "\n",
    "X3 = DF4.drop(['Target','NIMTA','EXRET'], axis=1).dropna()\n",
    "Y3 = DF4['Target'].fillna(0)\n",
    "Y3 = Y3.loc[X3.index]\n",
    "print(X3.shape) \n",
    "print(Y3.shape)\n"
   ]
  },
  {
   "cell_type": "code",
   "execution_count": null,
   "metadata": {},
   "outputs": [
    {
     "name": "stdout",
     "output_type": "stream",
     "text": [
      "0.8639477610742993\n",
      "[[53734  8397]\n",
      " [   83   115]]\n",
      "              precision    recall  f1-score   support\n",
      "\n",
      "         0.0       1.00      0.86      0.93     62131\n",
      "         1.0       0.01      0.58      0.03       198\n",
      "\n",
      "    accuracy                           0.86     62329\n",
      "   macro avg       0.51      0.72      0.48     62329\n",
      "weighted avg       1.00      0.86      0.92     62329\n",
      "\n",
      "0.7526705954785334\n"
     ]
    }
   ],
   "source": [
    "X3_train, X3_test, Y3_train, Y3_test = train_test_split(X3, Y3, test_size=0.3, random_state=0)\n",
    "\n",
    "model_ZJ = LogisticRegression(max_iter=1000, class_weight='balanced', solver='liblinear')\n",
    "model_ZJ.fit(X3_train, Y3_train)\n",
    "Y3_pred = model_ZJ.predict(X3_test)\n",
    "Y3_prob = model_ZJ.predict_proba(X3_test)\n",
    "print(accuracy_score(Y3_test, Y3_pred))\n",
    "print(confusion_matrix(Y3_test, Y3_pred))\n",
    "print(classification_report(Y3_test, Y3_pred))\n",
    "print(roc_auc_score(Y3_test, Y3_prob[:,1]))\n",
    "\n",
    "confusion_matrixtest4 = pd.DataFrame(confusion_matrix(Y3_test, Y3_pred))\n",
    "classification_reporttest4 = pd.DataFrame(classification_report(Y3_test, Y3_pred, output_dict=True))\n",
    "\n",
    "Y3_pred = pd.DataFrame(Y3_pred, index=X3_test.index, columns=['Prediction'])\n",
    "Y3_prob = pd.DataFrame(Y3_prob, index=X3_test.index, columns=['Prob_0', 'Prob_1'])"
   ]
  },
  {
   "cell_type": "code",
   "execution_count": null,
   "metadata": {},
   "outputs": [
    {
     "name": "stdout",
     "output_type": "stream",
     "text": [
      "Optimization terminated successfully.\n",
      "         Current function value: 0.019437\n",
      "         Iterations: 118\n",
      "         Function evaluations: 122\n",
      "         Gradient evaluations: 122\n",
      "                           Logit Regression Results                           \n",
      "==============================================================================\n",
      "Dep. Variable:                 Target   No. Observations:               145434\n",
      "Model:                          Logit   Df Residuals:                   145424\n",
      "Method:                           MLE   Df Model:                            9\n",
      "Date:                Sun, 25 Aug 2024   Pseudo R-squ.:                  0.1348\n",
      "Time:                        13:24:43   Log-Likelihood:                -2826.8\n",
      "converged:                       True   LL-Null:                       -3267.4\n",
      "Covariance Type:            nonrobust   LLR p-value:                7.232e-184\n",
      "==============================================================================\n",
      "                 coef    std err          z      P>|z|      [0.025      0.975]\n",
      "------------------------------------------------------------------------------\n",
      "const         -6.7705      0.298    -22.691      0.000      -7.355      -6.186\n",
      "TLMTA         -0.3723      0.224     -1.660      0.097      -0.812       0.067\n",
      "CASHMTA        2.6944      0.470      5.732      0.000       1.773       3.616\n",
      "SIGMA         -0.7906      0.238     -3.327      0.001      -1.256      -0.325\n",
      "RSIZE          0.0630      0.063      1.000      0.317      -0.060       0.187\n",
      "MB             0.3639      0.013     28.096      0.000       0.339       0.389\n",
      "Price         -0.1378      0.062     -2.212      0.027      -0.260      -0.016\n",
      "EXRETAvg       0.1967      0.182      1.080      0.280      -0.160       0.554\n",
      "NIMTAAVG      -0.8262      0.668     -1.236      0.216      -2.136       0.484\n",
      "ZJ_Score       0.0011      0.006      0.176      0.860      -0.011       0.014\n",
      "==============================================================================\n"
     ]
    }
   ],
   "source": [
    "X3_train = sm.add_constant(X3_train)\n",
    "model1 = sm.Logit(Y3_train, X3_train.astype(float))\n",
    "result1 = model1.fit( maxiter=1000, method='bfgs')\n",
    "print(result1.summary())\n",
    "\n",
    "\n",
    "descriptiontrain2 = result1.summary().tables[1]\n",
    "descriptiontrain2 = pd.DataFrame(descriptiontrain2)\n",
    "descriptiontrain21 = result1.summary().tables[0]\n",
    "descriptiontrain21 = pd.DataFrame(descriptiontrain21)"
   ]
  },
  {
   "cell_type": "code",
   "execution_count": null,
   "metadata": {},
   "outputs": [
    {
     "name": "stdout",
     "output_type": "stream",
     "text": [
      "0.8606777915220708\n",
      "[[178390  28687]\n",
      " [   259    427]]\n",
      "              precision    recall  f1-score   support\n",
      "\n",
      "         0.0       1.00      0.86      0.92    207077\n",
      "         1.0       0.01      0.62      0.03       686\n",
      "\n",
      "    accuracy                           0.86    207763\n",
      "   macro avg       0.51      0.74      0.48    207763\n",
      "weighted avg       1.00      0.86      0.92    207763\n",
      "\n",
      "0.7767597287193814\n"
     ]
    }
   ],
   "source": [
    "model_ZJfull = LogisticRegression(max_iter=1000, class_weight='balanced', solver='liblinear')\n",
    "model_ZJfull.fit(X3, Y3)\n",
    "Y3_pred = model_ZJfull.predict(X3)\n",
    "Y3_prob = model_ZJfull.predict_proba(X3)\n",
    "print(accuracy_score(Y3, Y3_pred))\n",
    "print(confusion_matrix(Y3, Y3_pred))\n",
    "print(classification_report(Y3, Y3_pred))\n",
    "print(roc_auc_score(Y3, Y3_prob[:,1]))\n",
    "\n",
    "confusion_matrixfull3 = pd.DataFrame(confusion_matrix(Y3, Y3_pred))\n",
    "classification_reportfull3 = pd.DataFrame(classification_report(Y3, Y3_pred, output_dict=True))\n",
    "\n",
    "Y3_predfull = pd.DataFrame(Y3_pred, index=X3.index, columns=['Prediction'])\n",
    "Y3_probfull = pd.DataFrame(Y3_prob, index=X3.index, columns=['Prob_0', 'Prob_1'])\n"
   ]
  },
  {
   "cell_type": "code",
   "execution_count": null,
   "metadata": {},
   "outputs": [
    {
     "name": "stdout",
     "output_type": "stream",
     "text": [
      "Optimization terminated successfully.\n",
      "         Current function value: 0.019455\n",
      "         Iterations: 118\n",
      "         Function evaluations: 122\n",
      "         Gradient evaluations: 122\n",
      "                           Logit Regression Results                           \n",
      "==============================================================================\n",
      "Dep. Variable:                 Target   No. Observations:               207763\n",
      "Model:                          Logit   Df Residuals:                   207753\n",
      "Method:                           MLE   Df Model:                            9\n",
      "Date:                Sun, 25 Aug 2024   Pseudo R-squ.:                  0.1221\n",
      "Time:                        13:24:47   Log-Likelihood:                -4041.9\n",
      "converged:                       True   LL-Null:                       -4604.2\n",
      "Covariance Type:            nonrobust   LLR p-value:                2.443e-236\n",
      "==============================================================================\n",
      "                 coef    std err          z      P>|z|      [0.025      0.975]\n",
      "------------------------------------------------------------------------------\n",
      "const         -6.6859      0.251    -26.586      0.000      -7.179      -6.193\n",
      "TLMTA         -0.2198      0.188     -1.168      0.243      -0.589       0.149\n",
      "CASHMTA        2.5544      0.399      6.401      0.000       1.772       3.336\n",
      "SIGMA         -0.6154      0.202     -3.040      0.002      -1.012      -0.219\n",
      "RSIZE          0.0863      0.053      1.618      0.106      -0.018       0.191\n",
      "MB             0.3446      0.011     31.810      0.000       0.323       0.366\n",
      "Price         -0.1851      0.053     -3.518      0.000      -0.288      -0.082\n",
      "EXRETAvg       0.1457      0.153      0.951      0.341      -0.154       0.446\n",
      "NIMTAAVG      -0.4338      0.564     -0.770      0.442      -1.539       0.671\n",
      "ZJ_Score       0.0007      0.005      0.137      0.891      -0.010       0.011\n",
      "==============================================================================\n"
     ]
    }
   ],
   "source": [
    "X3 = sm.add_constant(X3)\n",
    "modelZJfull = sm.Logit(Y3, X3.astype(float))\n",
    "result2 = modelZJfull.fit( maxiter=1000, method='bfgs')\n",
    "print(result2.summary())\n",
    "\n",
    "descriptionfull2 = result2.summary().tables[1]\n",
    "descriptionfull2 = pd.DataFrame(descriptionfull2)\n",
    "descriptionfull21 = result2.summary().tables[0]\n",
    "descriptionfull21 = pd.DataFrame(descriptionfull21)\n"
   ]
  },
  {
   "cell_type": "code",
   "execution_count": null,
   "metadata": {},
   "outputs": [
    {
     "name": "stdout",
     "output_type": "stream",
     "text": [
      "0.864488358980706\n",
      "[[125416  19530]\n",
      " [   178    310]]\n",
      "              precision    recall  f1-score   support\n",
      "\n",
      "         0.0       1.00      0.87      0.93    144946\n",
      "         1.0       0.02      0.64      0.03       488\n",
      "\n",
      "    accuracy                           0.86    145434\n",
      "   macro avg       0.51      0.75      0.48    145434\n",
      "weighted avg       1.00      0.86      0.92    145434\n",
      "\n",
      "0.7828381055646954\n"
     ]
    }
   ],
   "source": [
    "model_ZJtrain = LogisticRegression(max_iter=1000, class_weight='balanced', solver='liblinear')\n",
    "model_ZJtrain.fit(X3_train, Y3_train)\n",
    "Y3_pred = model_ZJtrain.predict(X3_train)\n",
    "Y3_prob = model_ZJtrain.predict_proba(X3_train)\n",
    "print(accuracy_score(Y3_train, Y3_pred))\n",
    "print(confusion_matrix(Y3_train, Y3_pred))\n",
    "print(classification_report(Y3_train, Y3_pred))\n",
    "print(roc_auc_score(Y3_train, Y3_prob[:,1]))\n",
    "\n",
    "confusion_matrixtrain2 = pd.DataFrame(confusion_matrix(Y3_train, Y3_pred))\n",
    "classification_reporttrain2 = pd.DataFrame(classification_report(Y3_train, Y3_pred, output_dict=True))\n",
    "\n",
    "Y3_predtrain = pd.DataFrame(Y3_pred, index=X3_train.index, columns=['Prediction'])\n",
    "Y3_probtrain = pd.DataFrame(Y3_prob, index=X3_train.index, columns=['Prob_0', 'Prob_1'])\n"
   ]
  },
  {
   "cell_type": "code",
   "execution_count": null,
   "metadata": {},
   "outputs": [
    {
     "name": "stdout",
     "output_type": "stream",
     "text": [
      "Optimization terminated successfully.\n",
      "         Current function value: 0.019371\n",
      "         Iterations: 115\n",
      "         Function evaluations: 122\n",
      "         Gradient evaluations: 122\n",
      "                           Logit Regression Results                           \n",
      "==============================================================================\n",
      "Dep. Variable:                 Target   No. Observations:                62329\n",
      "Model:                          Logit   Df Residuals:                    62319\n",
      "Method:                           MLE   Df Model:                            9\n",
      "Date:                Sun, 25 Aug 2024   Pseudo R-squ.:                 0.09667\n",
      "Time:                        13:24:49   Log-Likelihood:                -1207.4\n",
      "converged:                       True   LL-Null:                       -1336.6\n",
      "Covariance Type:            nonrobust   LLR p-value:                 1.658e-50\n",
      "==============================================================================\n",
      "                 coef    std err          z      P>|z|      [0.025      0.975]\n",
      "------------------------------------------------------------------------------\n",
      "const         -6.5050      0.468    -13.886      0.000      -7.423      -5.587\n",
      "TLMTA          0.1294      0.348      0.372      0.710      -0.552       0.811\n",
      "CASHMTA        2.2662      0.754      3.007      0.003       0.789       3.743\n",
      "SIGMA         -0.1371      0.387     -0.354      0.723      -0.895       0.621\n",
      "RSIZE          0.1489      0.100      1.486      0.137      -0.048       0.345\n",
      "MB             0.2979      0.020     14.899      0.000       0.259       0.337\n",
      "Price         -0.3011      0.098     -3.065      0.002      -0.494      -0.109\n",
      "EXRETAvg       0.0272      0.283      0.096      0.923      -0.527       0.582\n",
      "NIMTAAVG       0.6332      1.052      0.602      0.547      -1.429       2.695\n",
      "ZJ_Score       0.0008      0.011      0.077      0.939      -0.020       0.022\n",
      "==============================================================================\n"
     ]
    }
   ],
   "source": [
    "X3_test = sm.add_constant(X3_test)\n",
    "model10 = sm.Logit(Y3_test, X3_test.astype(float))\n",
    "result4 = model10.fit( maxiter=1000, method='bfgs')\n",
    "print(result4.summary())\n",
    "\n",
    "descriptiontest2 = result4.summary().tables[1]\n",
    "descriptiontest2 = pd.DataFrame(descriptiontest2)\n",
    "descriptiontest21 = result4.summary().tables[0]\n",
    "descriptiontest21 = pd.DataFrame(descriptiontest21)\n"
   ]
  },
  {
   "cell_type": "code",
   "execution_count": null,
   "metadata": {},
   "outputs": [],
   "source": [
    "file_output =' ZJ-scorelatest.xlsx'\n",
    "\n",
    "\n",
    "\n",
    "\n",
    "\n",
    "with pd.ExcelWriter(file_output,engine='openpyxl') as writer:\n",
    "    confusion_matrixtest4.to_excel(writer, sheet_name='Confusion_Matrix_Test')\n",
    "    classification_reporttest4.to_excel(writer, sheet_name='Classification_Report_Test')\n",
    "    confusion_matrixfull3.to_excel(writer, sheet_name='Confusion_Matrix_Full')\n",
    "    classification_reportfull3.to_excel(writer, sheet_name='Classification_Report_Full')\n",
    "    descriptionfull2.to_excel(writer, sheet_name='Logit_Model_Full')\n",
    "    descriptionfull21.to_excel(writer, sheet_name='Logit_Model_Full1')\n",
    "    Y3_predfull.to_excel(writer, sheet_name='Y3_Pred1')\n",
    "    Y3_probfull.to_excel(writer, sheet_name='Y3_Prob1')\n",
    "    Y3.to_excel(writer, sheet_name='Y3')\n",
    "    X3.to_excel(writer, sheet_name='X3')\n",
    "    confusion_matrixtrain2.to_excel(writer, sheet_name='Confusion_Matrix_Train')\n",
    "    classification_reporttrain2.to_excel(writer, sheet_name='Classification_Report_Train')\n",
    "    descriptiontrain2.to_excel(writer, sheet_name='Logit_Model_Train')\n",
    "    descriptiontrain21.to_excel(writer, sheet_name='Logit_Model_Train1')\n",
    "    descriptiontest2.to_excel(writer, sheet_name='Logit_Model_Test')\n",
    "    descriptiontest21.to_excel(writer, sheet_name='Logit_Model_Test1')\n",
    "    Y3_predtrain.to_excel(writer, sheet_name='Y3_Pred2')\n",
    "    Y3_probtrain.to_excel(writer, sheet_name='Y3_Prob2')\n",
    "\n"
   ]
  }
 ],
 "metadata": {
  "kernelspec": {
   "display_name": "Python 3",
   "language": "python",
   "name": "python3"
  },
  "language_info": {
   "codemirror_mode": {
    "name": "ipython",
    "version": 3
   },
   "file_extension": ".py",
   "mimetype": "text/x-python",
   "name": "python",
   "nbconvert_exporter": "python",
   "pygments_lexer": "ipython3",
   "version": "3.11.2"
  }
 },
 "nbformat": 4,
 "nbformat_minor": 2
}
